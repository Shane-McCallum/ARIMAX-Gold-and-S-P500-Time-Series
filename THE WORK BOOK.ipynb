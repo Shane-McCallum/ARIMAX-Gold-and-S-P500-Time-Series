{
 "cells": [
  {
   "cell_type": "markdown",
   "metadata": {},
   "source": [
    "# Gold Comparison Capstone: Part 1 - Data Wrangling"
   ]
  },
  {
   "cell_type": "markdown",
   "metadata": {},
   "source": [
    "For this capstone I have collected a total of five different csv files. They are:\n",
    "1. \"Barrick Gold Corp 1985-2020.csv\"\n",
    "2. \"gold-price-last-ten-years.csv\"\n",
    "3. \"BTC-USD 2014-2020.csv\"\n",
    "4. \"silver history.csv\"\n",
    "5. \"SP500 2007-2020.csv\"\n",
    "\n",
    "The purpose of this capstone is to conduct a small scale test of the hypothesis that when the stock market goes down in value (represented by the S&P500 index), the value of gold increases. To test this further, I have included several other sets of data: the value of silver, the stock value of Barrick Gold Corp (a gold mining company), and the value of Bitcoin to the US dollar.\n",
    "\n",
    "Null Hypothesis: S&PP 500 index value dropping will not have a statistically significant positive effect on the stock value of Gold.\n",
    "\n",
    "The reasoning for including silver is to see if this trend is unique to gold, or if other precious metals increase in value as the stock market declines. \n",
    "\n",
    "The stock value of Barrick Gold Corp. is included in order to see if the stock value of gold mining companies also increases in value in correlation to the value of gold and the S&P500 index. \n",
    "\n",
    "Finally, Bitcoin has been included simply because of its volatile nature in comparison to the rest of the values.\n",
    "\n",
    "The final test for this data will be to construct a train/test pipeline that attempts to accurately predict the value of gold depending on the value of the other stocks and indexes provided.\n",
    "\n",
    "To begin, I will clean the data in order to properly merge and compare it in a single dataframe."
   ]
  },
  {
   "cell_type": "code",
   "execution_count": 1,
   "metadata": {},
   "outputs": [
    {
     "data": {
      "text/html": [
       "<div>\n",
       "<style scoped>\n",
       "    .dataframe tbody tr th:only-of-type {\n",
       "        vertical-align: middle;\n",
       "    }\n",
       "\n",
       "    .dataframe tbody tr th {\n",
       "        vertical-align: top;\n",
       "    }\n",
       "\n",
       "    .dataframe thead th {\n",
       "        text-align: right;\n",
       "    }\n",
       "</style>\n",
       "<table border=\"1\" class=\"dataframe\">\n",
       "  <thead>\n",
       "    <tr style=\"text-align: right;\">\n",
       "      <th></th>\n",
       "      <th>date</th>\n",
       "      <th>value</th>\n",
       "    </tr>\n",
       "  </thead>\n",
       "  <tbody>\n",
       "    <tr>\n",
       "      <th>0</th>\n",
       "      <td>2010-08-25</td>\n",
       "      <td>1237.50</td>\n",
       "    </tr>\n",
       "    <tr>\n",
       "      <th>1</th>\n",
       "      <td>2010-08-26</td>\n",
       "      <td>1240.25</td>\n",
       "    </tr>\n",
       "    <tr>\n",
       "      <th>2</th>\n",
       "      <td>2010-08-27</td>\n",
       "      <td>1234.50</td>\n",
       "    </tr>\n",
       "    <tr>\n",
       "      <th>3</th>\n",
       "      <td>2010-08-31</td>\n",
       "      <td>1233.50</td>\n",
       "    </tr>\n",
       "    <tr>\n",
       "      <th>4</th>\n",
       "      <td>2010-09-01</td>\n",
       "      <td>1250.00</td>\n",
       "    </tr>\n",
       "  </tbody>\n",
       "</table>\n",
       "</div>"
      ],
      "text/plain": [
       "         date    value\n",
       "0  2010-08-25  1237.50\n",
       "1  2010-08-26  1240.25\n",
       "2  2010-08-27  1234.50\n",
       "3  2010-08-31  1233.50\n",
       "4  2010-09-01  1250.00"
      ]
     },
     "execution_count": 1,
     "metadata": {},
     "output_type": "execute_result"
    }
   ],
   "source": [
    "# To begin, I will import the \"gold-price-last-ten-years.csv,\" and \"SP500 2007-2020.csv\" \n",
    "# in order to merge them together along the date column.\n",
    "\n",
    "import pandas as pd # for importing, reading, cleaning csv files\n",
    "import numpy as np # for maths, of course\n",
    "import matplotlib.pyplot as plt # so we can plot\n",
    "import seaborn as sns # so we can beautify the plots\n",
    "import statsmodels.api as sm # supports specifying models using R-style formulas and Pandas DataFrame.\n",
    "from statsmodels.graphics.api import abline_plot # For visualizing and evaluating predictions\n",
    "from sklearn.metrics import mean_squared_error, r2_score # Functions to measure regression performance\n",
    "from sklearn.model_selection import train_test_split # For splitting data effectively\n",
    "from sklearn import linear_model, preprocessing # For linear model functions and scaling, centering, normalizing,\n",
    "import warnings # For handling error messages.\n",
    "# Don't worry about the following two instructions: they just suppress warnings that could occur later. \n",
    "\n",
    "path = 'C:\\\\Users\\\\mccal\\\\Desktop\\\\Springboard Files\\\\Springboard Capstone data\\\\BTG Capstone\\\\'\n",
    "\n",
    "# There is a lot of text prior to the actual columns, so the header has \\\n",
    "# been set appropriatley.\n",
    "gold = pd.read_csv('gold-price-last-ten-years.csv', sep=',', header=8)\n",
    "\n",
    "gold.head()"
   ]
  },
  {
   "cell_type": "code",
   "execution_count": 2,
   "metadata": {},
   "outputs": [
    {
     "data": {
      "text/html": [
       "<div>\n",
       "<style scoped>\n",
       "    .dataframe tbody tr th:only-of-type {\n",
       "        vertical-align: middle;\n",
       "    }\n",
       "\n",
       "    .dataframe tbody tr th {\n",
       "        vertical-align: top;\n",
       "    }\n",
       "\n",
       "    .dataframe thead th {\n",
       "        text-align: right;\n",
       "    }\n",
       "</style>\n",
       "<table border=\"1\" class=\"dataframe\">\n",
       "  <thead>\n",
       "    <tr style=\"text-align: right;\">\n",
       "      <th></th>\n",
       "      <th>date</th>\n",
       "      <th>value</th>\n",
       "    </tr>\n",
       "  </thead>\n",
       "  <tbody>\n",
       "    <tr>\n",
       "      <th>1025</th>\n",
       "      <td>2014-09-17</td>\n",
       "      <td>1236.5</td>\n",
       "    </tr>\n",
       "    <tr>\n",
       "      <th>1026</th>\n",
       "      <td>2014-09-18</td>\n",
       "      <td>1223.0</td>\n",
       "    </tr>\n",
       "    <tr>\n",
       "      <th>1027</th>\n",
       "      <td>2014-09-19</td>\n",
       "      <td>1222.5</td>\n",
       "    </tr>\n",
       "    <tr>\n",
       "      <th>1028</th>\n",
       "      <td>2014-09-22</td>\n",
       "      <td>1214.0</td>\n",
       "    </tr>\n",
       "    <tr>\n",
       "      <th>1029</th>\n",
       "      <td>2014-09-23</td>\n",
       "      <td>1225.0</td>\n",
       "    </tr>\n",
       "  </tbody>\n",
       "</table>\n",
       "</div>"
      ],
      "text/plain": [
       "           date   value\n",
       "1025 2014-09-17  1236.5\n",
       "1026 2014-09-18  1223.0\n",
       "1027 2014-09-19  1222.5\n",
       "1028 2014-09-22  1214.0\n",
       "1029 2014-09-23  1225.0"
      ]
     },
     "execution_count": 2,
     "metadata": {},
     "output_type": "execute_result"
    }
   ],
   "source": [
    "# First things first, change 'date' column to actual date \n",
    "# format with 'pd.to_datetime()'\n",
    "gold['date']=pd.to_datetime(gold['date'])\n",
    "\n",
    "# Remove the dates we don't care aout from the data.\n",
    "focus = (gold['date'] > '2014-09-16') & (gold['date'] <= '2020-08-21')\n",
    "\n",
    "gold = gold.loc[focus]\n",
    "\n",
    "gold.head()"
   ]
  },
  {
   "cell_type": "code",
   "execution_count": 3,
   "metadata": {},
   "outputs": [
    {
     "data": {
      "text/html": [
       "<div>\n",
       "<style scoped>\n",
       "    .dataframe tbody tr th:only-of-type {\n",
       "        vertical-align: middle;\n",
       "    }\n",
       "\n",
       "    .dataframe tbody tr th {\n",
       "        vertical-align: top;\n",
       "    }\n",
       "\n",
       "    .dataframe thead th {\n",
       "        text-align: right;\n",
       "    }\n",
       "</style>\n",
       "<table border=\"1\" class=\"dataframe\">\n",
       "  <thead>\n",
       "    <tr style=\"text-align: right;\">\n",
       "      <th></th>\n",
       "      <th>Date</th>\n",
       "      <th>GLD(USD)</th>\n",
       "    </tr>\n",
       "  </thead>\n",
       "  <tbody>\n",
       "    <tr>\n",
       "      <th>1025</th>\n",
       "      <td>2014-09-17</td>\n",
       "      <td>1236.5</td>\n",
       "    </tr>\n",
       "    <tr>\n",
       "      <th>1026</th>\n",
       "      <td>2014-09-18</td>\n",
       "      <td>1223.0</td>\n",
       "    </tr>\n",
       "    <tr>\n",
       "      <th>1027</th>\n",
       "      <td>2014-09-19</td>\n",
       "      <td>1222.5</td>\n",
       "    </tr>\n",
       "    <tr>\n",
       "      <th>1028</th>\n",
       "      <td>2014-09-22</td>\n",
       "      <td>1214.0</td>\n",
       "    </tr>\n",
       "    <tr>\n",
       "      <th>1029</th>\n",
       "      <td>2014-09-23</td>\n",
       "      <td>1225.0</td>\n",
       "    </tr>\n",
       "  </tbody>\n",
       "</table>\n",
       "</div>"
      ],
      "text/plain": [
       "           Date  GLD(USD)\n",
       "1025 2014-09-17    1236.5\n",
       "1026 2014-09-18    1223.0\n",
       "1027 2014-09-19    1222.5\n",
       "1028 2014-09-22    1214.0\n",
       "1029 2014-09-23    1225.0"
      ]
     },
     "execution_count": 3,
     "metadata": {},
     "output_type": "execute_result"
    }
   ],
   "source": [
    "# Renaming the columns to something more 'formal' helps me visualize \n",
    "# the final plot and table I have in mind.\n",
    "gold.columns = ['Date', 'GLD(USD)']\n",
    "gold.head()"
   ]
  },
  {
   "cell_type": "code",
   "execution_count": 4,
   "metadata": {},
   "outputs": [
    {
     "data": {
      "text/html": [
       "<div>\n",
       "<style scoped>\n",
       "    .dataframe tbody tr th:only-of-type {\n",
       "        vertical-align: middle;\n",
       "    }\n",
       "\n",
       "    .dataframe tbody tr th {\n",
       "        vertical-align: top;\n",
       "    }\n",
       "\n",
       "    .dataframe thead th {\n",
       "        text-align: right;\n",
       "    }\n",
       "</style>\n",
       "<table border=\"1\" class=\"dataframe\">\n",
       "  <thead>\n",
       "    <tr style=\"text-align: right;\">\n",
       "      <th></th>\n",
       "      <th>count</th>\n",
       "      <th>%</th>\n",
       "    </tr>\n",
       "  </thead>\n",
       "  <tbody>\n",
       "    <tr>\n",
       "      <th>Date</th>\n",
       "      <td>0</td>\n",
       "      <td>0.0</td>\n",
       "    </tr>\n",
       "    <tr>\n",
       "      <th>GLD(USD)</th>\n",
       "      <td>0</td>\n",
       "      <td>0.0</td>\n",
       "    </tr>\n",
       "  </tbody>\n",
       "</table>\n",
       "</div>"
      ],
      "text/plain": [
       "          count    %\n",
       "Date          0  0.0\n",
       "GLD(USD)      0  0.0"
      ]
     },
     "execution_count": 4,
     "metadata": {},
     "output_type": "execute_result"
    }
   ],
   "source": [
    "# We are going to be checking for NaN values in the data quite \n",
    "# frequently in order to monitor changes and loss of data as we clean. \n",
    "# Best to write a function for checking NaN now and speed things up! Let's\n",
    "# have a function that gives us the percentage that NaN values make up in \n",
    "# the data.\n",
    "def show_na(df):\n",
    "    na_df = pd.concat([df.isnull().sum(), 100 * df.isnull().mean()], axis=1)\n",
    "    na_df.columns=['count', '%']\n",
    "    na_df.sort_values(by='count', ascending = False)\n",
    "    return na_df\n",
    "# Use the function\n",
    "show_na(gold)\n",
    "\n",
    "#Sweet, no Nan's thus far."
   ]
  },
  {
   "cell_type": "markdown",
   "metadata": {},
   "source": [
    "Now that I have imported and sorted Gold(GLD), it's time to bring in a second dataframe and begin merging them together. \n",
    "Each of the dataframes I have for this project have different start dates, but they all have the same end date. So, in order to have consistency across all of the data, I am going to import the Bitcoin(BTC) dataframe next, as it has the most recent start date of 09-17-2014.\n",
    "Then I will merge BTC along the 'Date' column of our main dataframe. This way the dataframe will only keep the dates which they share."
   ]
  },
  {
   "cell_type": "code",
   "execution_count": 5,
   "metadata": {},
   "outputs": [
    {
     "data": {
      "text/html": [
       "<div>\n",
       "<style scoped>\n",
       "    .dataframe tbody tr th:only-of-type {\n",
       "        vertical-align: middle;\n",
       "    }\n",
       "\n",
       "    .dataframe tbody tr th {\n",
       "        vertical-align: top;\n",
       "    }\n",
       "\n",
       "    .dataframe thead th {\n",
       "        text-align: right;\n",
       "    }\n",
       "</style>\n",
       "<table border=\"1\" class=\"dataframe\">\n",
       "  <thead>\n",
       "    <tr style=\"text-align: right;\">\n",
       "      <th></th>\n",
       "      <th>Date</th>\n",
       "      <th>Open</th>\n",
       "      <th>High</th>\n",
       "      <th>Low</th>\n",
       "      <th>Close</th>\n",
       "      <th>Adj Close</th>\n",
       "      <th>Volume</th>\n",
       "    </tr>\n",
       "  </thead>\n",
       "  <tbody>\n",
       "    <tr>\n",
       "      <th>0</th>\n",
       "      <td>2014-09-17</td>\n",
       "      <td>465.864014</td>\n",
       "      <td>468.174011</td>\n",
       "      <td>452.421997</td>\n",
       "      <td>457.334015</td>\n",
       "      <td>457.334015</td>\n",
       "      <td>21056800.0</td>\n",
       "    </tr>\n",
       "    <tr>\n",
       "      <th>1</th>\n",
       "      <td>2014-09-18</td>\n",
       "      <td>456.859985</td>\n",
       "      <td>456.859985</td>\n",
       "      <td>413.104004</td>\n",
       "      <td>424.440002</td>\n",
       "      <td>424.440002</td>\n",
       "      <td>34483200.0</td>\n",
       "    </tr>\n",
       "    <tr>\n",
       "      <th>2</th>\n",
       "      <td>2014-09-19</td>\n",
       "      <td>424.102997</td>\n",
       "      <td>427.834991</td>\n",
       "      <td>384.532013</td>\n",
       "      <td>394.795990</td>\n",
       "      <td>394.795990</td>\n",
       "      <td>37919700.0</td>\n",
       "    </tr>\n",
       "    <tr>\n",
       "      <th>3</th>\n",
       "      <td>2014-09-20</td>\n",
       "      <td>394.673004</td>\n",
       "      <td>423.295990</td>\n",
       "      <td>389.882996</td>\n",
       "      <td>408.903992</td>\n",
       "      <td>408.903992</td>\n",
       "      <td>36863600.0</td>\n",
       "    </tr>\n",
       "    <tr>\n",
       "      <th>4</th>\n",
       "      <td>2014-09-21</td>\n",
       "      <td>408.084991</td>\n",
       "      <td>412.425995</td>\n",
       "      <td>393.181000</td>\n",
       "      <td>398.821014</td>\n",
       "      <td>398.821014</td>\n",
       "      <td>26580100.0</td>\n",
       "    </tr>\n",
       "  </tbody>\n",
       "</table>\n",
       "</div>"
      ],
      "text/plain": [
       "         Date        Open        High         Low       Close   Adj Close  \\\n",
       "0  2014-09-17  465.864014  468.174011  452.421997  457.334015  457.334015   \n",
       "1  2014-09-18  456.859985  456.859985  413.104004  424.440002  424.440002   \n",
       "2  2014-09-19  424.102997  427.834991  384.532013  394.795990  394.795990   \n",
       "3  2014-09-20  394.673004  423.295990  389.882996  408.903992  408.903992   \n",
       "4  2014-09-21  408.084991  412.425995  393.181000  398.821014  398.821014   \n",
       "\n",
       "       Volume  \n",
       "0  21056800.0  \n",
       "1  34483200.0  \n",
       "2  37919700.0  \n",
       "3  36863600.0  \n",
       "4  26580100.0  "
      ]
     },
     "execution_count": 5,
     "metadata": {},
     "output_type": "execute_result"
    }
   ],
   "source": [
    "# Import the Bitcoin csv as BTC \n",
    "BTC = pd.read_csv('BTC-USD 2014-2020.csv')\n",
    "BTC.head()"
   ]
  },
  {
   "cell_type": "code",
   "execution_count": 6,
   "metadata": {},
   "outputs": [
    {
     "data": {
      "text/html": [
       "<div>\n",
       "<style scoped>\n",
       "    .dataframe tbody tr th:only-of-type {\n",
       "        vertical-align: middle;\n",
       "    }\n",
       "\n",
       "    .dataframe tbody tr th {\n",
       "        vertical-align: top;\n",
       "    }\n",
       "\n",
       "    .dataframe thead th {\n",
       "        text-align: right;\n",
       "    }\n",
       "</style>\n",
       "<table border=\"1\" class=\"dataframe\">\n",
       "  <thead>\n",
       "    <tr style=\"text-align: right;\">\n",
       "      <th></th>\n",
       "      <th>Date</th>\n",
       "      <th>BTC(USD)</th>\n",
       "    </tr>\n",
       "  </thead>\n",
       "  <tbody>\n",
       "    <tr>\n",
       "      <th>0</th>\n",
       "      <td>2014-09-17</td>\n",
       "      <td>457.334015</td>\n",
       "    </tr>\n",
       "    <tr>\n",
       "      <th>1</th>\n",
       "      <td>2014-09-18</td>\n",
       "      <td>424.440002</td>\n",
       "    </tr>\n",
       "    <tr>\n",
       "      <th>2</th>\n",
       "      <td>2014-09-19</td>\n",
       "      <td>394.795990</td>\n",
       "    </tr>\n",
       "    <tr>\n",
       "      <th>3</th>\n",
       "      <td>2014-09-20</td>\n",
       "      <td>408.903992</td>\n",
       "    </tr>\n",
       "    <tr>\n",
       "      <th>4</th>\n",
       "      <td>2014-09-21</td>\n",
       "      <td>398.821014</td>\n",
       "    </tr>\n",
       "  </tbody>\n",
       "</table>\n",
       "</div>"
      ],
      "text/plain": [
       "         Date    BTC(USD)\n",
       "0  2014-09-17  457.334015\n",
       "1  2014-09-18  424.440002\n",
       "2  2014-09-19  394.795990\n",
       "3  2014-09-20  408.903992\n",
       "4  2014-09-21  398.821014"
      ]
     },
     "execution_count": 6,
     "metadata": {},
     "output_type": "execute_result"
    }
   ],
   "source": [
    "# Since we are only concerned with the closing value, we will drop the other\n",
    "# columns and keep only 'Date,' and 'Adj Close,' columns.\n",
    "BTC = BTC[['Date', 'Adj Close']]\n",
    "BTC.columns = ['Date', 'BTC(USD)']\n",
    "\n",
    "# Just to be sure before we do our first merge, I set the time frame that we\n",
    "# care about again.\n",
    "focus = (BTC['Date'] > '2014-09-16') & (BTC['Date'] <= '2020-08-21')\n",
    "\n",
    "BTC = BTC.loc[focus]\n",
    "\n",
    "BTC.head()"
   ]
  },
  {
   "cell_type": "code",
   "execution_count": 7,
   "metadata": {},
   "outputs": [
    {
     "data": {
      "text/html": [
       "<div>\n",
       "<style scoped>\n",
       "    .dataframe tbody tr th:only-of-type {\n",
       "        vertical-align: middle;\n",
       "    }\n",
       "\n",
       "    .dataframe tbody tr th {\n",
       "        vertical-align: top;\n",
       "    }\n",
       "\n",
       "    .dataframe thead th {\n",
       "        text-align: right;\n",
       "    }\n",
       "</style>\n",
       "<table border=\"1\" class=\"dataframe\">\n",
       "  <thead>\n",
       "    <tr style=\"text-align: right;\">\n",
       "      <th></th>\n",
       "      <th>Date</th>\n",
       "      <th>BTC(USD)</th>\n",
       "    </tr>\n",
       "  </thead>\n",
       "  <tbody>\n",
       "    <tr>\n",
       "      <th>0</th>\n",
       "      <td>2014-09-17</td>\n",
       "      <td>457.334015</td>\n",
       "    </tr>\n",
       "    <tr>\n",
       "      <th>1</th>\n",
       "      <td>2014-09-18</td>\n",
       "      <td>424.440002</td>\n",
       "    </tr>\n",
       "    <tr>\n",
       "      <th>2</th>\n",
       "      <td>2014-09-19</td>\n",
       "      <td>394.795990</td>\n",
       "    </tr>\n",
       "    <tr>\n",
       "      <th>3</th>\n",
       "      <td>2014-09-20</td>\n",
       "      <td>408.903992</td>\n",
       "    </tr>\n",
       "    <tr>\n",
       "      <th>4</th>\n",
       "      <td>2014-09-21</td>\n",
       "      <td>398.821014</td>\n",
       "    </tr>\n",
       "  </tbody>\n",
       "</table>\n",
       "</div>"
      ],
      "text/plain": [
       "        Date    BTC(USD)\n",
       "0 2014-09-17  457.334015\n",
       "1 2014-09-18  424.440002\n",
       "2 2014-09-19  394.795990\n",
       "3 2014-09-20  408.903992\n",
       "4 2014-09-21  398.821014"
      ]
     },
     "execution_count": 7,
     "metadata": {},
     "output_type": "execute_result"
    }
   ],
   "source": [
    "# Don't forget to convert the 'Date' column with pd.to_datetime()\n",
    "BTC['Date']=pd.to_datetime(BTC['Date'])\n",
    "BTC.head()"
   ]
  },
  {
   "cell_type": "code",
   "execution_count": 8,
   "metadata": {},
   "outputs": [
    {
     "data": {
      "text/html": [
       "<div>\n",
       "<style scoped>\n",
       "    .dataframe tbody tr th:only-of-type {\n",
       "        vertical-align: middle;\n",
       "    }\n",
       "\n",
       "    .dataframe tbody tr th {\n",
       "        vertical-align: top;\n",
       "    }\n",
       "\n",
       "    .dataframe thead th {\n",
       "        text-align: right;\n",
       "    }\n",
       "</style>\n",
       "<table border=\"1\" class=\"dataframe\">\n",
       "  <thead>\n",
       "    <tr style=\"text-align: right;\">\n",
       "      <th></th>\n",
       "      <th>count</th>\n",
       "      <th>%</th>\n",
       "    </tr>\n",
       "  </thead>\n",
       "  <tbody>\n",
       "    <tr>\n",
       "      <th>Date</th>\n",
       "      <td>0</td>\n",
       "      <td>0.000000</td>\n",
       "    </tr>\n",
       "    <tr>\n",
       "      <th>BTC(USD)</th>\n",
       "      <td>1</td>\n",
       "      <td>0.046168</td>\n",
       "    </tr>\n",
       "  </tbody>\n",
       "</table>\n",
       "</div>"
      ],
      "text/plain": [
       "          count         %\n",
       "Date          0  0.000000\n",
       "BTC(USD)      1  0.046168"
      ]
     },
     "execution_count": 8,
     "metadata": {},
     "output_type": "execute_result"
    }
   ],
   "source": [
    "# Check for Nan\n",
    "show_na(BTC)"
   ]
  },
  {
   "cell_type": "code",
   "execution_count": 9,
   "metadata": {},
   "outputs": [],
   "source": [
    "# Let's forward fill (ffill) that one Nan.\n",
    "BTC = BTC.fillna(axis=0, method='ffill')"
   ]
  },
  {
   "cell_type": "code",
   "execution_count": 10,
   "metadata": {},
   "outputs": [
    {
     "data": {
      "text/html": [
       "<div>\n",
       "<style scoped>\n",
       "    .dataframe tbody tr th:only-of-type {\n",
       "        vertical-align: middle;\n",
       "    }\n",
       "\n",
       "    .dataframe tbody tr th {\n",
       "        vertical-align: top;\n",
       "    }\n",
       "\n",
       "    .dataframe thead th {\n",
       "        text-align: right;\n",
       "    }\n",
       "</style>\n",
       "<table border=\"1\" class=\"dataframe\">\n",
       "  <thead>\n",
       "    <tr style=\"text-align: right;\">\n",
       "      <th></th>\n",
       "      <th>Date</th>\n",
       "      <th>BTC(USD)</th>\n",
       "      <th>GLD(USD)</th>\n",
       "    </tr>\n",
       "  </thead>\n",
       "  <tbody>\n",
       "    <tr>\n",
       "      <th>0</th>\n",
       "      <td>2014-09-17</td>\n",
       "      <td>457.334015</td>\n",
       "      <td>1236.5</td>\n",
       "    </tr>\n",
       "    <tr>\n",
       "      <th>1</th>\n",
       "      <td>2014-09-18</td>\n",
       "      <td>424.440002</td>\n",
       "      <td>1223.0</td>\n",
       "    </tr>\n",
       "    <tr>\n",
       "      <th>2</th>\n",
       "      <td>2014-09-19</td>\n",
       "      <td>394.795990</td>\n",
       "      <td>1222.5</td>\n",
       "    </tr>\n",
       "    <tr>\n",
       "      <th>3</th>\n",
       "      <td>2014-09-20</td>\n",
       "      <td>408.903992</td>\n",
       "      <td>NaN</td>\n",
       "    </tr>\n",
       "    <tr>\n",
       "      <th>4</th>\n",
       "      <td>2014-09-21</td>\n",
       "      <td>398.821014</td>\n",
       "      <td>NaN</td>\n",
       "    </tr>\n",
       "  </tbody>\n",
       "</table>\n",
       "</div>"
      ],
      "text/plain": [
       "        Date    BTC(USD)  GLD(USD)\n",
       "0 2014-09-17  457.334015    1236.5\n",
       "1 2014-09-18  424.440002    1223.0\n",
       "2 2014-09-19  394.795990    1222.5\n",
       "3 2014-09-20  408.903992       NaN\n",
       "4 2014-09-21  398.821014       NaN"
      ]
     },
     "execution_count": 10,
     "metadata": {},
     "output_type": "execute_result"
    }
   ],
   "source": [
    "# Now, we are going to have a single dataframe upon which we merge \n",
    "# all others. So rename 'BTC' to 'maindf,' and merge the 'gold'\n",
    "# on the shared 'Date' column so that the dates column is retained \n",
    "# and the only Nan's generated will be  in the value columns. Merging\n",
    "# into 'maindf' also gurantees that the original dataframes are kept \n",
    "# after the merge.\n",
    "maindf=BTC.merge(gold, how='left', on='Date')\n",
    "maindf.head()"
   ]
  },
  {
   "cell_type": "markdown",
   "metadata": {},
   "source": [
    "So, first thing I notice is new Nan's, which means that there were new dates added. This makes sense as Bitcoin is traded all day, every day and the stock market is closed on weekends and certain holidays. So, with that said, we should have about 30% Nan values in the Gold data set. We  will address this at the end. "
   ]
  },
  {
   "cell_type": "code",
   "execution_count": 11,
   "metadata": {},
   "outputs": [
    {
     "data": {
      "text/html": [
       "<div>\n",
       "<style scoped>\n",
       "    .dataframe tbody tr th:only-of-type {\n",
       "        vertical-align: middle;\n",
       "    }\n",
       "\n",
       "    .dataframe tbody tr th {\n",
       "        vertical-align: top;\n",
       "    }\n",
       "\n",
       "    .dataframe thead th {\n",
       "        text-align: right;\n",
       "    }\n",
       "</style>\n",
       "<table border=\"1\" class=\"dataframe\">\n",
       "  <thead>\n",
       "    <tr style=\"text-align: right;\">\n",
       "      <th></th>\n",
       "      <th>count</th>\n",
       "      <th>%</th>\n",
       "    </tr>\n",
       "  </thead>\n",
       "  <tbody>\n",
       "    <tr>\n",
       "      <th>Date</th>\n",
       "      <td>0</td>\n",
       "      <td>0.00000</td>\n",
       "    </tr>\n",
       "    <tr>\n",
       "      <th>BTC(USD)</th>\n",
       "      <td>0</td>\n",
       "      <td>0.00000</td>\n",
       "    </tr>\n",
       "    <tr>\n",
       "      <th>GLD(USD)</th>\n",
       "      <td>652</td>\n",
       "      <td>30.10157</td>\n",
       "    </tr>\n",
       "  </tbody>\n",
       "</table>\n",
       "</div>"
      ],
      "text/plain": [
       "          count         %\n",
       "Date          0   0.00000\n",
       "BTC(USD)      0   0.00000\n",
       "GLD(USD)    652  30.10157"
      ]
     },
     "execution_count": 11,
     "metadata": {},
     "output_type": "execute_result"
    }
   ],
   "source": [
    "# Check for Nan\n",
    "show_na(maindf)"
   ]
  },
  {
   "cell_type": "code",
   "execution_count": 12,
   "metadata": {},
   "outputs": [
    {
     "data": {
      "text/html": [
       "<div>\n",
       "<style scoped>\n",
       "    .dataframe tbody tr th:only-of-type {\n",
       "        vertical-align: middle;\n",
       "    }\n",
       "\n",
       "    .dataframe tbody tr th {\n",
       "        vertical-align: top;\n",
       "    }\n",
       "\n",
       "    .dataframe thead th {\n",
       "        text-align: right;\n",
       "    }\n",
       "</style>\n",
       "<table border=\"1\" class=\"dataframe\">\n",
       "  <thead>\n",
       "    <tr style=\"text-align: right;\">\n",
       "      <th></th>\n",
       "      <th>date</th>\n",
       "      <th>value</th>\n",
       "    </tr>\n",
       "  </thead>\n",
       "  <tbody>\n",
       "    <tr>\n",
       "      <th>0</th>\n",
       "      <td>2007-08-27</td>\n",
       "      <td>1466.79</td>\n",
       "    </tr>\n",
       "    <tr>\n",
       "      <th>1</th>\n",
       "      <td>2007-08-28</td>\n",
       "      <td>1432.36</td>\n",
       "    </tr>\n",
       "    <tr>\n",
       "      <th>2</th>\n",
       "      <td>2007-08-29</td>\n",
       "      <td>1463.76</td>\n",
       "    </tr>\n",
       "    <tr>\n",
       "      <th>3</th>\n",
       "      <td>2007-08-30</td>\n",
       "      <td>1457.64</td>\n",
       "    </tr>\n",
       "    <tr>\n",
       "      <th>4</th>\n",
       "      <td>2007-08-31</td>\n",
       "      <td>1473.99</td>\n",
       "    </tr>\n",
       "  </tbody>\n",
       "</table>\n",
       "</div>"
      ],
      "text/plain": [
       "         date    value\n",
       "0  2007-08-27  1466.79\n",
       "1  2007-08-28  1432.36\n",
       "2  2007-08-29  1463.76\n",
       "3  2007-08-30  1457.64\n",
       "4  2007-08-31  1473.99"
      ]
     },
     "execution_count": 12,
     "metadata": {},
     "output_type": "execute_result"
    }
   ],
   "source": [
    "# Import the next csv and repeat\n",
    "sp500=pd.read_csv('SP500 2007-2020.csv', sep=',', header=7)\n",
    "sp500.head()"
   ]
  },
  {
   "cell_type": "code",
   "execution_count": 13,
   "metadata": {},
   "outputs": [
    {
     "data": {
      "text/html": [
       "<div>\n",
       "<style scoped>\n",
       "    .dataframe tbody tr th:only-of-type {\n",
       "        vertical-align: middle;\n",
       "    }\n",
       "\n",
       "    .dataframe tbody tr th {\n",
       "        vertical-align: top;\n",
       "    }\n",
       "\n",
       "    .dataframe thead th {\n",
       "        text-align: right;\n",
       "    }\n",
       "</style>\n",
       "<table border=\"1\" class=\"dataframe\">\n",
       "  <thead>\n",
       "    <tr style=\"text-align: right;\">\n",
       "      <th></th>\n",
       "      <th>date</th>\n",
       "      <th>value</th>\n",
       "    </tr>\n",
       "  </thead>\n",
       "  <tbody>\n",
       "    <tr>\n",
       "      <th>0</th>\n",
       "      <td>2007-08-27</td>\n",
       "      <td>1466.79</td>\n",
       "    </tr>\n",
       "    <tr>\n",
       "      <th>1</th>\n",
       "      <td>2007-08-28</td>\n",
       "      <td>1432.36</td>\n",
       "    </tr>\n",
       "    <tr>\n",
       "      <th>2</th>\n",
       "      <td>2007-08-29</td>\n",
       "      <td>1463.76</td>\n",
       "    </tr>\n",
       "    <tr>\n",
       "      <th>3</th>\n",
       "      <td>2007-08-30</td>\n",
       "      <td>1457.64</td>\n",
       "    </tr>\n",
       "    <tr>\n",
       "      <th>4</th>\n",
       "      <td>2007-08-31</td>\n",
       "      <td>1473.99</td>\n",
       "    </tr>\n",
       "  </tbody>\n",
       "</table>\n",
       "</div>"
      ],
      "text/plain": [
       "        date    value\n",
       "0 2007-08-27  1466.79\n",
       "1 2007-08-28  1432.36\n",
       "2 2007-08-29  1463.76\n",
       "3 2007-08-30  1457.64\n",
       "4 2007-08-31  1473.99"
      ]
     },
     "execution_count": 13,
     "metadata": {},
     "output_type": "execute_result"
    }
   ],
   "source": [
    "sp500['date'] = pd.to_datetime(sp500['date'])\n",
    "sp500.head()"
   ]
  },
  {
   "cell_type": "code",
   "execution_count": 14,
   "metadata": {},
   "outputs": [
    {
     "data": {
      "text/html": [
       "<div>\n",
       "<style scoped>\n",
       "    .dataframe tbody tr th:only-of-type {\n",
       "        vertical-align: middle;\n",
       "    }\n",
       "\n",
       "    .dataframe tbody tr th {\n",
       "        vertical-align: top;\n",
       "    }\n",
       "\n",
       "    .dataframe thead th {\n",
       "        text-align: right;\n",
       "    }\n",
       "</style>\n",
       "<table border=\"1\" class=\"dataframe\">\n",
       "  <thead>\n",
       "    <tr style=\"text-align: right;\">\n",
       "      <th></th>\n",
       "      <th>Date</th>\n",
       "      <th>S&amp;P500(USD)</th>\n",
       "    </tr>\n",
       "  </thead>\n",
       "  <tbody>\n",
       "    <tr>\n",
       "      <th>0</th>\n",
       "      <td>2007-08-27</td>\n",
       "      <td>1466.79</td>\n",
       "    </tr>\n",
       "    <tr>\n",
       "      <th>1</th>\n",
       "      <td>2007-08-28</td>\n",
       "      <td>1432.36</td>\n",
       "    </tr>\n",
       "    <tr>\n",
       "      <th>2</th>\n",
       "      <td>2007-08-29</td>\n",
       "      <td>1463.76</td>\n",
       "    </tr>\n",
       "    <tr>\n",
       "      <th>3</th>\n",
       "      <td>2007-08-30</td>\n",
       "      <td>1457.64</td>\n",
       "    </tr>\n",
       "    <tr>\n",
       "      <th>4</th>\n",
       "      <td>2007-08-31</td>\n",
       "      <td>1473.99</td>\n",
       "    </tr>\n",
       "  </tbody>\n",
       "</table>\n",
       "</div>"
      ],
      "text/plain": [
       "        Date  S&P500(USD)\n",
       "0 2007-08-27      1466.79\n",
       "1 2007-08-28      1432.36\n",
       "2 2007-08-29      1463.76\n",
       "3 2007-08-30      1457.64\n",
       "4 2007-08-31      1473.99"
      ]
     },
     "execution_count": 14,
     "metadata": {},
     "output_type": "execute_result"
    }
   ],
   "source": [
    "# Rename columns for appropriate representation.\n",
    "sp500.columns = ['Date', 'S&P500(USD)']\n",
    "sp500.head()"
   ]
  },
  {
   "cell_type": "code",
   "execution_count": 15,
   "metadata": {},
   "outputs": [
    {
     "data": {
      "text/html": [
       "<div>\n",
       "<style scoped>\n",
       "    .dataframe tbody tr th:only-of-type {\n",
       "        vertical-align: middle;\n",
       "    }\n",
       "\n",
       "    .dataframe tbody tr th {\n",
       "        vertical-align: top;\n",
       "    }\n",
       "\n",
       "    .dataframe thead th {\n",
       "        text-align: right;\n",
       "    }\n",
       "</style>\n",
       "<table border=\"1\" class=\"dataframe\">\n",
       "  <thead>\n",
       "    <tr style=\"text-align: right;\">\n",
       "      <th></th>\n",
       "      <th>Date</th>\n",
       "      <th>BTC(USD)</th>\n",
       "      <th>GLD(USD)</th>\n",
       "      <th>S&amp;P500(USD)</th>\n",
       "    </tr>\n",
       "  </thead>\n",
       "  <tbody>\n",
       "    <tr>\n",
       "      <th>0</th>\n",
       "      <td>2014-09-17</td>\n",
       "      <td>457.334015</td>\n",
       "      <td>1236.50</td>\n",
       "      <td>2001.57</td>\n",
       "    </tr>\n",
       "    <tr>\n",
       "      <th>1</th>\n",
       "      <td>2014-09-18</td>\n",
       "      <td>424.440002</td>\n",
       "      <td>1223.00</td>\n",
       "      <td>2011.36</td>\n",
       "    </tr>\n",
       "    <tr>\n",
       "      <th>2</th>\n",
       "      <td>2014-09-19</td>\n",
       "      <td>394.795990</td>\n",
       "      <td>1222.50</td>\n",
       "      <td>2010.40</td>\n",
       "    </tr>\n",
       "    <tr>\n",
       "      <th>3</th>\n",
       "      <td>2014-09-20</td>\n",
       "      <td>408.903992</td>\n",
       "      <td>NaN</td>\n",
       "      <td>NaN</td>\n",
       "    </tr>\n",
       "    <tr>\n",
       "      <th>4</th>\n",
       "      <td>2014-09-21</td>\n",
       "      <td>398.821014</td>\n",
       "      <td>NaN</td>\n",
       "      <td>NaN</td>\n",
       "    </tr>\n",
       "    <tr>\n",
       "      <th>...</th>\n",
       "      <td>...</td>\n",
       "      <td>...</td>\n",
       "      <td>...</td>\n",
       "      <td>...</td>\n",
       "    </tr>\n",
       "    <tr>\n",
       "      <th>2161</th>\n",
       "      <td>2020-08-17</td>\n",
       "      <td>12254.402344</td>\n",
       "      <td>1949.85</td>\n",
       "      <td>3381.99</td>\n",
       "    </tr>\n",
       "    <tr>\n",
       "      <th>2162</th>\n",
       "      <td>2020-08-18</td>\n",
       "      <td>11991.233398</td>\n",
       "      <td>2005.15</td>\n",
       "      <td>3389.78</td>\n",
       "    </tr>\n",
       "    <tr>\n",
       "      <th>2163</th>\n",
       "      <td>2020-08-19</td>\n",
       "      <td>11758.283203</td>\n",
       "      <td>1993.15</td>\n",
       "      <td>3374.85</td>\n",
       "    </tr>\n",
       "    <tr>\n",
       "      <th>2164</th>\n",
       "      <td>2020-08-20</td>\n",
       "      <td>11878.372070</td>\n",
       "      <td>1928.05</td>\n",
       "      <td>3385.51</td>\n",
       "    </tr>\n",
       "    <tr>\n",
       "      <th>2165</th>\n",
       "      <td>2020-08-21</td>\n",
       "      <td>11592.489258</td>\n",
       "      <td>1932.85</td>\n",
       "      <td>3397.16</td>\n",
       "    </tr>\n",
       "  </tbody>\n",
       "</table>\n",
       "<p>2166 rows × 4 columns</p>\n",
       "</div>"
      ],
      "text/plain": [
       "           Date      BTC(USD)  GLD(USD)  S&P500(USD)\n",
       "0    2014-09-17    457.334015   1236.50      2001.57\n",
       "1    2014-09-18    424.440002   1223.00      2011.36\n",
       "2    2014-09-19    394.795990   1222.50      2010.40\n",
       "3    2014-09-20    408.903992       NaN          NaN\n",
       "4    2014-09-21    398.821014       NaN          NaN\n",
       "...         ...           ...       ...          ...\n",
       "2161 2020-08-17  12254.402344   1949.85      3381.99\n",
       "2162 2020-08-18  11991.233398   2005.15      3389.78\n",
       "2163 2020-08-19  11758.283203   1993.15      3374.85\n",
       "2164 2020-08-20  11878.372070   1928.05      3385.51\n",
       "2165 2020-08-21  11592.489258   1932.85      3397.16\n",
       "\n",
       "[2166 rows x 4 columns]"
      ]
     },
     "execution_count": 15,
     "metadata": {},
     "output_type": "execute_result"
    }
   ],
   "source": [
    "# Since GLD and S&P500 are both stock indexes, \n",
    "# they should have almost identical Nan's.\n",
    "maindf=maindf.merge(sp500, how='left', on='Date')\n",
    "maindf"
   ]
  },
  {
   "cell_type": "code",
   "execution_count": 16,
   "metadata": {},
   "outputs": [
    {
     "data": {
      "text/html": [
       "<div>\n",
       "<style scoped>\n",
       "    .dataframe tbody tr th:only-of-type {\n",
       "        vertical-align: middle;\n",
       "    }\n",
       "\n",
       "    .dataframe tbody tr th {\n",
       "        vertical-align: top;\n",
       "    }\n",
       "\n",
       "    .dataframe thead th {\n",
       "        text-align: right;\n",
       "    }\n",
       "</style>\n",
       "<table border=\"1\" class=\"dataframe\">\n",
       "  <thead>\n",
       "    <tr style=\"text-align: right;\">\n",
       "      <th></th>\n",
       "      <th>count</th>\n",
       "      <th>%</th>\n",
       "    </tr>\n",
       "  </thead>\n",
       "  <tbody>\n",
       "    <tr>\n",
       "      <th>Date</th>\n",
       "      <td>0</td>\n",
       "      <td>0.000000</td>\n",
       "    </tr>\n",
       "    <tr>\n",
       "      <th>BTC(USD)</th>\n",
       "      <td>0</td>\n",
       "      <td>0.000000</td>\n",
       "    </tr>\n",
       "    <tr>\n",
       "      <th>GLD(USD)</th>\n",
       "      <td>652</td>\n",
       "      <td>30.101570</td>\n",
       "    </tr>\n",
       "    <tr>\n",
       "      <th>S&amp;P500(USD)</th>\n",
       "      <td>672</td>\n",
       "      <td>31.024931</td>\n",
       "    </tr>\n",
       "  </tbody>\n",
       "</table>\n",
       "</div>"
      ],
      "text/plain": [
       "             count          %\n",
       "Date             0   0.000000\n",
       "BTC(USD)         0   0.000000\n",
       "GLD(USD)       652  30.101570\n",
       "S&P500(USD)    672  31.024931"
      ]
     },
     "execution_count": 16,
     "metadata": {},
     "output_type": "execute_result"
    }
   ],
   "source": [
    "show_na(maindf)"
   ]
  },
  {
   "cell_type": "code",
   "execution_count": 17,
   "metadata": {},
   "outputs": [
    {
     "data": {
      "text/html": [
       "<div>\n",
       "<style scoped>\n",
       "    .dataframe tbody tr th:only-of-type {\n",
       "        vertical-align: middle;\n",
       "    }\n",
       "\n",
       "    .dataframe tbody tr th {\n",
       "        vertical-align: top;\n",
       "    }\n",
       "\n",
       "    .dataframe thead th {\n",
       "        text-align: right;\n",
       "    }\n",
       "</style>\n",
       "<table border=\"1\" class=\"dataframe\">\n",
       "  <thead>\n",
       "    <tr style=\"text-align: right;\">\n",
       "      <th></th>\n",
       "      <th>date</th>\n",
       "      <th>open</th>\n",
       "      <th>high</th>\n",
       "      <th>low</th>\n",
       "      <th>close</th>\n",
       "      <th>volume</th>\n",
       "    </tr>\n",
       "  </thead>\n",
       "  <tbody>\n",
       "    <tr>\n",
       "      <th>0</th>\n",
       "      <td>1985-02-04</td>\n",
       "      <td>1.9985</td>\n",
       "      <td>2.1025</td>\n",
       "      <td>1.9985</td>\n",
       "      <td>1.9985</td>\n",
       "      <td>50400</td>\n",
       "    </tr>\n",
       "    <tr>\n",
       "      <th>1</th>\n",
       "      <td>1985-02-05</td>\n",
       "      <td>1.9985</td>\n",
       "      <td>2.2065</td>\n",
       "      <td>1.9985</td>\n",
       "      <td>1.9985</td>\n",
       "      <td>18400</td>\n",
       "    </tr>\n",
       "    <tr>\n",
       "      <th>2</th>\n",
       "      <td>1985-02-06</td>\n",
       "      <td>2.1025</td>\n",
       "      <td>2.3648</td>\n",
       "      <td>2.1025</td>\n",
       "      <td>2.1025</td>\n",
       "      <td>65600</td>\n",
       "    </tr>\n",
       "    <tr>\n",
       "      <th>3</th>\n",
       "      <td>1985-02-07</td>\n",
       "      <td>2.1025</td>\n",
       "      <td>2.2065</td>\n",
       "      <td>2.1025</td>\n",
       "      <td>2.1025</td>\n",
       "      <td>40000</td>\n",
       "    </tr>\n",
       "    <tr>\n",
       "      <th>4</th>\n",
       "      <td>1985-02-08</td>\n",
       "      <td>2.1025</td>\n",
       "      <td>2.2065</td>\n",
       "      <td>2.1025</td>\n",
       "      <td>2.1025</td>\n",
       "      <td>25600</td>\n",
       "    </tr>\n",
       "  </tbody>\n",
       "</table>\n",
       "</div>"
      ],
      "text/plain": [
       "         date    open    high     low   close  volume\n",
       "0  1985-02-04  1.9985  2.1025  1.9985  1.9985   50400\n",
       "1  1985-02-05  1.9985  2.2065  1.9985  1.9985   18400\n",
       "2  1985-02-06  2.1025  2.3648  2.1025  2.1025   65600\n",
       "3  1985-02-07  2.1025  2.2065  2.1025  2.1025   40000\n",
       "4  1985-02-08  2.1025  2.2065  2.1025  2.1025   25600"
      ]
     },
     "execution_count": 17,
     "metadata": {},
     "output_type": "execute_result"
    }
   ],
   "source": [
    "barrick = pd.read_csv('Barrick Gold Corp 1985-2020.csv', sep=',', header=9)\n",
    "\n",
    "barrick.head(5)"
   ]
  },
  {
   "cell_type": "code",
   "execution_count": 18,
   "metadata": {},
   "outputs": [],
   "source": [
    "barrick['date'] = pd.to_datetime(barrick['date'])\n",
    "barrick = barrick[['date', 'close']]"
   ]
  },
  {
   "cell_type": "code",
   "execution_count": 19,
   "metadata": {},
   "outputs": [
    {
     "data": {
      "text/html": [
       "<div>\n",
       "<style scoped>\n",
       "    .dataframe tbody tr th:only-of-type {\n",
       "        vertical-align: middle;\n",
       "    }\n",
       "\n",
       "    .dataframe tbody tr th {\n",
       "        vertical-align: top;\n",
       "    }\n",
       "\n",
       "    .dataframe thead th {\n",
       "        text-align: right;\n",
       "    }\n",
       "</style>\n",
       "<table border=\"1\" class=\"dataframe\">\n",
       "  <thead>\n",
       "    <tr style=\"text-align: right;\">\n",
       "      <th></th>\n",
       "      <th>Date</th>\n",
       "      <th>GOLD(USD)</th>\n",
       "    </tr>\n",
       "  </thead>\n",
       "  <tbody>\n",
       "    <tr>\n",
       "      <th>0</th>\n",
       "      <td>1985-02-04</td>\n",
       "      <td>1.9985</td>\n",
       "    </tr>\n",
       "    <tr>\n",
       "      <th>1</th>\n",
       "      <td>1985-02-05</td>\n",
       "      <td>1.9985</td>\n",
       "    </tr>\n",
       "    <tr>\n",
       "      <th>2</th>\n",
       "      <td>1985-02-06</td>\n",
       "      <td>2.1025</td>\n",
       "    </tr>\n",
       "    <tr>\n",
       "      <th>3</th>\n",
       "      <td>1985-02-07</td>\n",
       "      <td>2.1025</td>\n",
       "    </tr>\n",
       "    <tr>\n",
       "      <th>4</th>\n",
       "      <td>1985-02-08</td>\n",
       "      <td>2.1025</td>\n",
       "    </tr>\n",
       "  </tbody>\n",
       "</table>\n",
       "</div>"
      ],
      "text/plain": [
       "        Date  GOLD(USD)\n",
       "0 1985-02-04     1.9985\n",
       "1 1985-02-05     1.9985\n",
       "2 1985-02-06     2.1025\n",
       "3 1985-02-07     2.1025\n",
       "4 1985-02-08     2.1025"
      ]
     },
     "execution_count": 19,
     "metadata": {},
     "output_type": "execute_result"
    }
   ],
   "source": [
    "barrick.columns = ['Date','GOLD(USD)']\n",
    "barrick.head()"
   ]
  },
  {
   "cell_type": "code",
   "execution_count": 20,
   "metadata": {},
   "outputs": [
    {
     "data": {
      "text/html": [
       "<div>\n",
       "<style scoped>\n",
       "    .dataframe tbody tr th:only-of-type {\n",
       "        vertical-align: middle;\n",
       "    }\n",
       "\n",
       "    .dataframe tbody tr th {\n",
       "        vertical-align: top;\n",
       "    }\n",
       "\n",
       "    .dataframe thead th {\n",
       "        text-align: right;\n",
       "    }\n",
       "</style>\n",
       "<table border=\"1\" class=\"dataframe\">\n",
       "  <thead>\n",
       "    <tr style=\"text-align: right;\">\n",
       "      <th></th>\n",
       "      <th>Date</th>\n",
       "      <th>BTC(USD)</th>\n",
       "      <th>GLD(USD)</th>\n",
       "      <th>S&amp;P500(USD)</th>\n",
       "      <th>GOLD(USD)</th>\n",
       "    </tr>\n",
       "  </thead>\n",
       "  <tbody>\n",
       "    <tr>\n",
       "      <th>0</th>\n",
       "      <td>2014-09-17</td>\n",
       "      <td>457.334015</td>\n",
       "      <td>1236.5</td>\n",
       "      <td>2001.57</td>\n",
       "      <td>15.5009</td>\n",
       "    </tr>\n",
       "    <tr>\n",
       "      <th>1</th>\n",
       "      <td>2014-09-18</td>\n",
       "      <td>424.440002</td>\n",
       "      <td>1223.0</td>\n",
       "      <td>2011.36</td>\n",
       "      <td>15.2624</td>\n",
       "    </tr>\n",
       "    <tr>\n",
       "      <th>2</th>\n",
       "      <td>2014-09-19</td>\n",
       "      <td>394.795990</td>\n",
       "      <td>1222.5</td>\n",
       "      <td>2010.40</td>\n",
       "      <td>14.9285</td>\n",
       "    </tr>\n",
       "    <tr>\n",
       "      <th>3</th>\n",
       "      <td>2014-09-20</td>\n",
       "      <td>408.903992</td>\n",
       "      <td>NaN</td>\n",
       "      <td>NaN</td>\n",
       "      <td>NaN</td>\n",
       "    </tr>\n",
       "    <tr>\n",
       "      <th>4</th>\n",
       "      <td>2014-09-21</td>\n",
       "      <td>398.821014</td>\n",
       "      <td>NaN</td>\n",
       "      <td>NaN</td>\n",
       "      <td>NaN</td>\n",
       "    </tr>\n",
       "  </tbody>\n",
       "</table>\n",
       "</div>"
      ],
      "text/plain": [
       "        Date    BTC(USD)  GLD(USD)  S&P500(USD)  GOLD(USD)\n",
       "0 2014-09-17  457.334015    1236.5      2001.57    15.5009\n",
       "1 2014-09-18  424.440002    1223.0      2011.36    15.2624\n",
       "2 2014-09-19  394.795990    1222.5      2010.40    14.9285\n",
       "3 2014-09-20  408.903992       NaN          NaN        NaN\n",
       "4 2014-09-21  398.821014       NaN          NaN        NaN"
      ]
     },
     "execution_count": 20,
     "metadata": {},
     "output_type": "execute_result"
    }
   ],
   "source": [
    "maindf = maindf.merge(barrick, how='left', on='Date')\n",
    "maindf.head()"
   ]
  },
  {
   "cell_type": "code",
   "execution_count": 21,
   "metadata": {},
   "outputs": [
    {
     "data": {
      "text/html": [
       "<div>\n",
       "<style scoped>\n",
       "    .dataframe tbody tr th:only-of-type {\n",
       "        vertical-align: middle;\n",
       "    }\n",
       "\n",
       "    .dataframe tbody tr th {\n",
       "        vertical-align: top;\n",
       "    }\n",
       "\n",
       "    .dataframe thead th {\n",
       "        text-align: right;\n",
       "    }\n",
       "</style>\n",
       "<table border=\"1\" class=\"dataframe\">\n",
       "  <thead>\n",
       "    <tr style=\"text-align: right;\">\n",
       "      <th></th>\n",
       "      <th>count</th>\n",
       "      <th>%</th>\n",
       "    </tr>\n",
       "  </thead>\n",
       "  <tbody>\n",
       "    <tr>\n",
       "      <th>Date</th>\n",
       "      <td>0</td>\n",
       "      <td>0.000000</td>\n",
       "    </tr>\n",
       "    <tr>\n",
       "      <th>BTC(USD)</th>\n",
       "      <td>0</td>\n",
       "      <td>0.000000</td>\n",
       "    </tr>\n",
       "    <tr>\n",
       "      <th>GLD(USD)</th>\n",
       "      <td>652</td>\n",
       "      <td>30.101570</td>\n",
       "    </tr>\n",
       "    <tr>\n",
       "      <th>S&amp;P500(USD)</th>\n",
       "      <td>672</td>\n",
       "      <td>31.024931</td>\n",
       "    </tr>\n",
       "    <tr>\n",
       "      <th>GOLD(USD)</th>\n",
       "      <td>672</td>\n",
       "      <td>31.024931</td>\n",
       "    </tr>\n",
       "  </tbody>\n",
       "</table>\n",
       "</div>"
      ],
      "text/plain": [
       "             count          %\n",
       "Date             0   0.000000\n",
       "BTC(USD)         0   0.000000\n",
       "GLD(USD)       652  30.101570\n",
       "S&P500(USD)    672  31.024931\n",
       "GOLD(USD)      672  31.024931"
      ]
     },
     "execution_count": 21,
     "metadata": {},
     "output_type": "execute_result"
    }
   ],
   "source": [
    "show_na(maindf)"
   ]
  },
  {
   "cell_type": "code",
   "execution_count": 22,
   "metadata": {},
   "outputs": [
    {
     "data": {
      "text/html": [
       "<div>\n",
       "<style scoped>\n",
       "    .dataframe tbody tr th:only-of-type {\n",
       "        vertical-align: middle;\n",
       "    }\n",
       "\n",
       "    .dataframe tbody tr th {\n",
       "        vertical-align: top;\n",
       "    }\n",
       "\n",
       "    .dataframe thead th {\n",
       "        text-align: right;\n",
       "    }\n",
       "</style>\n",
       "<table border=\"1\" class=\"dataframe\">\n",
       "  <thead>\n",
       "    <tr style=\"text-align: right;\">\n",
       "      <th></th>\n",
       "      <th>date</th>\n",
       "      <th>value</th>\n",
       "    </tr>\n",
       "  </thead>\n",
       "  <tbody>\n",
       "    <tr>\n",
       "      <th>0</th>\n",
       "      <td>2007-08-28</td>\n",
       "      <td>11.83</td>\n",
       "    </tr>\n",
       "    <tr>\n",
       "      <th>1</th>\n",
       "      <td>2007-08-29</td>\n",
       "      <td>11.80</td>\n",
       "    </tr>\n",
       "    <tr>\n",
       "      <th>2</th>\n",
       "      <td>2007-08-30</td>\n",
       "      <td>11.86</td>\n",
       "    </tr>\n",
       "    <tr>\n",
       "      <th>3</th>\n",
       "      <td>2007-08-31</td>\n",
       "      <td>11.95</td>\n",
       "    </tr>\n",
       "    <tr>\n",
       "      <th>4</th>\n",
       "      <td>2007-09-03</td>\n",
       "      <td>12.10</td>\n",
       "    </tr>\n",
       "  </tbody>\n",
       "</table>\n",
       "</div>"
      ],
      "text/plain": [
       "         date   value\n",
       "0  2007-08-28   11.83\n",
       "1  2007-08-29   11.80\n",
       "2  2007-08-30   11.86\n",
       "3  2007-08-31   11.95\n",
       "4  2007-09-03   12.10"
      ]
     },
     "execution_count": 22,
     "metadata": {},
     "output_type": "execute_result"
    }
   ],
   "source": [
    "silver = pd.read_csv('silver history.csv', sep=',', header=7)\n",
    "silver.head()"
   ]
  },
  {
   "cell_type": "code",
   "execution_count": 23,
   "metadata": {},
   "outputs": [
    {
     "data": {
      "text/html": [
       "<div>\n",
       "<style scoped>\n",
       "    .dataframe tbody tr th:only-of-type {\n",
       "        vertical-align: middle;\n",
       "    }\n",
       "\n",
       "    .dataframe tbody tr th {\n",
       "        vertical-align: top;\n",
       "    }\n",
       "\n",
       "    .dataframe thead th {\n",
       "        text-align: right;\n",
       "    }\n",
       "</style>\n",
       "<table border=\"1\" class=\"dataframe\">\n",
       "  <thead>\n",
       "    <tr style=\"text-align: right;\">\n",
       "      <th></th>\n",
       "      <th>date</th>\n",
       "      <th>value</th>\n",
       "    </tr>\n",
       "  </thead>\n",
       "  <tbody>\n",
       "    <tr>\n",
       "      <th>0</th>\n",
       "      <td>2007-08-28</td>\n",
       "      <td>11.83</td>\n",
       "    </tr>\n",
       "    <tr>\n",
       "      <th>1</th>\n",
       "      <td>2007-08-29</td>\n",
       "      <td>11.80</td>\n",
       "    </tr>\n",
       "    <tr>\n",
       "      <th>2</th>\n",
       "      <td>2007-08-30</td>\n",
       "      <td>11.86</td>\n",
       "    </tr>\n",
       "    <tr>\n",
       "      <th>3</th>\n",
       "      <td>2007-08-31</td>\n",
       "      <td>11.95</td>\n",
       "    </tr>\n",
       "    <tr>\n",
       "      <th>4</th>\n",
       "      <td>2007-09-03</td>\n",
       "      <td>12.10</td>\n",
       "    </tr>\n",
       "  </tbody>\n",
       "</table>\n",
       "</div>"
      ],
      "text/plain": [
       "        date   value\n",
       "0 2007-08-28   11.83\n",
       "1 2007-08-29   11.80\n",
       "2 2007-08-30   11.86\n",
       "3 2007-08-31   11.95\n",
       "4 2007-09-03   12.10"
      ]
     },
     "execution_count": 23,
     "metadata": {},
     "output_type": "execute_result"
    }
   ],
   "source": [
    "silver['date']=pd.to_datetime(silver['date'])\n",
    "silver.head()"
   ]
  },
  {
   "cell_type": "code",
   "execution_count": 24,
   "metadata": {},
   "outputs": [
    {
     "data": {
      "text/html": [
       "<div>\n",
       "<style scoped>\n",
       "    .dataframe tbody tr th:only-of-type {\n",
       "        vertical-align: middle;\n",
       "    }\n",
       "\n",
       "    .dataframe tbody tr th {\n",
       "        vertical-align: top;\n",
       "    }\n",
       "\n",
       "    .dataframe thead th {\n",
       "        text-align: right;\n",
       "    }\n",
       "</style>\n",
       "<table border=\"1\" class=\"dataframe\">\n",
       "  <thead>\n",
       "    <tr style=\"text-align: right;\">\n",
       "      <th></th>\n",
       "      <th>Date</th>\n",
       "      <th>SLV(USD)</th>\n",
       "    </tr>\n",
       "  </thead>\n",
       "  <tbody>\n",
       "    <tr>\n",
       "      <th>0</th>\n",
       "      <td>2007-08-28</td>\n",
       "      <td>11.83</td>\n",
       "    </tr>\n",
       "    <tr>\n",
       "      <th>1</th>\n",
       "      <td>2007-08-29</td>\n",
       "      <td>11.80</td>\n",
       "    </tr>\n",
       "    <tr>\n",
       "      <th>2</th>\n",
       "      <td>2007-08-30</td>\n",
       "      <td>11.86</td>\n",
       "    </tr>\n",
       "    <tr>\n",
       "      <th>3</th>\n",
       "      <td>2007-08-31</td>\n",
       "      <td>11.95</td>\n",
       "    </tr>\n",
       "    <tr>\n",
       "      <th>4</th>\n",
       "      <td>2007-09-03</td>\n",
       "      <td>12.10</td>\n",
       "    </tr>\n",
       "  </tbody>\n",
       "</table>\n",
       "</div>"
      ],
      "text/plain": [
       "        Date  SLV(USD)\n",
       "0 2007-08-28     11.83\n",
       "1 2007-08-29     11.80\n",
       "2 2007-08-30     11.86\n",
       "3 2007-08-31     11.95\n",
       "4 2007-09-03     12.10"
      ]
     },
     "execution_count": 24,
     "metadata": {},
     "output_type": "execute_result"
    }
   ],
   "source": [
    "silver.columns = ['Date', 'SLV(USD)']\n",
    "silver.head()"
   ]
  },
  {
   "cell_type": "code",
   "execution_count": 25,
   "metadata": {
    "scrolled": false
   },
   "outputs": [
    {
     "data": {
      "text/html": [
       "<div>\n",
       "<style scoped>\n",
       "    .dataframe tbody tr th:only-of-type {\n",
       "        vertical-align: middle;\n",
       "    }\n",
       "\n",
       "    .dataframe tbody tr th {\n",
       "        vertical-align: top;\n",
       "    }\n",
       "\n",
       "    .dataframe thead th {\n",
       "        text-align: right;\n",
       "    }\n",
       "</style>\n",
       "<table border=\"1\" class=\"dataframe\">\n",
       "  <thead>\n",
       "    <tr style=\"text-align: right;\">\n",
       "      <th></th>\n",
       "      <th>Date</th>\n",
       "      <th>BTC(USD)</th>\n",
       "      <th>GLD(USD)</th>\n",
       "      <th>S&amp;P500(USD)</th>\n",
       "      <th>GOLD(USD)</th>\n",
       "      <th>SLV(USD)</th>\n",
       "    </tr>\n",
       "  </thead>\n",
       "  <tbody>\n",
       "    <tr>\n",
       "      <th>0</th>\n",
       "      <td>2014-09-17</td>\n",
       "      <td>457.334015</td>\n",
       "      <td>1236.5</td>\n",
       "      <td>2001.57</td>\n",
       "      <td>15.5009</td>\n",
       "      <td>18.63</td>\n",
       "    </tr>\n",
       "    <tr>\n",
       "      <th>1</th>\n",
       "      <td>2014-09-18</td>\n",
       "      <td>424.440002</td>\n",
       "      <td>1223.0</td>\n",
       "      <td>2011.36</td>\n",
       "      <td>15.2624</td>\n",
       "      <td>18.50</td>\n",
       "    </tr>\n",
       "    <tr>\n",
       "      <th>2</th>\n",
       "      <td>2014-09-19</td>\n",
       "      <td>394.795990</td>\n",
       "      <td>1222.5</td>\n",
       "      <td>2010.40</td>\n",
       "      <td>14.9285</td>\n",
       "      <td>18.45</td>\n",
       "    </tr>\n",
       "    <tr>\n",
       "      <th>3</th>\n",
       "      <td>2014-09-20</td>\n",
       "      <td>408.903992</td>\n",
       "      <td>NaN</td>\n",
       "      <td>NaN</td>\n",
       "      <td>NaN</td>\n",
       "      <td>NaN</td>\n",
       "    </tr>\n",
       "    <tr>\n",
       "      <th>4</th>\n",
       "      <td>2014-09-21</td>\n",
       "      <td>398.821014</td>\n",
       "      <td>NaN</td>\n",
       "      <td>NaN</td>\n",
       "      <td>NaN</td>\n",
       "      <td>NaN</td>\n",
       "    </tr>\n",
       "  </tbody>\n",
       "</table>\n",
       "</div>"
      ],
      "text/plain": [
       "        Date    BTC(USD)  GLD(USD)  S&P500(USD)  GOLD(USD)  SLV(USD)\n",
       "0 2014-09-17  457.334015    1236.5      2001.57    15.5009     18.63\n",
       "1 2014-09-18  424.440002    1223.0      2011.36    15.2624     18.50\n",
       "2 2014-09-19  394.795990    1222.5      2010.40    14.9285     18.45\n",
       "3 2014-09-20  408.903992       NaN          NaN        NaN       NaN\n",
       "4 2014-09-21  398.821014       NaN          NaN        NaN       NaN"
      ]
     },
     "execution_count": 25,
     "metadata": {},
     "output_type": "execute_result"
    }
   ],
   "source": [
    "maindf = maindf.merge(silver, how='left', on='Date')\n",
    "maindf.head()"
   ]
  },
  {
   "cell_type": "code",
   "execution_count": 26,
   "metadata": {
    "scrolled": true
   },
   "outputs": [
    {
     "data": {
      "text/html": [
       "<div>\n",
       "<style scoped>\n",
       "    .dataframe tbody tr th:only-of-type {\n",
       "        vertical-align: middle;\n",
       "    }\n",
       "\n",
       "    .dataframe tbody tr th {\n",
       "        vertical-align: top;\n",
       "    }\n",
       "\n",
       "    .dataframe thead th {\n",
       "        text-align: right;\n",
       "    }\n",
       "</style>\n",
       "<table border=\"1\" class=\"dataframe\">\n",
       "  <thead>\n",
       "    <tr style=\"text-align: right;\">\n",
       "      <th></th>\n",
       "      <th>count</th>\n",
       "      <th>%</th>\n",
       "    </tr>\n",
       "  </thead>\n",
       "  <tbody>\n",
       "    <tr>\n",
       "      <th>Date</th>\n",
       "      <td>0</td>\n",
       "      <td>0.000000</td>\n",
       "    </tr>\n",
       "    <tr>\n",
       "      <th>BTC(USD)</th>\n",
       "      <td>0</td>\n",
       "      <td>0.000000</td>\n",
       "    </tr>\n",
       "    <tr>\n",
       "      <th>GLD(USD)</th>\n",
       "      <td>652</td>\n",
       "      <td>30.101570</td>\n",
       "    </tr>\n",
       "    <tr>\n",
       "      <th>S&amp;P500(USD)</th>\n",
       "      <td>672</td>\n",
       "      <td>31.024931</td>\n",
       "    </tr>\n",
       "    <tr>\n",
       "      <th>GOLD(USD)</th>\n",
       "      <td>672</td>\n",
       "      <td>31.024931</td>\n",
       "    </tr>\n",
       "    <tr>\n",
       "      <th>SLV(USD)</th>\n",
       "      <td>647</td>\n",
       "      <td>29.870729</td>\n",
       "    </tr>\n",
       "  </tbody>\n",
       "</table>\n",
       "</div>"
      ],
      "text/plain": [
       "             count          %\n",
       "Date             0   0.000000\n",
       "BTC(USD)         0   0.000000\n",
       "GLD(USD)       652  30.101570\n",
       "S&P500(USD)    672  31.024931\n",
       "GOLD(USD)      672  31.024931\n",
       "SLV(USD)       647  29.870729"
      ]
     },
     "execution_count": 26,
     "metadata": {},
     "output_type": "execute_result"
    }
   ],
   "source": [
    "show_na(maindf)"
   ]
  },
  {
   "cell_type": "code",
   "execution_count": 27,
   "metadata": {},
   "outputs": [
    {
     "data": {
      "text/plain": [
       "2016-11-14    1\n",
       "2019-09-16    1\n",
       "2017-08-28    1\n",
       "2015-10-21    1\n",
       "2016-12-11    1\n",
       "Name: Date, dtype: int64"
      ]
     },
     "execution_count": 27,
     "metadata": {},
     "output_type": "execute_result"
    }
   ],
   "source": [
    "# Check for duplicate dates before setting index on \"Date\"\n",
    "maindf['Date'].value_counts().head()"
   ]
  },
  {
   "cell_type": "code",
   "execution_count": 28,
   "metadata": {},
   "outputs": [
    {
     "data": {
      "text/html": [
       "<div>\n",
       "<style scoped>\n",
       "    .dataframe tbody tr th:only-of-type {\n",
       "        vertical-align: middle;\n",
       "    }\n",
       "\n",
       "    .dataframe tbody tr th {\n",
       "        vertical-align: top;\n",
       "    }\n",
       "\n",
       "    .dataframe thead th {\n",
       "        text-align: right;\n",
       "    }\n",
       "</style>\n",
       "<table border=\"1\" class=\"dataframe\">\n",
       "  <thead>\n",
       "    <tr style=\"text-align: right;\">\n",
       "      <th></th>\n",
       "      <th>BTC(USD)</th>\n",
       "      <th>GLD(USD)</th>\n",
       "      <th>S&amp;P500(USD)</th>\n",
       "      <th>GOLD(USD)</th>\n",
       "      <th>SLV(USD)</th>\n",
       "    </tr>\n",
       "    <tr>\n",
       "      <th>Date</th>\n",
       "      <th></th>\n",
       "      <th></th>\n",
       "      <th></th>\n",
       "      <th></th>\n",
       "      <th></th>\n",
       "    </tr>\n",
       "  </thead>\n",
       "  <tbody>\n",
       "    <tr>\n",
       "      <th>2014-09-17</th>\n",
       "      <td>457.334015</td>\n",
       "      <td>1236.5</td>\n",
       "      <td>2001.57</td>\n",
       "      <td>15.5009</td>\n",
       "      <td>18.63</td>\n",
       "    </tr>\n",
       "    <tr>\n",
       "      <th>2014-09-18</th>\n",
       "      <td>424.440002</td>\n",
       "      <td>1223.0</td>\n",
       "      <td>2011.36</td>\n",
       "      <td>15.2624</td>\n",
       "      <td>18.50</td>\n",
       "    </tr>\n",
       "    <tr>\n",
       "      <th>2014-09-19</th>\n",
       "      <td>394.795990</td>\n",
       "      <td>1222.5</td>\n",
       "      <td>2010.40</td>\n",
       "      <td>14.9285</td>\n",
       "      <td>18.45</td>\n",
       "    </tr>\n",
       "    <tr>\n",
       "      <th>2014-09-20</th>\n",
       "      <td>408.903992</td>\n",
       "      <td>NaN</td>\n",
       "      <td>NaN</td>\n",
       "      <td>NaN</td>\n",
       "      <td>NaN</td>\n",
       "    </tr>\n",
       "    <tr>\n",
       "      <th>2014-09-21</th>\n",
       "      <td>398.821014</td>\n",
       "      <td>NaN</td>\n",
       "      <td>NaN</td>\n",
       "      <td>NaN</td>\n",
       "      <td>NaN</td>\n",
       "    </tr>\n",
       "  </tbody>\n",
       "</table>\n",
       "</div>"
      ],
      "text/plain": [
       "              BTC(USD)  GLD(USD)  S&P500(USD)  GOLD(USD)  SLV(USD)\n",
       "Date                                                              \n",
       "2014-09-17  457.334015    1236.5      2001.57    15.5009     18.63\n",
       "2014-09-18  424.440002    1223.0      2011.36    15.2624     18.50\n",
       "2014-09-19  394.795990    1222.5      2010.40    14.9285     18.45\n",
       "2014-09-20  408.903992       NaN          NaN        NaN       NaN\n",
       "2014-09-21  398.821014       NaN          NaN        NaN       NaN"
      ]
     },
     "execution_count": 28,
     "metadata": {},
     "output_type": "execute_result"
    }
   ],
   "source": [
    "#Set index to 'Date'  for graphing and visualization\n",
    "maindf= maindf.set_index('Date')\n",
    "maindf.head()"
   ]
  },
  {
   "cell_type": "code",
   "execution_count": 29,
   "metadata": {},
   "outputs": [
    {
     "data": {
      "text/html": [
       "<div>\n",
       "<style scoped>\n",
       "    .dataframe tbody tr th:only-of-type {\n",
       "        vertical-align: middle;\n",
       "    }\n",
       "\n",
       "    .dataframe tbody tr th {\n",
       "        vertical-align: top;\n",
       "    }\n",
       "\n",
       "    .dataframe thead th {\n",
       "        text-align: right;\n",
       "    }\n",
       "</style>\n",
       "<table border=\"1\" class=\"dataframe\">\n",
       "  <thead>\n",
       "    <tr style=\"text-align: right;\">\n",
       "      <th></th>\n",
       "      <th>BTC(USD)</th>\n",
       "      <th>GLD(USD)</th>\n",
       "      <th>S&amp;P500(USD)</th>\n",
       "      <th>GOLD(USD)</th>\n",
       "      <th>SLV(USD)</th>\n",
       "    </tr>\n",
       "  </thead>\n",
       "  <tbody>\n",
       "    <tr>\n",
       "      <th>count</th>\n",
       "      <td>2166.000000</td>\n",
       "      <td>1514.000000</td>\n",
       "      <td>1494.000000</td>\n",
       "      <td>1494.000000</td>\n",
       "      <td>1519.000000</td>\n",
       "    </tr>\n",
       "    <tr>\n",
       "      <th>mean</th>\n",
       "      <td>4319.095491</td>\n",
       "      <td>1310.203666</td>\n",
       "      <td>2496.003246</td>\n",
       "      <td>14.822713</td>\n",
       "      <td>16.590012</td>\n",
       "    </tr>\n",
       "    <tr>\n",
       "      <th>std</th>\n",
       "      <td>4095.257714</td>\n",
       "      <td>170.517162</td>\n",
       "      <td>404.167387</td>\n",
       "      <td>4.621470</td>\n",
       "      <td>1.825305</td>\n",
       "    </tr>\n",
       "    <tr>\n",
       "      <th>min</th>\n",
       "      <td>178.102997</td>\n",
       "      <td>1049.600000</td>\n",
       "      <td>1829.080000</td>\n",
       "      <td>5.751500</td>\n",
       "      <td>11.772000</td>\n",
       "    </tr>\n",
       "    <tr>\n",
       "      <th>25%</th>\n",
       "      <td>430.568237</td>\n",
       "      <td>1208.462500</td>\n",
       "      <td>2099.147500</td>\n",
       "      <td>12.141925</td>\n",
       "      <td>15.399500</td>\n",
       "    </tr>\n",
       "    <tr>\n",
       "      <th>50%</th>\n",
       "      <td>3564.492798</td>\n",
       "      <td>1271.400000</td>\n",
       "      <td>2471.075000</td>\n",
       "      <td>13.940050</td>\n",
       "      <td>16.510000</td>\n",
       "    </tr>\n",
       "    <tr>\n",
       "      <th>75%</th>\n",
       "      <td>7804.194214</td>\n",
       "      <td>1335.600000</td>\n",
       "      <td>2823.647500</td>\n",
       "      <td>17.337500</td>\n",
       "      <td>17.399500</td>\n",
       "    </tr>\n",
       "    <tr>\n",
       "      <th>max</th>\n",
       "      <td>19497.400391</td>\n",
       "      <td>2061.500000</td>\n",
       "      <td>3397.160000</td>\n",
       "      <td>30.130000</td>\n",
       "      <td>29.261000</td>\n",
       "    </tr>\n",
       "  </tbody>\n",
       "</table>\n",
       "</div>"
      ],
      "text/plain": [
       "           BTC(USD)     GLD(USD)  S&P500(USD)    GOLD(USD)     SLV(USD)\n",
       "count   2166.000000  1514.000000  1494.000000  1494.000000  1519.000000\n",
       "mean    4319.095491  1310.203666  2496.003246    14.822713    16.590012\n",
       "std     4095.257714   170.517162   404.167387     4.621470     1.825305\n",
       "min      178.102997  1049.600000  1829.080000     5.751500    11.772000\n",
       "25%      430.568237  1208.462500  2099.147500    12.141925    15.399500\n",
       "50%     3564.492798  1271.400000  2471.075000    13.940050    16.510000\n",
       "75%     7804.194214  1335.600000  2823.647500    17.337500    17.399500\n",
       "max    19497.400391  2061.500000  3397.160000    30.130000    29.261000"
      ]
     },
     "execution_count": 29,
     "metadata": {},
     "output_type": "execute_result"
    }
   ],
   "source": [
    "# Now, to deal with the Nan's. The best option I propose is to forward fill\n",
    "# the missing values since the values do not change much over the weekends.\n",
    "# Lets be careful though and observe the mean, std deviation, etc of each\n",
    "# column before we use ffill.\n",
    "maindf.describe()"
   ]
  },
  {
   "cell_type": "code",
   "execution_count": 30,
   "metadata": {},
   "outputs": [],
   "source": [
    "# Now use ffill to remove the Nan's\n",
    "maindf = maindf.fillna(axis=0, method='ffill')"
   ]
  },
  {
   "cell_type": "code",
   "execution_count": 31,
   "metadata": {},
   "outputs": [
    {
     "data": {
      "text/html": [
       "<div>\n",
       "<style scoped>\n",
       "    .dataframe tbody tr th:only-of-type {\n",
       "        vertical-align: middle;\n",
       "    }\n",
       "\n",
       "    .dataframe tbody tr th {\n",
       "        vertical-align: top;\n",
       "    }\n",
       "\n",
       "    .dataframe thead th {\n",
       "        text-align: right;\n",
       "    }\n",
       "</style>\n",
       "<table border=\"1\" class=\"dataframe\">\n",
       "  <thead>\n",
       "    <tr style=\"text-align: right;\">\n",
       "      <th></th>\n",
       "      <th>BTC(USD)</th>\n",
       "      <th>GLD(USD)</th>\n",
       "      <th>S&amp;P500(USD)</th>\n",
       "      <th>GOLD(USD)</th>\n",
       "      <th>SLV(USD)</th>\n",
       "    </tr>\n",
       "  </thead>\n",
       "  <tbody>\n",
       "    <tr>\n",
       "      <th>count</th>\n",
       "      <td>2166.000000</td>\n",
       "      <td>2166.000000</td>\n",
       "      <td>2166.000000</td>\n",
       "      <td>2166.000000</td>\n",
       "      <td>2166.000000</td>\n",
       "    </tr>\n",
       "    <tr>\n",
       "      <th>mean</th>\n",
       "      <td>4319.095491</td>\n",
       "      <td>1310.235249</td>\n",
       "      <td>2495.562004</td>\n",
       "      <td>14.799460</td>\n",
       "      <td>16.567624</td>\n",
       "    </tr>\n",
       "    <tr>\n",
       "      <th>std</th>\n",
       "      <td>4095.257714</td>\n",
       "      <td>170.160135</td>\n",
       "      <td>403.820978</td>\n",
       "      <td>4.591783</td>\n",
       "      <td>1.787316</td>\n",
       "    </tr>\n",
       "    <tr>\n",
       "      <th>min</th>\n",
       "      <td>178.102997</td>\n",
       "      <td>1049.600000</td>\n",
       "      <td>1829.080000</td>\n",
       "      <td>5.751500</td>\n",
       "      <td>11.772000</td>\n",
       "    </tr>\n",
       "    <tr>\n",
       "      <th>25%</th>\n",
       "      <td>430.568237</td>\n",
       "      <td>1207.700000</td>\n",
       "      <td>2099.060000</td>\n",
       "      <td>12.139200</td>\n",
       "      <td>15.392000</td>\n",
       "    </tr>\n",
       "    <tr>\n",
       "      <th>50%</th>\n",
       "      <td>3564.492798</td>\n",
       "      <td>1271.400000</td>\n",
       "      <td>2471.875000</td>\n",
       "      <td>13.887600</td>\n",
       "      <td>16.480500</td>\n",
       "    </tr>\n",
       "    <tr>\n",
       "      <th>75%</th>\n",
       "      <td>7804.194214</td>\n",
       "      <td>1335.775000</td>\n",
       "      <td>2823.647500</td>\n",
       "      <td>17.326875</td>\n",
       "      <td>17.382000</td>\n",
       "    </tr>\n",
       "    <tr>\n",
       "      <th>max</th>\n",
       "      <td>19497.400391</td>\n",
       "      <td>2061.500000</td>\n",
       "      <td>3397.160000</td>\n",
       "      <td>30.130000</td>\n",
       "      <td>29.261000</td>\n",
       "    </tr>\n",
       "  </tbody>\n",
       "</table>\n",
       "</div>"
      ],
      "text/plain": [
       "           BTC(USD)     GLD(USD)  S&P500(USD)    GOLD(USD)     SLV(USD)\n",
       "count   2166.000000  2166.000000  2166.000000  2166.000000  2166.000000\n",
       "mean    4319.095491  1310.235249  2495.562004    14.799460    16.567624\n",
       "std     4095.257714   170.160135   403.820978     4.591783     1.787316\n",
       "min      178.102997  1049.600000  1829.080000     5.751500    11.772000\n",
       "25%      430.568237  1207.700000  2099.060000    12.139200    15.392000\n",
       "50%     3564.492798  1271.400000  2471.875000    13.887600    16.480500\n",
       "75%     7804.194214  1335.775000  2823.647500    17.326875    17.382000\n",
       "max    19497.400391  2061.500000  3397.160000    30.130000    29.261000"
      ]
     },
     "execution_count": 31,
     "metadata": {},
     "output_type": "execute_result"
    }
   ],
   "source": [
    "# Lets look at the overall summary of each column again.\n",
    "maindf.describe()"
   ]
  },
  {
   "cell_type": "markdown",
   "metadata": {},
   "source": [
    "So using ffill had no significant impact on the std dev or mean for any of the columns. We can see that the strongest change was probably to silver, with its std dev going from 1.825 to 1.787.  Still, not significant. "
   ]
  },
  {
   "cell_type": "code",
   "execution_count": 32,
   "metadata": {},
   "outputs": [
    {
     "data": {
      "text/plain": [
       "BTC(USD)       0\n",
       "GLD(USD)       0\n",
       "S&P500(USD)    0\n",
       "GOLD(USD)      0\n",
       "SLV(USD)       0\n",
       "dtype: int64"
      ]
     },
     "execution_count": 32,
     "metadata": {},
     "output_type": "execute_result"
    }
   ],
   "source": [
    "# Double  check, but there should't be any  nan values now.\n",
    "maindf.isnull().sum()"
   ]
  },
  {
   "cell_type": "markdown",
   "metadata": {},
   "source": [
    "Sweet, so everything is clean now. No duplicate dates and no NaN  values. Now lets finally take a look to see if there  is any correlation among these datasets. Lets first look at a timeline graph of all the columns to see if anything stands out."
   ]
  },
  {
   "cell_type": "code",
   "execution_count": 33,
   "metadata": {},
   "outputs": [
    {
     "data": {
      "image/png": "[encoded data removed]",
      "text/plain": [
       "<Figure size 576x288 with 1 Axes>"
      ]
     },
     "metadata": {
      "needs_background": "light"
     },
     "output_type": "display_data"
    }
   ],
   "source": [
    "maindf['GLD(USD)'].plot(label='GLD',figsize=(8,4), title='Closing Price Value in USD')\n",
    "maindf['S&P500(USD)'].plot(label='S&P')\n",
    "maindf['GOLD(USD)'].plot(label='GOLD')\n",
    "maindf['SLV(USD)'].plot(label='SLV')\n",
    "maindf['BTC(USD)'].plot(label='BTC')\n",
    "\n",
    "plt.xlabel('Date')\n",
    "plt.ylabel('Value(USD)')\n",
    "plt.legend();"
   ]
  },
  {
   "cell_type": "markdown",
   "metadata": {},
   "source": [
    "Welp, it appears that Bitcoin has had such high values and variability that we can't even see the fluxuation of Barrick  Gold Corp (GOLD) or Silver (SLV). Keep in mind that we can always scale the data to make it more observable, but lets save that for the end. Let's use seaborns heatmap correlation instead."
   ]
  },
  {
   "cell_type": "code",
   "execution_count": 34,
   "metadata": {
    "scrolled": false
   },
   "outputs": [
    {
     "data": {
      "text/plain": [
       "Text(0.5, 1.05, 'Correlation of MainDF Features')"
      ]
     },
     "execution_count": 34,
     "metadata": {},
     "output_type": "execute_result"
    },
    {
     "data": {
      "image/png": "[encoded data removed]",
      "text/plain": [
       "<Figure size 432x432 with 2 Axes>"
      ]
     },
     "metadata": {
      "needs_background": "light"
     },
     "output_type": "display_data"
    }
   ],
   "source": [
    "corr = maindf.corr()\n",
    "plt.figure(figsize = (6,6))\n",
    "sns.heatmap(corr,\n",
    "           xticklabels=corr.columns.values,\n",
    "           yticklabels=corr.columns.values,\n",
    "           annot=True, fmt='.2f', linewidths=.30)\n",
    "plt.title('Correlation of MainDF Features', y =1.05,  size=15)"
   ]
  },
  {
   "cell_type": "markdown",
   "metadata": {},
   "source": [
    "That's a lot easier to read and make note of correlations. It looks like the value of gold (GLD) is significantly correlated with the value of the S&P 500 index (S&P500). In addition, there are several other noteworthy correlations, such as silvers correlation to Barrick Gold Corp and Bitcoins correlation to S&P500."
   ]
  },
  {
   "cell_type": "code",
   "execution_count": 35,
   "metadata": {},
   "outputs": [
    {
     "name": "stdout",
     "output_type": "stream",
     "text": [
      "GLD(USD)       1.000000\n",
      "GOLD(USD)      0.839257\n",
      "S&P500(USD)    0.716838\n",
      "BTC(USD)       0.636641\n",
      "SLV(USD)       0.579910\n",
      "Name: GLD(USD), dtype: float64 \n",
      "\n"
     ]
    }
   ],
   "source": [
    "# Correlation Scores:\n",
    "print(corr['GLD(USD)'].sort_values(ascending =False), '\\n')"
   ]
  },
  {
   "cell_type": "code",
   "execution_count": 36,
   "metadata": {},
   "outputs": [
    {
     "data": {
      "text/plain": [
       "<seaborn.axisgrid.JointGrid at 0x2350fb64708>"
      ]
     },
     "execution_count": 36,
     "metadata": {},
     "output_type": "execute_result"
    },
    {
     "data": {
      "image/png": "[encoded data removed]",
      "text/plain": [
       "<Figure size 432x432 with 3 Axes>"
      ]
     },
     "metadata": {
      "needs_background": "light"
     },
     "output_type": "display_data"
    }
   ],
   "source": [
    "# Using jointplotto visualize relation of GLD with other variables\n",
    "sns.jointplot(x  = maindf['GOLD(USD)'], y=maindf['GLD(USD)'], color='blue')"
   ]
  },
  {
   "cell_type": "code",
   "execution_count": 37,
   "metadata": {},
   "outputs": [
    {
     "data": {
      "text/plain": [
       "<seaborn.axisgrid.JointGrid at 0x2350fd46588>"
      ]
     },
     "execution_count": 37,
     "metadata": {},
     "output_type": "execute_result"
    },
    {
     "data": {
      "image/png": "[encoded data removed]",
      "text/plain": [
       "<Figure size 432x432 with 3 Axes>"
      ]
     },
     "metadata": {
      "needs_background": "light"
     },
     "output_type": "display_data"
    }
   ],
   "source": [
    "# How about S&P500 and GLD?\n",
    "sns.jointplot(x= maindf['S&P500(USD)'], y=maindf['GLD(USD)'], color='gold')"
   ]
  },
  {
   "cell_type": "code",
   "execution_count": 38,
   "metadata": {},
   "outputs": [
    {
     "data": {
      "text/plain": [
       "<seaborn.axisgrid.JointGrid at 0x23510ee4e88>"
      ]
     },
     "execution_count": 38,
     "metadata": {},
     "output_type": "execute_result"
    },
    {
     "data": {
      "image/png": "[encoded data removed]",
      "text/plain": [
       "<Figure size 432x432 with 3 Axes>"
      ]
     },
     "metadata": {
      "needs_background": "light"
     },
     "output_type": "display_data"
    }
   ],
   "source": [
    "# And just for giggles, how about S&P500 and Bitcoin?\n",
    "sns.jointplot(x  = maindf['S&P500(USD)'], y=maindf['BTC(USD)'], color='Green')"
   ]
  },
  {
   "cell_type": "code",
   "execution_count": 39,
   "metadata": {},
   "outputs": [
    {
     "name": "stdout",
     "output_type": "stream",
     "text": [
      "(1624, 1) (1624, 1)\n",
      "(542, 1) (542, 1)\n"
     ]
    }
   ],
   "source": [
    "# Alright, all fun, but lets write the Random Forest Regression test.\n",
    "# Remember our hypothesis and null hypothesis in order to assign the right\n",
    "# variables to the dependent and independent variables.\n",
    "\n",
    "X = maindf[['S&P500(USD)']]\n",
    "y = maindf[['GLD(USD)']]\n",
    "\n",
    "X_train, X_test, y_train, y_test = train_test_split(\n",
    "    X, y, test_size=0.25, random_state=1995)\n",
    "print(X_train.shape,  y_train.shape)\n",
    "print(X_test.shape, y_test.shape)"
   ]
  },
  {
   "cell_type": "code",
   "execution_count": 40,
   "metadata": {},
   "outputs": [
    {
     "name": "stdout",
     "output_type": "stream",
     "text": [
      "0.5186231973510473\n"
     ]
    }
   ],
   "source": [
    "# Applying what I learned from my wine linear regression, \n",
    "# we are going to work through several models.\n",
    "rModel = linear_model.LinearRegression(normalize=True)\n",
    "rModel.fit(X_train, y_train)\n",
    "print(rModel.score(X_train, y_train))"
   ]
  },
  {
   "cell_type": "markdown",
   "metadata": {},
   "source": [
    "Currently, the model only explains ~52% of the variation from the mean."
   ]
  },
  {
   "cell_type": "code",
   "execution_count": 41,
   "metadata": {},
   "outputs": [
    {
     "data": {
      "text/plain": [
       "<matplotlib.collections.PathCollection at 0x23510fc3488>"
      ]
     },
     "execution_count": 41,
     "metadata": {},
     "output_type": "execute_result"
    },
    {
     "data": {
      "image/png": "[encoded data removed]",
      "text/plain": [
       "<Figure size 432x288 with 1 Axes>"
      ]
     },
     "metadata": {
      "needs_background": "light"
     },
     "output_type": "display_data"
    }
   ],
   "source": [
    "# Got to predict the test set result\n",
    "y_pred = rModel.predict(X_test)\n",
    "plt.scatter(y_test, y_pred)"
   ]
  },
  {
   "cell_type": "code",
   "execution_count": 42,
   "metadata": {},
   "outputs": [],
   "source": [
    "# Now lets move on to our second model, Ordinary Least Squares (OLS)\n",
    "X = maindf[['GLD(USD)']]\n",
    "\n",
    "# But now, reassign X the value of adding a constant to it. This is required for OLS Regression.\n",
    "X = sm.add_constant(X)"
   ]
  },
  {
   "cell_type": "code",
   "execution_count": 43,
   "metadata": {},
   "outputs": [],
   "source": [
    "# Assign y as before\n",
    "y=maindf[['S&P500(USD)']]\n",
    "\n",
    "X_train, X_test, y_train, y_test = train_test_split(\n",
    "    X, y, test_size=0.25, random_state=1995)"
   ]
  },
  {
   "cell_type": "code",
   "execution_count": 44,
   "metadata": {},
   "outputs": [
    {
     "data": {
      "text/html": [
       "<table class=\"simpletable\">\n",
       "<caption>OLS Regression Results</caption>\n",
       "<tr>\n",
       "  <th>Dep. Variable:</th>       <td>S&P500(USD)</td>   <th>  R-squared:         </th> <td>   0.519</td> \n",
       "</tr>\n",
       "<tr>\n",
       "  <th>Model:</th>                   <td>OLS</td>       <th>  Adj. R-squared:    </th> <td>   0.518</td> \n",
       "</tr>\n",
       "<tr>\n",
       "  <th>Method:</th>             <td>Least Squares</td>  <th>  F-statistic:       </th> <td>   1748.</td> \n",
       "</tr>\n",
       "<tr>\n",
       "  <th>Date:</th>             <td>Sun, 06 Dec 2020</td> <th>  Prob (F-statistic):</th> <td>8.60e-260</td>\n",
       "</tr>\n",
       "<tr>\n",
       "  <th>Time:</th>                 <td>12:26:36</td>     <th>  Log-Likelihood:    </th> <td> -11461.</td> \n",
       "</tr>\n",
       "<tr>\n",
       "  <th>No. Observations:</th>      <td>  1624</td>      <th>  AIC:               </th> <td>2.293e+04</td>\n",
       "</tr>\n",
       "<tr>\n",
       "  <th>Df Residuals:</th>          <td>  1622</td>      <th>  BIC:               </th> <td>2.294e+04</td>\n",
       "</tr>\n",
       "<tr>\n",
       "  <th>Df Model:</th>              <td>     1</td>      <th>                     </th>     <td> </td>    \n",
       "</tr>\n",
       "<tr>\n",
       "  <th>Covariance Type:</th>      <td>nonrobust</td>    <th>                     </th>     <td> </td>    \n",
       "</tr>\n",
       "</table>\n",
       "<table class=\"simpletable\">\n",
       "<tr>\n",
       "      <td></td>        <th>coef</th>     <th>std err</th>      <th>t</th>      <th>P>|t|</th>  <th>[0.025</th>    <th>0.975]</th>  \n",
       "</tr>\n",
       "<tr>\n",
       "  <th>const</th>    <td>  256.2488</td> <td>   54.034</td> <td>    4.742</td> <td> 0.000</td> <td>  150.264</td> <td>  362.233</td>\n",
       "</tr>\n",
       "<tr>\n",
       "  <th>GLD(USD)</th> <td>    1.7072</td> <td>    0.041</td> <td>   41.803</td> <td> 0.000</td> <td>    1.627</td> <td>    1.787</td>\n",
       "</tr>\n",
       "</table>\n",
       "<table class=\"simpletable\">\n",
       "<tr>\n",
       "  <th>Omnibus:</th>       <td>365.916</td> <th>  Durbin-Watson:     </th> <td>   1.931</td>\n",
       "</tr>\n",
       "<tr>\n",
       "  <th>Prob(Omnibus):</th> <td> 0.000</td>  <th>  Jarque-Bera (JB):  </th> <td>  79.675</td>\n",
       "</tr>\n",
       "<tr>\n",
       "  <th>Skew:</th>          <td> 0.212</td>  <th>  Prob(JB):          </th> <td>5.00e-18</td>\n",
       "</tr>\n",
       "<tr>\n",
       "  <th>Kurtosis:</th>      <td> 2.001</td>  <th>  Cond. No.          </th> <td>1.02e+04</td>\n",
       "</tr>\n",
       "</table><br/><br/>Warnings:<br/>[1] Standard Errors assume that the covariance matrix of the errors is correctly specified.<br/>[2] The condition number is large, 1.02e+04. This might indicate that there are<br/>strong multicollinearity or other numerical problems."
      ],
      "text/plain": [
       "<class 'statsmodels.iolib.summary.Summary'>\n",
       "\"\"\"\n",
       "                            OLS Regression Results                            \n",
       "==============================================================================\n",
       "Dep. Variable:            S&P500(USD)   R-squared:                       0.519\n",
       "Model:                            OLS   Adj. R-squared:                  0.518\n",
       "Method:                 Least Squares   F-statistic:                     1748.\n",
       "Date:                Sun, 06 Dec 2020   Prob (F-statistic):          8.60e-260\n",
       "Time:                        12:26:36   Log-Likelihood:                -11461.\n",
       "No. Observations:                1624   AIC:                         2.293e+04\n",
       "Df Residuals:                    1622   BIC:                         2.294e+04\n",
       "Df Model:                           1                                         \n",
       "Covariance Type:            nonrobust                                         \n",
       "==============================================================================\n",
       "                 coef    std err          t      P>|t|      [0.025      0.975]\n",
       "------------------------------------------------------------------------------\n",
       "const        256.2488     54.034      4.742      0.000     150.264     362.233\n",
       "GLD(USD)       1.7072      0.041     41.803      0.000       1.627       1.787\n",
       "==============================================================================\n",
       "Omnibus:                      365.916   Durbin-Watson:                   1.931\n",
       "Prob(Omnibus):                  0.000   Jarque-Bera (JB):               79.675\n",
       "Skew:                           0.212   Prob(JB):                     5.00e-18\n",
       "Kurtosis:                       2.001   Cond. No.                     1.02e+04\n",
       "==============================================================================\n",
       "\n",
       "Warnings:\n",
       "[1] Standard Errors assume that the covariance matrix of the errors is correctly specified.\n",
       "[2] The condition number is large, 1.02e+04. This might indicate that there are\n",
       "strong multicollinearity or other numerical problems.\n",
       "\"\"\""
      ]
     },
     "execution_count": 44,
     "metadata": {},
     "output_type": "execute_result"
    }
   ],
   "source": [
    "# Create our second regression model\n",
    "rModel2 = sm.OLS(y_train, X_train)\n",
    "\n",
    "# Fit the model\n",
    "rModel2_results = rModel2.fit()\n",
    "\n",
    "# Review\n",
    "rModel2_results.summary()"
   ]
  },
  {
   "cell_type": "code",
   "execution_count": 45,
   "metadata": {},
   "outputs": [
    {
     "data": {
      "text/plain": [
       "Text(0, 0.5, 'Predicted Values')"
      ]
     },
     "execution_count": 45,
     "metadata": {},
     "output_type": "execute_result"
    },
    {
     "data": {
      "image/png": "[encoded data removed]",
      "text/plain": [
       "<Figure size 432x288 with 1 Axes>"
      ]
     },
     "metadata": {
      "needs_background": "light"
     },
     "output_type": "display_data"
    }
   ],
   "source": [
    "# Predict!\n",
    "y_pred = rModel2_results.predict(X_test)\n",
    "\n",
    "plt.scatter(y_test, y_pred)\n",
    "\n",
    "plt.plot([x for x  in range(2400,3000)], [x for x in range(2400,3000)], color='red')\n",
    "\n",
    "plt.title('OLS Predictions vs. Actual Values')\n",
    "plt.xlabel('Actual Values')\n",
    "plt.ylabel('Predicted Values')"
   ]
  },
  {
   "cell_type": "code",
   "execution_count": 46,
   "metadata": {},
   "outputs": [
    {
     "name": "stdout",
     "output_type": "stream",
     "text": [
      "(-0.966678503857123, 0.7652227681978481, 23, 2142, {'1%': -3.433406561117599, '5%': -2.8628902732885773, '10%': -2.567488819510375}, 19624.312074117315)\n",
      "(1.5885133621743017, 0.9978227024025917, 24, 2141, {'1%': -3.4334079904672232, '5%': -2.8628909043977235, '10%': -2.567489155536542}, 15915.203329929906)\n"
     ]
    }
   ],
   "source": [
    "# ADF Test\n",
    "print(sm.tsa.stattools.adfuller(maindf['S&P500(USD)']))\n",
    "print(sm.tsa.stattools.adfuller(maindf['GLD(USD)']))"
   ]
  },
  {
   "cell_type": "markdown",
   "metadata": {},
   "source": [
    "- ARIMAX is in stats models\n",
    "- X is usually the exogenous variable\n",
    "- 3 parameters; AR, I, MAX\n",
    "- Use the features to predict X\n"
   ]
  },
  {
   "cell_type": "code",
   "execution_count": 58,
   "metadata": {},
   "outputs": [
    {
     "name": "stdout",
     "output_type": "stream",
     "text": [
      "                            OLS Regression Results                            \n",
      "==============================================================================\n",
      "Dep. Variable:               GLD(USD)   R-squared:                       0.514\n",
      "Model:                            OLS   Adj. R-squared:                  0.514\n",
      "Method:                 Least Squares   F-statistic:                     2287.\n",
      "Date:                Sun, 06 Dec 2020   Prob (F-statistic):               0.00\n",
      "Time:                        12:38:59   Log-Likelihood:                -13418.\n",
      "No. Observations:                2166   AIC:                         2.684e+04\n",
      "Df Residuals:                    2164   BIC:                         2.685e+04\n",
      "Df Model:                           1                                         \n",
      "Covariance Type:            nonrobust                                         \n",
      "===============================================================================\n",
      "                  coef    std err          t      P>|t|      [0.025      0.975]\n",
      "-------------------------------------------------------------------------------\n",
      "S&P500(USD)     0.3021      0.006     47.826      0.000       0.290       0.314\n",
      "const         556.4314     15.966     34.851      0.000     525.121     587.742\n",
      "==============================================================================\n",
      "Omnibus:                      353.150   Durbin-Watson:                   0.011\n",
      "Prob(Omnibus):                  0.000   Jarque-Bera (JB):              653.654\n",
      "Skew:                           1.010   Prob(JB):                    1.15e-142\n",
      "Kurtosis:                       4.778   Cond. No.                     1.58e+04\n",
      "==============================================================================\n",
      "\n",
      "Warnings:\n",
      "[1] Standard Errors assume that the covariance matrix of the errors is correctly specified.\n",
      "[2] The condition number is large, 1.58e+04. This might indicate that there are\n",
      "strong multicollinearity or other numerical problems.\n"
     ]
    }
   ],
   "source": [
    "maindf['const'] = 1\n",
    "model1= sm.OLS(endog=maindf['GLD(USD)'], exog=maindf[['S&P500(USD)','const']].dropna())\n",
    "results1 = model1.fit()\n",
    "print(results1.summary())"
   ]
  },
  {
   "cell_type": "code",
   "execution_count": 63,
   "metadata": {},
   "outputs": [
    {
     "name": "stdout",
     "output_type": "stream",
     "text": [
      "                            OLS Regression Results                            \n",
      "==============================================================================\n",
      "Dep. Variable:                diffGLD   R-squared:                       0.003\n",
      "Model:                            OLS   Adj. R-squared:                  0.003\n",
      "Method:                 Least Squares   F-statistic:                     6.571\n",
      "Date:                Sun, 06 Dec 2020   Prob (F-statistic):             0.0104\n",
      "Time:                        12:40:25   Log-Likelihood:                -8050.0\n",
      "No. Observations:                2165   AIC:                         1.610e+04\n",
      "Df Residuals:                    2163   BIC:                         1.612e+04\n",
      "Df Model:                           1                                         \n",
      "Covariance Type:            nonrobust                                         \n",
      "==============================================================================\n",
      "                 coef    std err          t      P>|t|      [0.025      0.975]\n",
      "------------------------------------------------------------------------------\n",
      "diffS&P        0.0220      0.009      2.563      0.010       0.005       0.039\n",
      "const          0.3074      0.214      1.434      0.152      -0.113       0.728\n",
      "==============================================================================\n",
      "Omnibus:                      510.725   Durbin-Watson:                   1.966\n",
      "Prob(Omnibus):                  0.000   Jarque-Bera (JB):            13788.765\n",
      "Skew:                           0.482   Prob(JB):                         0.00\n",
      "Kurtosis:                      15.326   Cond. No.                         25.0\n",
      "==============================================================================\n",
      "\n",
      "Warnings:\n",
      "[1] Standard Errors assume that the covariance matrix of the errors is correctly specified.\n"
     ]
    }
   ],
   "source": [
    "maindf['diffGLD'] = maindf['GLD(USD)'].diff()\n",
    "maindf['diffS&P'] = maindf['S&P500(USD)'].diff()\n",
    "model2 = sm.OLS(endog=maindf['diffGLD'].dropna(), exog=maindf[['diffS&P','const']].dropna())\n",
    "results2 = model2.fit()\n",
    "print(results2.summary())"
   ]
  },
  {
   "cell_type": "code",
   "execution_count": 66,
   "metadata": {},
   "outputs": [
    {
     "name": "stdout",
     "output_type": "stream",
     "text": [
      "\n",
      "Granger Causality\n",
      "number of lags (no zero) 1\n",
      "ssr based F test:         F=1.0461  , p=0.3065  , df_denom=2162, df_num=1\n",
      "ssr based chi2 test:   chi2=1.0476  , p=0.3061  , df=1\n",
      "likelihood ratio test: chi2=1.0473  , p=0.3061  , df=1\n",
      "parameter F test:         F=1.0461  , p=0.3065  , df_denom=2162, df_num=1\n",
      "{1: ({'ssr_ftest': (1.0461356785189957, 0.3065131855306691, 2162.0, 1), 'ssr_chi2test': (1.0475873006446002, 0.3060634082406887, 1), 'lrtest': (1.0473339322215907, 0.3061219061737915, 1), 'params_ftest': (1.0461356785192872, 0.30651318553049306, 2162.0, 1.0)}, [<statsmodels.regression.linear_model.RegressionResultsWrapper object at 0x000002350F8C5348>, <statsmodels.regression.linear_model.RegressionResultsWrapper object at 0x0000023511134748>, array([[0., 1., 0.]])])}\n"
     ]
    }
   ],
   "source": [
    "print(sm.tsa.stattools.grangercausalitytests(maindf[['GLD(USD)', 'S&P500(USD)']].dropna(),1))"
   ]
  },
  {
   "cell_type": "code",
   "execution_count": 67,
   "metadata": {},
   "outputs": [
    {
     "name": "stdout",
     "output_type": "stream",
     "text": [
      "\n",
      "Granger Causality\n",
      "number of lags (no zero) 1\n",
      "ssr based F test:         F=6.0242  , p=0.0142  , df_denom=2162, df_num=1\n",
      "ssr based chi2 test:   chi2=6.0326  , p=0.0140  , df=1\n",
      "likelihood ratio test: chi2=6.0242  , p=0.0141  , df=1\n",
      "parameter F test:         F=6.0242  , p=0.0142  , df_denom=2162, df_num=1\n",
      "{1: ({'ssr_ftest': (6.024229622466091, 0.014189108572175231, 2162.0, 1), 'ssr_chi2test': (6.032588868010679, 0.014044120496233449, 1), 'lrtest': (6.0241997994125995, 0.014111027909282285, 1), 'params_ftest': (6.02422962246339, 0.014189108572198357, 2162.0, 1.0)}, [<statsmodels.regression.linear_model.RegressionResultsWrapper object at 0x000002350F8C5248>, <statsmodels.regression.linear_model.RegressionResultsWrapper object at 0x0000023511134948>, array([[0., 1., 0.]])])}\n"
     ]
    }
   ],
   "source": [
    "print(sm.tsa.stattools.grangercausalitytests(maindf[[ 'S&P500(USD)','GLD(USD)']].dropna(),1))"
   ]
  },
  {
   "cell_type": "code",
   "execution_count": 70,
   "metadata": {},
   "outputs": [
    {
     "name": "stdout",
     "output_type": "stream",
     "text": [
      "                             ARIMA Model Results                              \n",
      "==============================================================================\n",
      "Dep. Variable:             D.GLD(USD)   No. Observations:                 2161\n",
      "Model:                 ARIMA(1, 1, 0)   Log Likelihood               -8035.662\n",
      "Method:                       css-mle   S.D. of innovations              9.970\n",
      "Date:                Sun, 06 Dec 2020   AIC                          16079.324\n",
      "Time:                        12:52:20   BIC                          16102.037\n",
      "Sample:                    09-22-2014   HQIC                         16087.631\n",
      "                         - 08-21-2020                                         \n",
      "====================================================================================\n",
      "                       coef    std err          z      P>|z|      [0.025      0.975]\n",
      "------------------------------------------------------------------------------------\n",
      "const                0.3143      0.218      1.442      0.149      -0.113       0.742\n",
      "lag                  0.0225      0.009      2.627      0.009       0.006       0.039\n",
      "ar.L1.D.GLD(USD)     0.0160      0.022      0.744      0.457      -0.026       0.058\n",
      "                                    Roots                                    \n",
      "=============================================================================\n",
      "                  Real          Imaginary           Modulus         Frequency\n",
      "-----------------------------------------------------------------------------\n",
      "AR.1           62.3731           +0.0000j           62.3731            0.0000\n",
      "-----------------------------------------------------------------------------\n"
     ]
    },
    {
     "name": "stderr",
     "output_type": "stream",
     "text": [
      "C:\\Users\\mccal\\anaconda3\\lib\\site-packages\\statsmodels\\tsa\\base\\tsa_model.py:162: ValueWarning: No frequency information was provided, so inferred frequency D will be used.\n",
      "  % freq, ValueWarning)\n",
      "C:\\Users\\mccal\\anaconda3\\lib\\site-packages\\statsmodels\\tsa\\base\\tsa_model.py:162: ValueWarning: No frequency information was provided, so inferred frequency D will be used.\n",
      "  % freq, ValueWarning)\n"
     ]
    }
   ],
   "source": [
    "maindf['lag']=maindf['diffS&P'].shift()\n",
    "maindf.dropna(inplace=True)\n",
    "model3=sm.tsa.ARIMA(endog=maindf['GLD(USD)'], exog=maindf[['lag']], order=[1,1,0])\n",
    "results3=model3.fit()\n",
    "print(results3.summary())"
   ]
  },
  {
   "cell_type": "code",
   "execution_count": null,
   "metadata": {},
   "outputs": [],
   "source": []
  }
 ],
 "metadata": {
  "kernelspec": {
   "display_name": "Python 3",
   "language": "python",
   "name": "python3"
  },
  "language_info": {
   "codemirror_mode": {
    "name": "ipython",
    "version": 3
   },
   "file_extension": ".py",
   "mimetype": "text/x-python",
   "name": "python",
   "nbconvert_exporter": "python",
   "pygments_lexer": "ipython3",
   "version": "3.7.6"
  }
 },
 "nbformat": 4,
 "nbformat_minor": 4
}
