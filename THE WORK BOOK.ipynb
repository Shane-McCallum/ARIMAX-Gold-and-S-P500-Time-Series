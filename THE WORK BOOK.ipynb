{
 "cells": [
  {
   "cell_type": "markdown",
   "metadata": {},
   "source": [
    "# Gold Comparison Capstone: Part 1 - Data Wrangling"
   ]
  },
  {
   "cell_type": "markdown",
   "metadata": {},
   "source": [
    "For this capstone I have collected a total of five different csv files. They are:\n",
    "1. \"gold-price-last-ten-years.csv\"\n",
    "2. \"SP500 2007-2020.csv\"\n",
    "3. \"silver history.csv\"\n",
    "4. \"Barrick Gold Corp 1985-2020.csv\"\n",
    "\n",
    "The purpose of this capstone is to conduct a small scale test on the belief that the value of GLD increases when the value of stock market indexes decreases (represented by the S&P500 index). To add some additional insight and food for thought, I have included several other sets of data: the value of silver, the stock value of Barrick Gold Corp (a gold mining company), and the value of Bitcoin to the US dollar. The reasoning for including silver is to see if this trend is unique to gold, or if other precious metals increase in value as the stock market declines. The stock value of Barrick Gold Corp. is included in order to see if the stock value of gold mining companies also increases in value in correlation to the value of gold and the S&P500 index.\n",
    "\n",
    "Hypothesis: When the S&P500 index goes down in value (represented by the S&P500 index), the value of gold increases.\n",
    "\n",
    "Null Hypothesis: S&P500 index value dropping will not have a statistically significant, positive effect on the stock value of Gold.\n",
    "\n",
    "After discovering any significant relationships between the indexes/stocks, I will write a time series in order to see how well we can predict one based off of another.\n",
    "\n",
    "To begin, I will clean the data in order to properly merge and compare it in a single dataframe."
   ]
  },
  {
   "cell_type": "code",
   "execution_count": 1,
   "metadata": {},
   "outputs": [
    {
     "data": {
      "text/html": [
       "<div>\n",
       "<style scoped>\n",
       "    .dataframe tbody tr th:only-of-type {\n",
       "        vertical-align: middle;\n",
       "    }\n",
       "\n",
       "    .dataframe tbody tr th {\n",
       "        vertical-align: top;\n",
       "    }\n",
       "\n",
       "    .dataframe thead th {\n",
       "        text-align: right;\n",
       "    }\n",
       "</style>\n",
       "<table border=\"1\" class=\"dataframe\">\n",
       "  <thead>\n",
       "    <tr style=\"text-align: right;\">\n",
       "      <th></th>\n",
       "      <th>date</th>\n",
       "      <th>value</th>\n",
       "    </tr>\n",
       "  </thead>\n",
       "  <tbody>\n",
       "    <tr>\n",
       "      <th>0</th>\n",
       "      <td>2010-08-25</td>\n",
       "      <td>1237.50</td>\n",
       "    </tr>\n",
       "    <tr>\n",
       "      <th>1</th>\n",
       "      <td>2010-08-26</td>\n",
       "      <td>1240.25</td>\n",
       "    </tr>\n",
       "    <tr>\n",
       "      <th>2</th>\n",
       "      <td>2010-08-27</td>\n",
       "      <td>1234.50</td>\n",
       "    </tr>\n",
       "    <tr>\n",
       "      <th>3</th>\n",
       "      <td>2010-08-31</td>\n",
       "      <td>1233.50</td>\n",
       "    </tr>\n",
       "    <tr>\n",
       "      <th>4</th>\n",
       "      <td>2010-09-01</td>\n",
       "      <td>1250.00</td>\n",
       "    </tr>\n",
       "  </tbody>\n",
       "</table>\n",
       "</div>"
      ],
      "text/plain": [
       "         date    value\n",
       "0  2010-08-25  1237.50\n",
       "1  2010-08-26  1240.25\n",
       "2  2010-08-27  1234.50\n",
       "3  2010-08-31  1233.50\n",
       "4  2010-09-01  1250.00"
      ]
     },
     "execution_count": 1,
     "metadata": {},
     "output_type": "execute_result"
    }
   ],
   "source": [
    "# To begin, I will import the \"gold-price-last-ten-years.csv,\" and \"SP500 2007-2020.csv\" \n",
    "# in order to merge them together along the date column.\n",
    "\n",
    "import pandas as pd # for importing, reading, cleaning csv files\n",
    "import numpy as np # for maths, of course\n",
    "import matplotlib.pyplot as plt # so we can plot\n",
    "from matplotlib.pylab import rcParams #\n",
    "import seaborn as sns # so we can beautify the plots\n",
    "from statsmodels.tsa.stattools import adfuller # for our Dicky Fuller tests.\n",
    "from statsmodels.tsa.stattools import acf, pacf\n",
    "from statsmodels.graphics.tsaplots import plot_acf # for visualizing Autocorrelation functions\n",
    "from statsmodels.graphics.tsaplots import plot_pacf # for visualizing Partial Autocorrelation functions \n",
    "from statsmodels.tsa.arima_model import ARIMA\n",
    "from statsmodels.tsa.arima_model import ARIMAResults\n",
    "from statsmodels.tsa.seasonal import seasonal_decompose\n",
    "from statsmodels.regression.linear_model import OLS\n",
    "from statsmodels.tsa.tsatools import lagmat\n",
    "from statsmodels.tsa.tsatools import add_trend\n",
    "from statsmodels.tsa.adfvalues import mackinnonp\n",
    "import itertools as it\n",
    "import statsmodels.api as sm # in case I think of anything else I need and didn't bring in here\n",
    "from sklearn.model_selection import train_test_split # For splitting data effectively\n",
    "from sklearn.metrics import accuracy_score\n",
    "from sklearn.metrics import mean_squared_error\n",
    "from sklearn.metrics import r2_score\n",
    "import pmdarima as pm\n",
    "import warnings # For handling error messages.\n",
    "\n",
    "path = 'C:\\\\Users\\\\mccal\\\\Desktop\\\\Springboard Files\\\\Springboard Capstone data\\\\BTG Capstone\\\\'\n",
    "\n",
    "# There is a lot of text prior to the actual columns, so the header has \\\n",
    "# been set appropriatley.\n",
    "gold = pd.read_csv('gold-price-last-ten-years.csv', sep=',', header=8)\n",
    "\n",
    "gold.head()"
   ]
  },
  {
   "cell_type": "code",
   "execution_count": 2,
   "metadata": {},
   "outputs": [
    {
     "data": {
      "text/html": [
       "<div>\n",
       "<style scoped>\n",
       "    .dataframe tbody tr th:only-of-type {\n",
       "        vertical-align: middle;\n",
       "    }\n",
       "\n",
       "    .dataframe tbody tr th {\n",
       "        vertical-align: top;\n",
       "    }\n",
       "\n",
       "    .dataframe thead th {\n",
       "        text-align: right;\n",
       "    }\n",
       "</style>\n",
       "<table border=\"1\" class=\"dataframe\">\n",
       "  <thead>\n",
       "    <tr style=\"text-align: right;\">\n",
       "      <th></th>\n",
       "      <th>date</th>\n",
       "      <th>value</th>\n",
       "    </tr>\n",
       "  </thead>\n",
       "  <tbody>\n",
       "    <tr>\n",
       "      <th>1099</th>\n",
       "      <td>2015-01-02</td>\n",
       "      <td>1184.25</td>\n",
       "    </tr>\n",
       "    <tr>\n",
       "      <th>1100</th>\n",
       "      <td>2015-01-05</td>\n",
       "      <td>1192.00</td>\n",
       "    </tr>\n",
       "    <tr>\n",
       "      <th>1101</th>\n",
       "      <td>2015-01-06</td>\n",
       "      <td>1211.00</td>\n",
       "    </tr>\n",
       "    <tr>\n",
       "      <th>1102</th>\n",
       "      <td>2015-01-07</td>\n",
       "      <td>1213.75</td>\n",
       "    </tr>\n",
       "    <tr>\n",
       "      <th>1103</th>\n",
       "      <td>2015-01-08</td>\n",
       "      <td>1206.50</td>\n",
       "    </tr>\n",
       "  </tbody>\n",
       "</table>\n",
       "</div>"
      ],
      "text/plain": [
       "           date    value\n",
       "1099 2015-01-02  1184.25\n",
       "1100 2015-01-05  1192.00\n",
       "1101 2015-01-06  1211.00\n",
       "1102 2015-01-07  1213.75\n",
       "1103 2015-01-08  1206.50"
      ]
     },
     "execution_count": 2,
     "metadata": {},
     "output_type": "execute_result"
    }
   ],
   "source": [
    "# First things first, change 'date' column to actual date \n",
    "# format with 'pd.to_datetime()'\n",
    "gold['date']=pd.to_datetime(gold['date'])\n",
    "\n",
    "# Establish which dates we want to focus on and remove the dates we don't care about from the data. I chose\n",
    "# January 2, 2014 because it was just before Bitcoin hit and it's the start of the first quarter!\n",
    "focus = (gold['date'] > '2014-12-31') & (gold['date'] <= '2020-08-21')\n",
    "\n",
    "# Assign into a main data frame to preserve gold in case we want it later\n",
    "maindf = gold.loc[focus]\n",
    "\n",
    "maindf.head()"
   ]
  },
  {
   "cell_type": "code",
   "execution_count": 3,
   "metadata": {},
   "outputs": [
    {
     "data": {
      "text/html": [
       "<div>\n",
       "<style scoped>\n",
       "    .dataframe tbody tr th:only-of-type {\n",
       "        vertical-align: middle;\n",
       "    }\n",
       "\n",
       "    .dataframe tbody tr th {\n",
       "        vertical-align: top;\n",
       "    }\n",
       "\n",
       "    .dataframe thead th {\n",
       "        text-align: right;\n",
       "    }\n",
       "</style>\n",
       "<table border=\"1\" class=\"dataframe\">\n",
       "  <thead>\n",
       "    <tr style=\"text-align: right;\">\n",
       "      <th></th>\n",
       "      <th>Date</th>\n",
       "      <th>GLD(USD)</th>\n",
       "    </tr>\n",
       "  </thead>\n",
       "  <tbody>\n",
       "    <tr>\n",
       "      <th>1099</th>\n",
       "      <td>2015-01-02</td>\n",
       "      <td>1184.25</td>\n",
       "    </tr>\n",
       "    <tr>\n",
       "      <th>1100</th>\n",
       "      <td>2015-01-05</td>\n",
       "      <td>1192.00</td>\n",
       "    </tr>\n",
       "    <tr>\n",
       "      <th>1101</th>\n",
       "      <td>2015-01-06</td>\n",
       "      <td>1211.00</td>\n",
       "    </tr>\n",
       "    <tr>\n",
       "      <th>1102</th>\n",
       "      <td>2015-01-07</td>\n",
       "      <td>1213.75</td>\n",
       "    </tr>\n",
       "    <tr>\n",
       "      <th>1103</th>\n",
       "      <td>2015-01-08</td>\n",
       "      <td>1206.50</td>\n",
       "    </tr>\n",
       "  </tbody>\n",
       "</table>\n",
       "</div>"
      ],
      "text/plain": [
       "           Date  GLD(USD)\n",
       "1099 2015-01-02   1184.25\n",
       "1100 2015-01-05   1192.00\n",
       "1101 2015-01-06   1211.00\n",
       "1102 2015-01-07   1213.75\n",
       "1103 2015-01-08   1206.50"
      ]
     },
     "execution_count": 3,
     "metadata": {},
     "output_type": "execute_result"
    }
   ],
   "source": [
    "# Renaming the columns to something more 'formal' helps me visualize \n",
    "# the final plot and table I have in mind.\n",
    "maindf.columns = ['Date', 'GLD(USD)']\n",
    "maindf.head()"
   ]
  },
  {
   "cell_type": "code",
   "execution_count": 4,
   "metadata": {},
   "outputs": [
    {
     "data": {
      "text/html": [
       "<div>\n",
       "<style scoped>\n",
       "    .dataframe tbody tr th:only-of-type {\n",
       "        vertical-align: middle;\n",
       "    }\n",
       "\n",
       "    .dataframe tbody tr th {\n",
       "        vertical-align: top;\n",
       "    }\n",
       "\n",
       "    .dataframe thead th {\n",
       "        text-align: right;\n",
       "    }\n",
       "</style>\n",
       "<table border=\"1\" class=\"dataframe\">\n",
       "  <thead>\n",
       "    <tr style=\"text-align: right;\">\n",
       "      <th></th>\n",
       "      <th>count</th>\n",
       "      <th>%</th>\n",
       "    </tr>\n",
       "  </thead>\n",
       "  <tbody>\n",
       "    <tr>\n",
       "      <th>Date</th>\n",
       "      <td>0</td>\n",
       "      <td>0.0</td>\n",
       "    </tr>\n",
       "    <tr>\n",
       "      <th>GLD(USD)</th>\n",
       "      <td>0</td>\n",
       "      <td>0.0</td>\n",
       "    </tr>\n",
       "  </tbody>\n",
       "</table>\n",
       "</div>"
      ],
      "text/plain": [
       "          count    %\n",
       "Date          0  0.0\n",
       "GLD(USD)      0  0.0"
      ]
     },
     "execution_count": 4,
     "metadata": {},
     "output_type": "execute_result"
    }
   ],
   "source": [
    "# We are going to be checking for NaN values in the data quite \n",
    "# frequently in order to monitor changes and loss of data as we clean. \n",
    "# Best to write a function for checking NaN now and speed things up! Let's\n",
    "# have a function that gives us the percentage that NaN values make up in \n",
    "# the data.\n",
    "def show_na(df):\n",
    "    na_df = pd.concat([df.isnull().sum(), 100 * df.isnull().mean()], axis=1)\n",
    "    na_df.columns=['count', '%']\n",
    "    na_df.sort_values(by='count', ascending = False)\n",
    "    return na_df\n",
    "# Use the function\n",
    "show_na(maindf)\n",
    "\n",
    "#Sweet, no Nan's thus far."
   ]
  },
  {
   "cell_type": "markdown",
   "metadata": {},
   "source": [
    "Now that I have imported and sorted Gold(GLD), it's time to bring in a second dataframe and begin merging them together. \n",
    "Each of the dataframes I have for this project have different start dates, but they all have the same end date. So, in order to have consistency across all of the data, I am going to import the Bitcoin(BTC) dataframe next, as it has the most recent start date of 09-17-2014.\n",
    "Then I will merge BTC along the 'Date' column of our main dataframe. This way the dataframe will only keep the dates which they share."
   ]
  },
  {
   "cell_type": "markdown",
   "metadata": {},
   "source": [
    "So, first thing I notice is new Nan's, which means that there were new dates added. This makes sense as Bitcoin is traded all day, every day and the stock market is closed on weekends and certain holidays. So, with that said, we should have about 30% Nan values in the Gold data set. We  will address this at the end. "
   ]
  },
  {
   "cell_type": "code",
   "execution_count": 5,
   "metadata": {},
   "outputs": [
    {
     "data": {
      "text/html": [
       "<div>\n",
       "<style scoped>\n",
       "    .dataframe tbody tr th:only-of-type {\n",
       "        vertical-align: middle;\n",
       "    }\n",
       "\n",
       "    .dataframe tbody tr th {\n",
       "        vertical-align: top;\n",
       "    }\n",
       "\n",
       "    .dataframe thead th {\n",
       "        text-align: right;\n",
       "    }\n",
       "</style>\n",
       "<table border=\"1\" class=\"dataframe\">\n",
       "  <thead>\n",
       "    <tr style=\"text-align: right;\">\n",
       "      <th></th>\n",
       "      <th>date</th>\n",
       "      <th>value</th>\n",
       "    </tr>\n",
       "  </thead>\n",
       "  <tbody>\n",
       "    <tr>\n",
       "      <th>0</th>\n",
       "      <td>2007-08-27</td>\n",
       "      <td>1466.79</td>\n",
       "    </tr>\n",
       "    <tr>\n",
       "      <th>1</th>\n",
       "      <td>2007-08-28</td>\n",
       "      <td>1432.36</td>\n",
       "    </tr>\n",
       "    <tr>\n",
       "      <th>2</th>\n",
       "      <td>2007-08-29</td>\n",
       "      <td>1463.76</td>\n",
       "    </tr>\n",
       "    <tr>\n",
       "      <th>3</th>\n",
       "      <td>2007-08-30</td>\n",
       "      <td>1457.64</td>\n",
       "    </tr>\n",
       "    <tr>\n",
       "      <th>4</th>\n",
       "      <td>2007-08-31</td>\n",
       "      <td>1473.99</td>\n",
       "    </tr>\n",
       "  </tbody>\n",
       "</table>\n",
       "</div>"
      ],
      "text/plain": [
       "         date    value\n",
       "0  2007-08-27  1466.79\n",
       "1  2007-08-28  1432.36\n",
       "2  2007-08-29  1463.76\n",
       "3  2007-08-30  1457.64\n",
       "4  2007-08-31  1473.99"
      ]
     },
     "execution_count": 5,
     "metadata": {},
     "output_type": "execute_result"
    }
   ],
   "source": [
    "# Import the next csv and repeat\n",
    "SP500=pd.read_csv('SP500 2007-2020.csv', sep=',', header=7)\n",
    "SP500.head()"
   ]
  },
  {
   "cell_type": "code",
   "execution_count": 6,
   "metadata": {},
   "outputs": [
    {
     "data": {
      "text/html": [
       "<div>\n",
       "<style scoped>\n",
       "    .dataframe tbody tr th:only-of-type {\n",
       "        vertical-align: middle;\n",
       "    }\n",
       "\n",
       "    .dataframe tbody tr th {\n",
       "        vertical-align: top;\n",
       "    }\n",
       "\n",
       "    .dataframe thead th {\n",
       "        text-align: right;\n",
       "    }\n",
       "</style>\n",
       "<table border=\"1\" class=\"dataframe\">\n",
       "  <thead>\n",
       "    <tr style=\"text-align: right;\">\n",
       "      <th></th>\n",
       "      <th>date</th>\n",
       "      <th>value</th>\n",
       "    </tr>\n",
       "  </thead>\n",
       "  <tbody>\n",
       "    <tr>\n",
       "      <th>0</th>\n",
       "      <td>2007-08-27</td>\n",
       "      <td>1466.79</td>\n",
       "    </tr>\n",
       "    <tr>\n",
       "      <th>1</th>\n",
       "      <td>2007-08-28</td>\n",
       "      <td>1432.36</td>\n",
       "    </tr>\n",
       "    <tr>\n",
       "      <th>2</th>\n",
       "      <td>2007-08-29</td>\n",
       "      <td>1463.76</td>\n",
       "    </tr>\n",
       "    <tr>\n",
       "      <th>3</th>\n",
       "      <td>2007-08-30</td>\n",
       "      <td>1457.64</td>\n",
       "    </tr>\n",
       "    <tr>\n",
       "      <th>4</th>\n",
       "      <td>2007-08-31</td>\n",
       "      <td>1473.99</td>\n",
       "    </tr>\n",
       "  </tbody>\n",
       "</table>\n",
       "</div>"
      ],
      "text/plain": [
       "        date    value\n",
       "0 2007-08-27  1466.79\n",
       "1 2007-08-28  1432.36\n",
       "2 2007-08-29  1463.76\n",
       "3 2007-08-30  1457.64\n",
       "4 2007-08-31  1473.99"
      ]
     },
     "execution_count": 6,
     "metadata": {},
     "output_type": "execute_result"
    }
   ],
   "source": [
    "SP500['date'] = pd.to_datetime(SP500['date'])\n",
    "SP500.head()"
   ]
  },
  {
   "cell_type": "code",
   "execution_count": 7,
   "metadata": {},
   "outputs": [
    {
     "data": {
      "text/html": [
       "<div>\n",
       "<style scoped>\n",
       "    .dataframe tbody tr th:only-of-type {\n",
       "        vertical-align: middle;\n",
       "    }\n",
       "\n",
       "    .dataframe tbody tr th {\n",
       "        vertical-align: top;\n",
       "    }\n",
       "\n",
       "    .dataframe thead th {\n",
       "        text-align: right;\n",
       "    }\n",
       "</style>\n",
       "<table border=\"1\" class=\"dataframe\">\n",
       "  <thead>\n",
       "    <tr style=\"text-align: right;\">\n",
       "      <th></th>\n",
       "      <th>Date</th>\n",
       "      <th>SPX(USD)</th>\n",
       "    </tr>\n",
       "  </thead>\n",
       "  <tbody>\n",
       "    <tr>\n",
       "      <th>0</th>\n",
       "      <td>2007-08-27</td>\n",
       "      <td>1466.79</td>\n",
       "    </tr>\n",
       "    <tr>\n",
       "      <th>1</th>\n",
       "      <td>2007-08-28</td>\n",
       "      <td>1432.36</td>\n",
       "    </tr>\n",
       "    <tr>\n",
       "      <th>2</th>\n",
       "      <td>2007-08-29</td>\n",
       "      <td>1463.76</td>\n",
       "    </tr>\n",
       "    <tr>\n",
       "      <th>3</th>\n",
       "      <td>2007-08-30</td>\n",
       "      <td>1457.64</td>\n",
       "    </tr>\n",
       "    <tr>\n",
       "      <th>4</th>\n",
       "      <td>2007-08-31</td>\n",
       "      <td>1473.99</td>\n",
       "    </tr>\n",
       "  </tbody>\n",
       "</table>\n",
       "</div>"
      ],
      "text/plain": [
       "        Date  SPX(USD)\n",
       "0 2007-08-27   1466.79\n",
       "1 2007-08-28   1432.36\n",
       "2 2007-08-29   1463.76\n",
       "3 2007-08-30   1457.64\n",
       "4 2007-08-31   1473.99"
      ]
     },
     "execution_count": 7,
     "metadata": {},
     "output_type": "execute_result"
    }
   ],
   "source": [
    "# Rename columns for appropriate representation.\n",
    "SP500.columns = ['Date', 'SPX(USD)']\n",
    "SP500.head()"
   ]
  },
  {
   "cell_type": "code",
   "execution_count": 8,
   "metadata": {},
   "outputs": [
    {
     "data": {
      "text/html": [
       "<div>\n",
       "<style scoped>\n",
       "    .dataframe tbody tr th:only-of-type {\n",
       "        vertical-align: middle;\n",
       "    }\n",
       "\n",
       "    .dataframe tbody tr th {\n",
       "        vertical-align: top;\n",
       "    }\n",
       "\n",
       "    .dataframe thead th {\n",
       "        text-align: right;\n",
       "    }\n",
       "</style>\n",
       "<table border=\"1\" class=\"dataframe\">\n",
       "  <thead>\n",
       "    <tr style=\"text-align: right;\">\n",
       "      <th></th>\n",
       "      <th>Date</th>\n",
       "      <th>GLD(USD)</th>\n",
       "      <th>SPX(USD)</th>\n",
       "    </tr>\n",
       "  </thead>\n",
       "  <tbody>\n",
       "    <tr>\n",
       "      <th>0</th>\n",
       "      <td>2015-01-02</td>\n",
       "      <td>1184.25</td>\n",
       "      <td>2058.20</td>\n",
       "    </tr>\n",
       "    <tr>\n",
       "      <th>1</th>\n",
       "      <td>2015-01-05</td>\n",
       "      <td>1192.00</td>\n",
       "      <td>2020.58</td>\n",
       "    </tr>\n",
       "    <tr>\n",
       "      <th>2</th>\n",
       "      <td>2015-01-06</td>\n",
       "      <td>1211.00</td>\n",
       "      <td>2002.61</td>\n",
       "    </tr>\n",
       "    <tr>\n",
       "      <th>3</th>\n",
       "      <td>2015-01-07</td>\n",
       "      <td>1213.75</td>\n",
       "      <td>2025.90</td>\n",
       "    </tr>\n",
       "    <tr>\n",
       "      <th>4</th>\n",
       "      <td>2015-01-08</td>\n",
       "      <td>1206.50</td>\n",
       "      <td>2062.14</td>\n",
       "    </tr>\n",
       "    <tr>\n",
       "      <th>...</th>\n",
       "      <td>...</td>\n",
       "      <td>...</td>\n",
       "      <td>...</td>\n",
       "    </tr>\n",
       "    <tr>\n",
       "      <th>1435</th>\n",
       "      <td>2020-08-17</td>\n",
       "      <td>1949.85</td>\n",
       "      <td>3381.99</td>\n",
       "    </tr>\n",
       "    <tr>\n",
       "      <th>1436</th>\n",
       "      <td>2020-08-18</td>\n",
       "      <td>2005.15</td>\n",
       "      <td>3389.78</td>\n",
       "    </tr>\n",
       "    <tr>\n",
       "      <th>1437</th>\n",
       "      <td>2020-08-19</td>\n",
       "      <td>1993.15</td>\n",
       "      <td>3374.85</td>\n",
       "    </tr>\n",
       "    <tr>\n",
       "      <th>1438</th>\n",
       "      <td>2020-08-20</td>\n",
       "      <td>1928.05</td>\n",
       "      <td>3385.51</td>\n",
       "    </tr>\n",
       "    <tr>\n",
       "      <th>1439</th>\n",
       "      <td>2020-08-21</td>\n",
       "      <td>1932.85</td>\n",
       "      <td>3397.16</td>\n",
       "    </tr>\n",
       "  </tbody>\n",
       "</table>\n",
       "<p>1440 rows × 3 columns</p>\n",
       "</div>"
      ],
      "text/plain": [
       "           Date  GLD(USD)  SPX(USD)\n",
       "0    2015-01-02   1184.25   2058.20\n",
       "1    2015-01-05   1192.00   2020.58\n",
       "2    2015-01-06   1211.00   2002.61\n",
       "3    2015-01-07   1213.75   2025.90\n",
       "4    2015-01-08   1206.50   2062.14\n",
       "...         ...       ...       ...\n",
       "1435 2020-08-17   1949.85   3381.99\n",
       "1436 2020-08-18   2005.15   3389.78\n",
       "1437 2020-08-19   1993.15   3374.85\n",
       "1438 2020-08-20   1928.05   3385.51\n",
       "1439 2020-08-21   1932.85   3397.16\n",
       "\n",
       "[1440 rows x 3 columns]"
      ]
     },
     "execution_count": 8,
     "metadata": {},
     "output_type": "execute_result"
    }
   ],
   "source": [
    "# Since GLD and S&P500 are both stock indexes, they should have almost identical Nan's.\n",
    "maindf=maindf.merge(SP500, how='left', on='Date')\n",
    "maindf"
   ]
  },
  {
   "cell_type": "code",
   "execution_count": 9,
   "metadata": {},
   "outputs": [
    {
     "data": {
      "text/html": [
       "<div>\n",
       "<style scoped>\n",
       "    .dataframe tbody tr th:only-of-type {\n",
       "        vertical-align: middle;\n",
       "    }\n",
       "\n",
       "    .dataframe tbody tr th {\n",
       "        vertical-align: top;\n",
       "    }\n",
       "\n",
       "    .dataframe thead th {\n",
       "        text-align: right;\n",
       "    }\n",
       "</style>\n",
       "<table border=\"1\" class=\"dataframe\">\n",
       "  <thead>\n",
       "    <tr style=\"text-align: right;\">\n",
       "      <th></th>\n",
       "      <th>count</th>\n",
       "      <th>%</th>\n",
       "    </tr>\n",
       "  </thead>\n",
       "  <tbody>\n",
       "    <tr>\n",
       "      <th>Date</th>\n",
       "      <td>0</td>\n",
       "      <td>0.000000</td>\n",
       "    </tr>\n",
       "    <tr>\n",
       "      <th>GLD(USD)</th>\n",
       "      <td>0</td>\n",
       "      <td>0.000000</td>\n",
       "    </tr>\n",
       "    <tr>\n",
       "      <th>SPX(USD)</th>\n",
       "      <td>35</td>\n",
       "      <td>2.430556</td>\n",
       "    </tr>\n",
       "  </tbody>\n",
       "</table>\n",
       "</div>"
      ],
      "text/plain": [
       "          count         %\n",
       "Date          0  0.000000\n",
       "GLD(USD)      0  0.000000\n",
       "SPX(USD)     35  2.430556"
      ]
     },
     "execution_count": 9,
     "metadata": {},
     "output_type": "execute_result"
    }
   ],
   "source": [
    "show_na(maindf)"
   ]
  },
  {
   "cell_type": "code",
   "execution_count": 10,
   "metadata": {},
   "outputs": [
    {
     "data": {
      "text/html": [
       "<div>\n",
       "<style scoped>\n",
       "    .dataframe tbody tr th:only-of-type {\n",
       "        vertical-align: middle;\n",
       "    }\n",
       "\n",
       "    .dataframe tbody tr th {\n",
       "        vertical-align: top;\n",
       "    }\n",
       "\n",
       "    .dataframe thead th {\n",
       "        text-align: right;\n",
       "    }\n",
       "</style>\n",
       "<table border=\"1\" class=\"dataframe\">\n",
       "  <thead>\n",
       "    <tr style=\"text-align: right;\">\n",
       "      <th></th>\n",
       "      <th>date</th>\n",
       "      <th>open</th>\n",
       "      <th>high</th>\n",
       "      <th>low</th>\n",
       "      <th>close</th>\n",
       "      <th>volume</th>\n",
       "    </tr>\n",
       "  </thead>\n",
       "  <tbody>\n",
       "    <tr>\n",
       "      <th>0</th>\n",
       "      <td>1985-02-04</td>\n",
       "      <td>1.9985</td>\n",
       "      <td>2.1025</td>\n",
       "      <td>1.9985</td>\n",
       "      <td>1.9985</td>\n",
       "      <td>50400</td>\n",
       "    </tr>\n",
       "    <tr>\n",
       "      <th>1</th>\n",
       "      <td>1985-02-05</td>\n",
       "      <td>1.9985</td>\n",
       "      <td>2.2065</td>\n",
       "      <td>1.9985</td>\n",
       "      <td>1.9985</td>\n",
       "      <td>18400</td>\n",
       "    </tr>\n",
       "    <tr>\n",
       "      <th>2</th>\n",
       "      <td>1985-02-06</td>\n",
       "      <td>2.1025</td>\n",
       "      <td>2.3648</td>\n",
       "      <td>2.1025</td>\n",
       "      <td>2.1025</td>\n",
       "      <td>65600</td>\n",
       "    </tr>\n",
       "    <tr>\n",
       "      <th>3</th>\n",
       "      <td>1985-02-07</td>\n",
       "      <td>2.1025</td>\n",
       "      <td>2.2065</td>\n",
       "      <td>2.1025</td>\n",
       "      <td>2.1025</td>\n",
       "      <td>40000</td>\n",
       "    </tr>\n",
       "    <tr>\n",
       "      <th>4</th>\n",
       "      <td>1985-02-08</td>\n",
       "      <td>2.1025</td>\n",
       "      <td>2.2065</td>\n",
       "      <td>2.1025</td>\n",
       "      <td>2.1025</td>\n",
       "      <td>25600</td>\n",
       "    </tr>\n",
       "  </tbody>\n",
       "</table>\n",
       "</div>"
      ],
      "text/plain": [
       "         date    open    high     low   close  volume\n",
       "0  1985-02-04  1.9985  2.1025  1.9985  1.9985   50400\n",
       "1  1985-02-05  1.9985  2.2065  1.9985  1.9985   18400\n",
       "2  1985-02-06  2.1025  2.3648  2.1025  2.1025   65600\n",
       "3  1985-02-07  2.1025  2.2065  2.1025  2.1025   40000\n",
       "4  1985-02-08  2.1025  2.2065  2.1025  2.1025   25600"
      ]
     },
     "execution_count": 10,
     "metadata": {},
     "output_type": "execute_result"
    }
   ],
   "source": [
    "# Again, repeat for the remaining CSV's\n",
    "barrick = pd.read_csv('Barrick Gold Corp 1985-2020.csv', sep=',', header=9)\n",
    "\n",
    "barrick.head(5)"
   ]
  },
  {
   "cell_type": "code",
   "execution_count": 11,
   "metadata": {},
   "outputs": [],
   "source": [
    "barrick['date'] = pd.to_datetime(barrick['date'])\n",
    "barrick = barrick[['date', 'close']]"
   ]
  },
  {
   "cell_type": "code",
   "execution_count": 12,
   "metadata": {},
   "outputs": [
    {
     "data": {
      "text/html": [
       "<div>\n",
       "<style scoped>\n",
       "    .dataframe tbody tr th:only-of-type {\n",
       "        vertical-align: middle;\n",
       "    }\n",
       "\n",
       "    .dataframe tbody tr th {\n",
       "        vertical-align: top;\n",
       "    }\n",
       "\n",
       "    .dataframe thead th {\n",
       "        text-align: right;\n",
       "    }\n",
       "</style>\n",
       "<table border=\"1\" class=\"dataframe\">\n",
       "  <thead>\n",
       "    <tr style=\"text-align: right;\">\n",
       "      <th></th>\n",
       "      <th>Date</th>\n",
       "      <th>GOLD(USD)</th>\n",
       "    </tr>\n",
       "  </thead>\n",
       "  <tbody>\n",
       "    <tr>\n",
       "      <th>0</th>\n",
       "      <td>1985-02-04</td>\n",
       "      <td>1.9985</td>\n",
       "    </tr>\n",
       "    <tr>\n",
       "      <th>1</th>\n",
       "      <td>1985-02-05</td>\n",
       "      <td>1.9985</td>\n",
       "    </tr>\n",
       "    <tr>\n",
       "      <th>2</th>\n",
       "      <td>1985-02-06</td>\n",
       "      <td>2.1025</td>\n",
       "    </tr>\n",
       "    <tr>\n",
       "      <th>3</th>\n",
       "      <td>1985-02-07</td>\n",
       "      <td>2.1025</td>\n",
       "    </tr>\n",
       "    <tr>\n",
       "      <th>4</th>\n",
       "      <td>1985-02-08</td>\n",
       "      <td>2.1025</td>\n",
       "    </tr>\n",
       "  </tbody>\n",
       "</table>\n",
       "</div>"
      ],
      "text/plain": [
       "        Date  GOLD(USD)\n",
       "0 1985-02-04     1.9985\n",
       "1 1985-02-05     1.9985\n",
       "2 1985-02-06     2.1025\n",
       "3 1985-02-07     2.1025\n",
       "4 1985-02-08     2.1025"
      ]
     },
     "execution_count": 12,
     "metadata": {},
     "output_type": "execute_result"
    }
   ],
   "source": [
    "barrick.columns = ['Date','GOLD(USD)']\n",
    "barrick.head()"
   ]
  },
  {
   "cell_type": "code",
   "execution_count": 13,
   "metadata": {},
   "outputs": [
    {
     "data": {
      "text/html": [
       "<div>\n",
       "<style scoped>\n",
       "    .dataframe tbody tr th:only-of-type {\n",
       "        vertical-align: middle;\n",
       "    }\n",
       "\n",
       "    .dataframe tbody tr th {\n",
       "        vertical-align: top;\n",
       "    }\n",
       "\n",
       "    .dataframe thead th {\n",
       "        text-align: right;\n",
       "    }\n",
       "</style>\n",
       "<table border=\"1\" class=\"dataframe\">\n",
       "  <thead>\n",
       "    <tr style=\"text-align: right;\">\n",
       "      <th></th>\n",
       "      <th>Date</th>\n",
       "      <th>GLD(USD)</th>\n",
       "      <th>SPX(USD)</th>\n",
       "      <th>GOLD(USD)</th>\n",
       "    </tr>\n",
       "  </thead>\n",
       "  <tbody>\n",
       "    <tr>\n",
       "      <th>0</th>\n",
       "      <td>2015-01-02</td>\n",
       "      <td>1184.25</td>\n",
       "      <td>2058.20</td>\n",
       "      <td>10.4474</td>\n",
       "    </tr>\n",
       "    <tr>\n",
       "      <th>1</th>\n",
       "      <td>2015-01-05</td>\n",
       "      <td>1192.00</td>\n",
       "      <td>2020.58</td>\n",
       "      <td>10.4378</td>\n",
       "    </tr>\n",
       "    <tr>\n",
       "      <th>2</th>\n",
       "      <td>2015-01-06</td>\n",
       "      <td>1211.00</td>\n",
       "      <td>2002.61</td>\n",
       "      <td>10.7921</td>\n",
       "    </tr>\n",
       "    <tr>\n",
       "      <th>3</th>\n",
       "      <td>2015-01-07</td>\n",
       "      <td>1213.75</td>\n",
       "      <td>2025.90</td>\n",
       "      <td>10.6485</td>\n",
       "    </tr>\n",
       "    <tr>\n",
       "      <th>4</th>\n",
       "      <td>2015-01-08</td>\n",
       "      <td>1206.50</td>\n",
       "      <td>2062.14</td>\n",
       "      <td>10.3516</td>\n",
       "    </tr>\n",
       "  </tbody>\n",
       "</table>\n",
       "</div>"
      ],
      "text/plain": [
       "        Date  GLD(USD)  SPX(USD)  GOLD(USD)\n",
       "0 2015-01-02   1184.25   2058.20    10.4474\n",
       "1 2015-01-05   1192.00   2020.58    10.4378\n",
       "2 2015-01-06   1211.00   2002.61    10.7921\n",
       "3 2015-01-07   1213.75   2025.90    10.6485\n",
       "4 2015-01-08   1206.50   2062.14    10.3516"
      ]
     },
     "execution_count": 13,
     "metadata": {},
     "output_type": "execute_result"
    }
   ],
   "source": [
    "maindf = maindf.merge(barrick, how='left', on='Date')\n",
    "maindf.head()"
   ]
  },
  {
   "cell_type": "code",
   "execution_count": 14,
   "metadata": {},
   "outputs": [
    {
     "data": {
      "text/html": [
       "<div>\n",
       "<style scoped>\n",
       "    .dataframe tbody tr th:only-of-type {\n",
       "        vertical-align: middle;\n",
       "    }\n",
       "\n",
       "    .dataframe tbody tr th {\n",
       "        vertical-align: top;\n",
       "    }\n",
       "\n",
       "    .dataframe thead th {\n",
       "        text-align: right;\n",
       "    }\n",
       "</style>\n",
       "<table border=\"1\" class=\"dataframe\">\n",
       "  <thead>\n",
       "    <tr style=\"text-align: right;\">\n",
       "      <th></th>\n",
       "      <th>count</th>\n",
       "      <th>%</th>\n",
       "    </tr>\n",
       "  </thead>\n",
       "  <tbody>\n",
       "    <tr>\n",
       "      <th>Date</th>\n",
       "      <td>0</td>\n",
       "      <td>0.000000</td>\n",
       "    </tr>\n",
       "    <tr>\n",
       "      <th>GLD(USD)</th>\n",
       "      <td>0</td>\n",
       "      <td>0.000000</td>\n",
       "    </tr>\n",
       "    <tr>\n",
       "      <th>SPX(USD)</th>\n",
       "      <td>35</td>\n",
       "      <td>2.430556</td>\n",
       "    </tr>\n",
       "    <tr>\n",
       "      <th>GOLD(USD)</th>\n",
       "      <td>35</td>\n",
       "      <td>2.430556</td>\n",
       "    </tr>\n",
       "  </tbody>\n",
       "</table>\n",
       "</div>"
      ],
      "text/plain": [
       "           count         %\n",
       "Date           0  0.000000\n",
       "GLD(USD)       0  0.000000\n",
       "SPX(USD)      35  2.430556\n",
       "GOLD(USD)     35  2.430556"
      ]
     },
     "execution_count": 14,
     "metadata": {},
     "output_type": "execute_result"
    }
   ],
   "source": [
    "show_na(maindf)"
   ]
  },
  {
   "cell_type": "code",
   "execution_count": 15,
   "metadata": {},
   "outputs": [
    {
     "data": {
      "text/html": [
       "<div>\n",
       "<style scoped>\n",
       "    .dataframe tbody tr th:only-of-type {\n",
       "        vertical-align: middle;\n",
       "    }\n",
       "\n",
       "    .dataframe tbody tr th {\n",
       "        vertical-align: top;\n",
       "    }\n",
       "\n",
       "    .dataframe thead th {\n",
       "        text-align: right;\n",
       "    }\n",
       "</style>\n",
       "<table border=\"1\" class=\"dataframe\">\n",
       "  <thead>\n",
       "    <tr style=\"text-align: right;\">\n",
       "      <th></th>\n",
       "      <th>date</th>\n",
       "      <th>value</th>\n",
       "    </tr>\n",
       "  </thead>\n",
       "  <tbody>\n",
       "    <tr>\n",
       "      <th>0</th>\n",
       "      <td>2007-08-28</td>\n",
       "      <td>11.83</td>\n",
       "    </tr>\n",
       "    <tr>\n",
       "      <th>1</th>\n",
       "      <td>2007-08-29</td>\n",
       "      <td>11.80</td>\n",
       "    </tr>\n",
       "    <tr>\n",
       "      <th>2</th>\n",
       "      <td>2007-08-30</td>\n",
       "      <td>11.86</td>\n",
       "    </tr>\n",
       "    <tr>\n",
       "      <th>3</th>\n",
       "      <td>2007-08-31</td>\n",
       "      <td>11.95</td>\n",
       "    </tr>\n",
       "    <tr>\n",
       "      <th>4</th>\n",
       "      <td>2007-09-03</td>\n",
       "      <td>12.10</td>\n",
       "    </tr>\n",
       "  </tbody>\n",
       "</table>\n",
       "</div>"
      ],
      "text/plain": [
       "         date   value\n",
       "0  2007-08-28   11.83\n",
       "1  2007-08-29   11.80\n",
       "2  2007-08-30   11.86\n",
       "3  2007-08-31   11.95\n",
       "4  2007-09-03   12.10"
      ]
     },
     "execution_count": 15,
     "metadata": {},
     "output_type": "execute_result"
    }
   ],
   "source": [
    "silver = pd.read_csv('silver history.csv', sep=',', header=7)\n",
    "silver.head()"
   ]
  },
  {
   "cell_type": "code",
   "execution_count": 16,
   "metadata": {},
   "outputs": [
    {
     "data": {
      "text/html": [
       "<div>\n",
       "<style scoped>\n",
       "    .dataframe tbody tr th:only-of-type {\n",
       "        vertical-align: middle;\n",
       "    }\n",
       "\n",
       "    .dataframe tbody tr th {\n",
       "        vertical-align: top;\n",
       "    }\n",
       "\n",
       "    .dataframe thead th {\n",
       "        text-align: right;\n",
       "    }\n",
       "</style>\n",
       "<table border=\"1\" class=\"dataframe\">\n",
       "  <thead>\n",
       "    <tr style=\"text-align: right;\">\n",
       "      <th></th>\n",
       "      <th>date</th>\n",
       "      <th>value</th>\n",
       "    </tr>\n",
       "  </thead>\n",
       "  <tbody>\n",
       "    <tr>\n",
       "      <th>0</th>\n",
       "      <td>2007-08-28</td>\n",
       "      <td>11.83</td>\n",
       "    </tr>\n",
       "    <tr>\n",
       "      <th>1</th>\n",
       "      <td>2007-08-29</td>\n",
       "      <td>11.80</td>\n",
       "    </tr>\n",
       "    <tr>\n",
       "      <th>2</th>\n",
       "      <td>2007-08-30</td>\n",
       "      <td>11.86</td>\n",
       "    </tr>\n",
       "    <tr>\n",
       "      <th>3</th>\n",
       "      <td>2007-08-31</td>\n",
       "      <td>11.95</td>\n",
       "    </tr>\n",
       "    <tr>\n",
       "      <th>4</th>\n",
       "      <td>2007-09-03</td>\n",
       "      <td>12.10</td>\n",
       "    </tr>\n",
       "  </tbody>\n",
       "</table>\n",
       "</div>"
      ],
      "text/plain": [
       "        date   value\n",
       "0 2007-08-28   11.83\n",
       "1 2007-08-29   11.80\n",
       "2 2007-08-30   11.86\n",
       "3 2007-08-31   11.95\n",
       "4 2007-09-03   12.10"
      ]
     },
     "execution_count": 16,
     "metadata": {},
     "output_type": "execute_result"
    }
   ],
   "source": [
    "silver['date']=pd.to_datetime(silver['date'])\n",
    "silver.head()"
   ]
  },
  {
   "cell_type": "code",
   "execution_count": 17,
   "metadata": {},
   "outputs": [
    {
     "data": {
      "text/html": [
       "<div>\n",
       "<style scoped>\n",
       "    .dataframe tbody tr th:only-of-type {\n",
       "        vertical-align: middle;\n",
       "    }\n",
       "\n",
       "    .dataframe tbody tr th {\n",
       "        vertical-align: top;\n",
       "    }\n",
       "\n",
       "    .dataframe thead th {\n",
       "        text-align: right;\n",
       "    }\n",
       "</style>\n",
       "<table border=\"1\" class=\"dataframe\">\n",
       "  <thead>\n",
       "    <tr style=\"text-align: right;\">\n",
       "      <th></th>\n",
       "      <th>Date</th>\n",
       "      <th>SLV(USD)</th>\n",
       "    </tr>\n",
       "  </thead>\n",
       "  <tbody>\n",
       "    <tr>\n",
       "      <th>0</th>\n",
       "      <td>2007-08-28</td>\n",
       "      <td>11.83</td>\n",
       "    </tr>\n",
       "    <tr>\n",
       "      <th>1</th>\n",
       "      <td>2007-08-29</td>\n",
       "      <td>11.80</td>\n",
       "    </tr>\n",
       "    <tr>\n",
       "      <th>2</th>\n",
       "      <td>2007-08-30</td>\n",
       "      <td>11.86</td>\n",
       "    </tr>\n",
       "    <tr>\n",
       "      <th>3</th>\n",
       "      <td>2007-08-31</td>\n",
       "      <td>11.95</td>\n",
       "    </tr>\n",
       "    <tr>\n",
       "      <th>4</th>\n",
       "      <td>2007-09-03</td>\n",
       "      <td>12.10</td>\n",
       "    </tr>\n",
       "  </tbody>\n",
       "</table>\n",
       "</div>"
      ],
      "text/plain": [
       "        Date  SLV(USD)\n",
       "0 2007-08-28     11.83\n",
       "1 2007-08-29     11.80\n",
       "2 2007-08-30     11.86\n",
       "3 2007-08-31     11.95\n",
       "4 2007-09-03     12.10"
      ]
     },
     "execution_count": 17,
     "metadata": {},
     "output_type": "execute_result"
    }
   ],
   "source": [
    "silver.columns = ['Date', 'SLV(USD)']\n",
    "silver.head()"
   ]
  },
  {
   "cell_type": "code",
   "execution_count": 18,
   "metadata": {
    "scrolled": false
   },
   "outputs": [
    {
     "data": {
      "text/html": [
       "<div>\n",
       "<style scoped>\n",
       "    .dataframe tbody tr th:only-of-type {\n",
       "        vertical-align: middle;\n",
       "    }\n",
       "\n",
       "    .dataframe tbody tr th {\n",
       "        vertical-align: top;\n",
       "    }\n",
       "\n",
       "    .dataframe thead th {\n",
       "        text-align: right;\n",
       "    }\n",
       "</style>\n",
       "<table border=\"1\" class=\"dataframe\">\n",
       "  <thead>\n",
       "    <tr style=\"text-align: right;\">\n",
       "      <th></th>\n",
       "      <th>Date</th>\n",
       "      <th>GLD(USD)</th>\n",
       "      <th>SPX(USD)</th>\n",
       "      <th>GOLD(USD)</th>\n",
       "      <th>SLV(USD)</th>\n",
       "    </tr>\n",
       "  </thead>\n",
       "  <tbody>\n",
       "    <tr>\n",
       "      <th>0</th>\n",
       "      <td>2015-01-02</td>\n",
       "      <td>1184.25</td>\n",
       "      <td>2058.20</td>\n",
       "      <td>10.4474</td>\n",
       "      <td>15.71</td>\n",
       "    </tr>\n",
       "    <tr>\n",
       "      <th>1</th>\n",
       "      <td>2015-01-05</td>\n",
       "      <td>1192.00</td>\n",
       "      <td>2020.58</td>\n",
       "      <td>10.4378</td>\n",
       "      <td>15.88</td>\n",
       "    </tr>\n",
       "    <tr>\n",
       "      <th>2</th>\n",
       "      <td>2015-01-06</td>\n",
       "      <td>1211.00</td>\n",
       "      <td>2002.61</td>\n",
       "      <td>10.7921</td>\n",
       "      <td>16.29</td>\n",
       "    </tr>\n",
       "    <tr>\n",
       "      <th>3</th>\n",
       "      <td>2015-01-07</td>\n",
       "      <td>1213.75</td>\n",
       "      <td>2025.90</td>\n",
       "      <td>10.6485</td>\n",
       "      <td>16.33</td>\n",
       "    </tr>\n",
       "    <tr>\n",
       "      <th>4</th>\n",
       "      <td>2015-01-08</td>\n",
       "      <td>1206.50</td>\n",
       "      <td>2062.14</td>\n",
       "      <td>10.3516</td>\n",
       "      <td>16.37</td>\n",
       "    </tr>\n",
       "  </tbody>\n",
       "</table>\n",
       "</div>"
      ],
      "text/plain": [
       "        Date  GLD(USD)  SPX(USD)  GOLD(USD)  SLV(USD)\n",
       "0 2015-01-02   1184.25   2058.20    10.4474     15.71\n",
       "1 2015-01-05   1192.00   2020.58    10.4378     15.88\n",
       "2 2015-01-06   1211.00   2002.61    10.7921     16.29\n",
       "3 2015-01-07   1213.75   2025.90    10.6485     16.33\n",
       "4 2015-01-08   1206.50   2062.14    10.3516     16.37"
      ]
     },
     "execution_count": 18,
     "metadata": {},
     "output_type": "execute_result"
    }
   ],
   "source": [
    "maindf = maindf.merge(silver, how='left', on='Date')\n",
    "maindf.head()"
   ]
  },
  {
   "cell_type": "code",
   "execution_count": 19,
   "metadata": {
    "scrolled": true
   },
   "outputs": [
    {
     "data": {
      "text/html": [
       "<div>\n",
       "<style scoped>\n",
       "    .dataframe tbody tr th:only-of-type {\n",
       "        vertical-align: middle;\n",
       "    }\n",
       "\n",
       "    .dataframe tbody tr th {\n",
       "        vertical-align: top;\n",
       "    }\n",
       "\n",
       "    .dataframe thead th {\n",
       "        text-align: right;\n",
       "    }\n",
       "</style>\n",
       "<table border=\"1\" class=\"dataframe\">\n",
       "  <thead>\n",
       "    <tr style=\"text-align: right;\">\n",
       "      <th></th>\n",
       "      <th>count</th>\n",
       "      <th>%</th>\n",
       "    </tr>\n",
       "  </thead>\n",
       "  <tbody>\n",
       "    <tr>\n",
       "      <th>Date</th>\n",
       "      <td>0</td>\n",
       "      <td>0.000000</td>\n",
       "    </tr>\n",
       "    <tr>\n",
       "      <th>GLD(USD)</th>\n",
       "      <td>0</td>\n",
       "      <td>0.000000</td>\n",
       "    </tr>\n",
       "    <tr>\n",
       "      <th>SPX(USD)</th>\n",
       "      <td>35</td>\n",
       "      <td>2.430556</td>\n",
       "    </tr>\n",
       "    <tr>\n",
       "      <th>GOLD(USD)</th>\n",
       "      <td>35</td>\n",
       "      <td>2.430556</td>\n",
       "    </tr>\n",
       "    <tr>\n",
       "      <th>SLV(USD)</th>\n",
       "      <td>11</td>\n",
       "      <td>0.763889</td>\n",
       "    </tr>\n",
       "  </tbody>\n",
       "</table>\n",
       "</div>"
      ],
      "text/plain": [
       "           count         %\n",
       "Date           0  0.000000\n",
       "GLD(USD)       0  0.000000\n",
       "SPX(USD)      35  2.430556\n",
       "GOLD(USD)     35  2.430556\n",
       "SLV(USD)      11  0.763889"
      ]
     },
     "execution_count": 19,
     "metadata": {},
     "output_type": "execute_result"
    }
   ],
   "source": [
    "# Check for NaN's\n",
    "show_na(maindf)"
   ]
  },
  {
   "cell_type": "code",
   "execution_count": 20,
   "metadata": {},
   "outputs": [
    {
     "data": {
      "text/plain": [
       "2018-12-21    1\n",
       "2015-04-01    1\n",
       "2015-08-03    1\n",
       "2016-12-19    1\n",
       "2019-05-09    1\n",
       "Name: Date, dtype: int64"
      ]
     },
     "execution_count": 20,
     "metadata": {},
     "output_type": "execute_result"
    }
   ],
   "source": [
    "# Check for duplicate dates before setting index on \"Date\"\n",
    "maindf['Date'].value_counts().head()"
   ]
  },
  {
   "cell_type": "code",
   "execution_count": 21,
   "metadata": {},
   "outputs": [
    {
     "data": {
      "text/html": [
       "<div>\n",
       "<style scoped>\n",
       "    .dataframe tbody tr th:only-of-type {\n",
       "        vertical-align: middle;\n",
       "    }\n",
       "\n",
       "    .dataframe tbody tr th {\n",
       "        vertical-align: top;\n",
       "    }\n",
       "\n",
       "    .dataframe thead th {\n",
       "        text-align: right;\n",
       "    }\n",
       "</style>\n",
       "<table border=\"1\" class=\"dataframe\">\n",
       "  <thead>\n",
       "    <tr style=\"text-align: right;\">\n",
       "      <th></th>\n",
       "      <th>GLD(USD)</th>\n",
       "      <th>SPX(USD)</th>\n",
       "      <th>GOLD(USD)</th>\n",
       "      <th>SLV(USD)</th>\n",
       "    </tr>\n",
       "    <tr>\n",
       "      <th>Date</th>\n",
       "      <th></th>\n",
       "      <th></th>\n",
       "      <th></th>\n",
       "      <th></th>\n",
       "    </tr>\n",
       "  </thead>\n",
       "  <tbody>\n",
       "    <tr>\n",
       "      <th>2015-01-02</th>\n",
       "      <td>1184.25</td>\n",
       "      <td>2058.20</td>\n",
       "      <td>10.4474</td>\n",
       "      <td>15.71</td>\n",
       "    </tr>\n",
       "    <tr>\n",
       "      <th>2015-01-05</th>\n",
       "      <td>1192.00</td>\n",
       "      <td>2020.58</td>\n",
       "      <td>10.4378</td>\n",
       "      <td>15.88</td>\n",
       "    </tr>\n",
       "    <tr>\n",
       "      <th>2015-01-06</th>\n",
       "      <td>1211.00</td>\n",
       "      <td>2002.61</td>\n",
       "      <td>10.7921</td>\n",
       "      <td>16.29</td>\n",
       "    </tr>\n",
       "    <tr>\n",
       "      <th>2015-01-07</th>\n",
       "      <td>1213.75</td>\n",
       "      <td>2025.90</td>\n",
       "      <td>10.6485</td>\n",
       "      <td>16.33</td>\n",
       "    </tr>\n",
       "    <tr>\n",
       "      <th>2015-01-08</th>\n",
       "      <td>1206.50</td>\n",
       "      <td>2062.14</td>\n",
       "      <td>10.3516</td>\n",
       "      <td>16.37</td>\n",
       "    </tr>\n",
       "  </tbody>\n",
       "</table>\n",
       "</div>"
      ],
      "text/plain": [
       "            GLD(USD)  SPX(USD)  GOLD(USD)  SLV(USD)\n",
       "Date                                               \n",
       "2015-01-02   1184.25   2058.20    10.4474     15.71\n",
       "2015-01-05   1192.00   2020.58    10.4378     15.88\n",
       "2015-01-06   1211.00   2002.61    10.7921     16.29\n",
       "2015-01-07   1213.75   2025.90    10.6485     16.33\n",
       "2015-01-08   1206.50   2062.14    10.3516     16.37"
      ]
     },
     "execution_count": 21,
     "metadata": {},
     "output_type": "execute_result"
    }
   ],
   "source": [
    "#Set index to 'Date'  for graphing and visualization\n",
    "maindf= maindf.set_index('Date')\n",
    "maindf.head()"
   ]
  },
  {
   "cell_type": "code",
   "execution_count": 22,
   "metadata": {},
   "outputs": [
    {
     "data": {
      "text/html": [
       "<div>\n",
       "<style scoped>\n",
       "    .dataframe tbody tr th:only-of-type {\n",
       "        vertical-align: middle;\n",
       "    }\n",
       "\n",
       "    .dataframe tbody tr th {\n",
       "        vertical-align: top;\n",
       "    }\n",
       "\n",
       "    .dataframe thead th {\n",
       "        text-align: right;\n",
       "    }\n",
       "</style>\n",
       "<table border=\"1\" class=\"dataframe\">\n",
       "  <thead>\n",
       "    <tr style=\"text-align: right;\">\n",
       "      <th></th>\n",
       "      <th>GLD(USD)</th>\n",
       "      <th>SPX(USD)</th>\n",
       "      <th>GOLD(USD)</th>\n",
       "      <th>SLV(USD)</th>\n",
       "    </tr>\n",
       "  </thead>\n",
       "  <tbody>\n",
       "    <tr>\n",
       "      <th>count</th>\n",
       "      <td>1440.000000</td>\n",
       "      <td>1405.000000</td>\n",
       "      <td>1405.000000</td>\n",
       "      <td>1429.000000</td>\n",
       "    </tr>\n",
       "    <tr>\n",
       "      <th>mean</th>\n",
       "      <td>1315.668993</td>\n",
       "      <td>2518.914278</td>\n",
       "      <td>14.950097</td>\n",
       "      <td>16.588147</td>\n",
       "    </tr>\n",
       "    <tr>\n",
       "      <th>std</th>\n",
       "      <td>172.994346</td>\n",
       "      <td>397.966880</td>\n",
       "      <td>4.686557</td>\n",
       "      <td>1.869756</td>\n",
       "    </tr>\n",
       "    <tr>\n",
       "      <th>min</th>\n",
       "      <td>1049.600000</td>\n",
       "      <td>1829.080000</td>\n",
       "      <td>5.751500</td>\n",
       "      <td>11.772000</td>\n",
       "    </tr>\n",
       "    <tr>\n",
       "      <th>25%</th>\n",
       "      <td>1213.125000</td>\n",
       "      <td>2110.740000</td>\n",
       "      <td>12.247700</td>\n",
       "      <td>15.350000</td>\n",
       "    </tr>\n",
       "    <tr>\n",
       "      <th>50%</th>\n",
       "      <td>1275.900000</td>\n",
       "      <td>2506.850000</td>\n",
       "      <td>14.250000</td>\n",
       "      <td>16.510000</td>\n",
       "    </tr>\n",
       "    <tr>\n",
       "      <th>75%</th>\n",
       "      <td>1340.825000</td>\n",
       "      <td>2837.540000</td>\n",
       "      <td>17.433800</td>\n",
       "      <td>17.411000</td>\n",
       "    </tr>\n",
       "    <tr>\n",
       "      <th>max</th>\n",
       "      <td>2061.500000</td>\n",
       "      <td>3397.160000</td>\n",
       "      <td>30.130000</td>\n",
       "      <td>29.261000</td>\n",
       "    </tr>\n",
       "  </tbody>\n",
       "</table>\n",
       "</div>"
      ],
      "text/plain": [
       "          GLD(USD)     SPX(USD)    GOLD(USD)     SLV(USD)\n",
       "count  1440.000000  1405.000000  1405.000000  1429.000000\n",
       "mean   1315.668993  2518.914278    14.950097    16.588147\n",
       "std     172.994346   397.966880     4.686557     1.869756\n",
       "min    1049.600000  1829.080000     5.751500    11.772000\n",
       "25%    1213.125000  2110.740000    12.247700    15.350000\n",
       "50%    1275.900000  2506.850000    14.250000    16.510000\n",
       "75%    1340.825000  2837.540000    17.433800    17.411000\n",
       "max    2061.500000  3397.160000    30.130000    29.261000"
      ]
     },
     "execution_count": 22,
     "metadata": {},
     "output_type": "execute_result"
    }
   ],
   "source": [
    "# Now, to deal with the Nan's. The best option I propose is to forward fill the missing values since \n",
    "# the values do not change much over the weekends. Lets be careful, though, and observe the mean, std deviation, \n",
    "# etc of each column before we use ffill.\n",
    "maindf.describe()"
   ]
  },
  {
   "cell_type": "code",
   "execution_count": 23,
   "metadata": {},
   "outputs": [],
   "source": [
    "# Now use ffill to remove the Nan's\n",
    "maindf = maindf.fillna(axis=0, method='ffill')"
   ]
  },
  {
   "cell_type": "code",
   "execution_count": 24,
   "metadata": {},
   "outputs": [
    {
     "data": {
      "text/html": [
       "<div>\n",
       "<style scoped>\n",
       "    .dataframe tbody tr th:only-of-type {\n",
       "        vertical-align: middle;\n",
       "    }\n",
       "\n",
       "    .dataframe tbody tr th {\n",
       "        vertical-align: top;\n",
       "    }\n",
       "\n",
       "    .dataframe thead th {\n",
       "        text-align: right;\n",
       "    }\n",
       "</style>\n",
       "<table border=\"1\" class=\"dataframe\">\n",
       "  <thead>\n",
       "    <tr style=\"text-align: right;\">\n",
       "      <th></th>\n",
       "      <th>GLD(USD)</th>\n",
       "      <th>SPX(USD)</th>\n",
       "      <th>GOLD(USD)</th>\n",
       "      <th>SLV(USD)</th>\n",
       "    </tr>\n",
       "  </thead>\n",
       "  <tbody>\n",
       "    <tr>\n",
       "      <th>count</th>\n",
       "      <td>1440.000000</td>\n",
       "      <td>1440.000000</td>\n",
       "      <td>1440.000000</td>\n",
       "      <td>1440.000000</td>\n",
       "    </tr>\n",
       "    <tr>\n",
       "      <th>mean</th>\n",
       "      <td>1315.668993</td>\n",
       "      <td>2517.509035</td>\n",
       "      <td>14.951365</td>\n",
       "      <td>16.587083</td>\n",
       "    </tr>\n",
       "    <tr>\n",
       "      <th>std</th>\n",
       "      <td>172.994346</td>\n",
       "      <td>398.845185</td>\n",
       "      <td>4.674576</td>\n",
       "      <td>1.866729</td>\n",
       "    </tr>\n",
       "    <tr>\n",
       "      <th>min</th>\n",
       "      <td>1049.600000</td>\n",
       "      <td>1829.080000</td>\n",
       "      <td>5.751500</td>\n",
       "      <td>11.772000</td>\n",
       "    </tr>\n",
       "    <tr>\n",
       "      <th>25%</th>\n",
       "      <td>1213.125000</td>\n",
       "      <td>2109.645000</td>\n",
       "      <td>12.245300</td>\n",
       "      <td>15.349750</td>\n",
       "    </tr>\n",
       "    <tr>\n",
       "      <th>50%</th>\n",
       "      <td>1275.900000</td>\n",
       "      <td>2503.045000</td>\n",
       "      <td>14.259000</td>\n",
       "      <td>16.508500</td>\n",
       "    </tr>\n",
       "    <tr>\n",
       "      <th>75%</th>\n",
       "      <td>1340.825000</td>\n",
       "      <td>2836.915000</td>\n",
       "      <td>17.453350</td>\n",
       "      <td>17.411500</td>\n",
       "    </tr>\n",
       "    <tr>\n",
       "      <th>max</th>\n",
       "      <td>2061.500000</td>\n",
       "      <td>3397.160000</td>\n",
       "      <td>30.130000</td>\n",
       "      <td>29.261000</td>\n",
       "    </tr>\n",
       "  </tbody>\n",
       "</table>\n",
       "</div>"
      ],
      "text/plain": [
       "          GLD(USD)     SPX(USD)    GOLD(USD)     SLV(USD)\n",
       "count  1440.000000  1440.000000  1440.000000  1440.000000\n",
       "mean   1315.668993  2517.509035    14.951365    16.587083\n",
       "std     172.994346   398.845185     4.674576     1.866729\n",
       "min    1049.600000  1829.080000     5.751500    11.772000\n",
       "25%    1213.125000  2109.645000    12.245300    15.349750\n",
       "50%    1275.900000  2503.045000    14.259000    16.508500\n",
       "75%    1340.825000  2836.915000    17.453350    17.411500\n",
       "max    2061.500000  3397.160000    30.130000    29.261000"
      ]
     },
     "execution_count": 24,
     "metadata": {},
     "output_type": "execute_result"
    }
   ],
   "source": [
    "# Lets look at the overall summary of each column again.\n",
    "maindf.describe()"
   ]
  },
  {
   "cell_type": "markdown",
   "metadata": {},
   "source": [
    "So using ffill had no significant impact on the std dev or mean for any of the columns. We can see that the strongest change was probably to silver, with its std dev going from 1.825 to 1.787.  Still, not significant. "
   ]
  },
  {
   "cell_type": "code",
   "execution_count": 25,
   "metadata": {},
   "outputs": [
    {
     "data": {
      "text/plain": [
       "GLD(USD)     0\n",
       "SPX(USD)     0\n",
       "GOLD(USD)    0\n",
       "SLV(USD)     0\n",
       "dtype: int64"
      ]
     },
     "execution_count": 25,
     "metadata": {},
     "output_type": "execute_result"
    }
   ],
   "source": [
    "# Double check, but there should't be any nan values now.\n",
    "maindf.isnull().sum()"
   ]
  },
  {
   "cell_type": "markdown",
   "metadata": {},
   "source": [
    "Sweet, so everything is clean now. No duplicate dates and no NaN  values. Now lets finally take a look to see if there  is any correlation among these datasets. Lets first look at a timeline graph of all the columns to see if anything stands out.\n",
    "\n",
    "I am going to save the data as a separate .csv so that we have it saved in case anything happens or we need it on a separate drive."
   ]
  },
  {
   "cell_type": "code",
   "execution_count": 26,
   "metadata": {},
   "outputs": [],
   "source": [
    "# Create a new CSV file with the cleaned data\n"
   ]
  },
  {
   "cell_type": "code",
   "execution_count": 27,
   "metadata": {},
   "outputs": [
    {
     "data": {
      "text/plain": [
       "Text(0, 0.5, 'Value(USD)')"
      ]
     },
     "execution_count": 27,
     "metadata": {},
     "output_type": "execute_result"
    },
    {
     "data": {
      "image/png": "[encoded data removed]",
      "text/plain": [
       "<Figure size 1152x1440 with 4 Axes>"
      ]
     },
     "metadata": {
      "needs_background": "light"
     },
     "output_type": "display_data"
    }
   ],
   "source": [
    "# Take a look at how they compare:\n",
    "plt.figure(figsize=(16,20))\n",
    "plt.subplot(411)\n",
    "plt.plot(maindf['GLD(USD)'], label='GLD')\n",
    "plt.legend(loc='best', fontsize='small')\n",
    "plt.ylabel('Value(USD)')\n",
    "plt.subplot(412)\n",
    "plt.plot(maindf['SPX(USD)'], label='S&P')\n",
    "plt.legend(loc='best', fontsize='small')\n",
    "plt.ylabel('Value(USD)')\n",
    "plt.subplot(413)\n",
    "plt.plot(maindf['GOLD(USD)'], label='GOLD')\n",
    "plt.legend(loc='best', fontsize='small')\n",
    "plt.ylabel('Value(USD)')\n",
    "plt.subplot(414)\n",
    "plt.plot(maindf['SLV(USD)'], label='SLV')\n",
    "plt.legend(loc='best', fontsize='small')\n",
    "plt.xlabel('Date')\n",
    "plt.ylabel('Value(USD)')"
   ]
  },
  {
   "cell_type": "markdown",
   "metadata": {},
   "source": [
    "Well, just from looking at them, it seems like there might be some truth to this. Around the time of the first lockdowns in 2020 we can clearly see that GLD increased as SPX decreased. Along with this, it seems as Barrick Gold Corp (GOLD) and silver also trended with gold. "
   ]
  },
  {
   "cell_type": "code",
   "execution_count": 28,
   "metadata": {
    "scrolled": false
   },
   "outputs": [
    {
     "data": {
      "text/plain": [
       "Text(0.5, 1.05, 'Correlation of MainDF Features')"
      ]
     },
     "execution_count": 28,
     "metadata": {},
     "output_type": "execute_result"
    },
    {
     "data": {
      "image/png": "[encoded data removed]",
      "text/plain": [
       "<Figure size 576x360 with 2 Axes>"
      ]
     },
     "metadata": {
      "needs_background": "light"
     },
     "output_type": "display_data"
    }
   ],
   "source": [
    "corr = maindf.corr()\n",
    "plt.figure(figsize = (8,5))\n",
    "sns.heatmap(corr,\n",
    "           xticklabels=corr.columns.values,\n",
    "           yticklabels=corr.columns.values,\n",
    "           annot=True, fmt='.2f', linewidths=.30)\n",
    "plt.title('Correlation of MainDF Features', y =1.05,  size=15)"
   ]
  },
  {
   "cell_type": "markdown",
   "metadata": {},
   "source": [
    "That's a lot easier to read and make note of correlations. It looks like the value of gold (GLD) is significantly correlated with the value of the SPX. In addition, silvers correlation to Barrick Gold Corp makes sense as they probably trade in silver as well."
   ]
  },
  {
   "cell_type": "code",
   "execution_count": 29,
   "metadata": {},
   "outputs": [
    {
     "name": "stdout",
     "output_type": "stream",
     "text": [
      "GLD(USD)     1.000000\n",
      "GOLD(USD)    0.837323\n",
      "SPX(USD)     0.714047\n",
      "SLV(USD)     0.596950\n",
      "Name: GLD(USD), dtype: float64 \n",
      "\n"
     ]
    }
   ],
   "source": [
    "# Correlation Scores:\n",
    "print(corr['GLD(USD)'].sort_values(ascending =False), '\\n')"
   ]
  },
  {
   "cell_type": "code",
   "execution_count": 30,
   "metadata": {},
   "outputs": [
    {
     "data": {
      "text/plain": [
       "<seaborn.axisgrid.JointGrid at 0x1357da46688>"
      ]
     },
     "execution_count": 30,
     "metadata": {},
     "output_type": "execute_result"
    },
    {
     "data": {
      "image/png": "[encoded data removed]",
      "text/plain": [
       "<Figure size 432x432 with 3 Axes>"
      ]
     },
     "metadata": {
      "needs_background": "light"
     },
     "output_type": "display_data"
    }
   ],
   "source": [
    "# Using jointplotto visualize relation of GLD with other variables\n",
    "sns.jointplot(x  = maindf['GOLD(USD)'], y=maindf['GLD(USD)'], color='blue')"
   ]
  },
  {
   "cell_type": "code",
   "execution_count": 31,
   "metadata": {},
   "outputs": [
    {
     "data": {
      "text/plain": [
       "<seaborn.axisgrid.JointGrid at 0x1357dc562c8>"
      ]
     },
     "execution_count": 31,
     "metadata": {},
     "output_type": "execute_result"
    },
    {
     "data": {
      "image/png": "[encoded data removed]",
      "text/plain": [
       "<Figure size 432x432 with 3 Axes>"
      ]
     },
     "metadata": {
      "needs_background": "light"
     },
     "output_type": "display_data"
    }
   ],
   "source": [
    "# How about S&P500 and GLD?\n",
    "sns.jointplot(x= maindf['SPX(USD)'], y=maindf['GLD(USD)'], color='gold')"
   ]
  },
  {
   "cell_type": "code",
   "execution_count": 32,
   "metadata": {},
   "outputs": [
    {
     "name": "stdout",
     "output_type": "stream",
     "text": [
      "0.21649424481129353\n"
     ]
    }
   ],
   "source": [
    "# Alright, all fun, but lets write the Random Forest Regression test. Remember our hypothesis and null hypothesis in \n",
    "# order to assign the right variables to the dependent and independent variables. A quick way to test this is to check\n",
    "# for cointergration.\n",
    "\n",
    "SPX = maindf[['SPX(USD)']]\n",
    "GLD = maindf[['GLD(USD)']]\n",
    "GOLD= maindf[['GOLD(USD)']]\n",
    "\n",
    "def adf(ts, maxlag=1):\n",
    "    # make sure we are working with an array, convert if necessary\n",
    "    ts = np.asarray(ts)\n",
    "     \n",
    "    # Get the dimension of the array\n",
    "    nobs = ts.shape[0]\n",
    "         \n",
    "    # Calculate the discrete difference\n",
    "    tsdiff = np.diff(ts)\n",
    "     \n",
    "    # Create a 2d array of lags, trim invalid observations on both sides\n",
    "    tsdall = lagmat(tsdiff[:, None], maxlag, trim='both', original='in')\n",
    "    # Get dimension of the array\n",
    "    nobs = tsdall.shape[0] \n",
    "     \n",
    "    # replace 0 xdiff with level of x\n",
    "    tsdall[:, 0] = ts[-nobs - 1:-1]  \n",
    "    tsdshort = tsdiff[-nobs:]\n",
    "     \n",
    "    # Calculate the linear regression using an ordinary least squares model    \n",
    "    results = OLS(tsdshort, add_trend(tsdall[:, :maxlag + 1], 'c')).fit()\n",
    "    adfstat = results.tvalues[0]\n",
    "     \n",
    "    # Get approx p-value from a precomputed table (from stattools)\n",
    "    pvalue = mackinnonp(adfstat, 'c', N=1)\n",
    "    return pvalue\n",
    " \n",
    "def cadf(x, y):\n",
    "    \"\"\"\n",
    "    Returns the result of the Cointegrated Augmented Dickey-Fuller Test\n",
    "    \"\"\"\n",
    "    # Calculate the linear regression between the two time series\n",
    "    ols_result = OLS(x, y).fit()\n",
    "     \n",
    "    # Augmented Dickey-Fuller unit root test\n",
    "    return adf(ols_result.resid)\n",
    "\n",
    "print(cadf(SPX, GLD))"
   ]
  },
  {
   "cell_type": "markdown",
   "metadata": {},
   "source": [
    "Well, they certainly don't have a cointegration score of anything signifcant. Perhaps after we make them a stationary time series more will become clear."
   ]
  },
  {
   "cell_type": "code",
   "execution_count": 33,
   "metadata": {},
   "outputs": [
    {
     "data": {
      "image/png": "[encoded data removed]",
      "text/plain": [
       "<Figure size 1152x576 with 1 Axes>"
      ]
     },
     "metadata": {
      "needs_background": "light"
     },
     "output_type": "display_data"
    },
    {
     "name": "stdout",
     "output_type": "stream",
     "text": [
      "Results of Dickey-Fuller Test:\n",
      "Test Statistic                   -0.837443\n",
      "p-value                           0.807875\n",
      "#Lags used                       13.000000\n",
      "Number of Observations Used    1426.000000\n",
      "Critical Value (1%)              -3.434944\n",
      "Critical Value (5%)              -2.863569\n",
      "Critical Value (10%)             -2.567850\n",
      "dtype: float64\n"
     ]
    }
   ],
   "source": [
    "# We know from the plots above that our data isn't stationary yet.\n",
    "# To confirm our visual observation on the above plots, we will use the Dickey-Fuller Hypothesis testing.\n",
    "# Null Hypothesis: The series is not stationary.\n",
    "# Alternate Hypothesis: The series is stationary.\n",
    "\n",
    "# Calculate rolling statistics\n",
    "rolmean_SPX = SPX.rolling(window=8, center=False).mean()\n",
    "rolstd_SPX = SPX.rolling(window=8, center=False).std()\n",
    "\n",
    "# Perform Dicky Fuller Test\n",
    "dftest_SPX = adfuller(SPX)\n",
    "\n",
    "# Plot rolling statistics:\n",
    "fig = plt.figure(figsize=(16,8))\n",
    "orig = plt.plot(SPX, color='blue', label='Original')\n",
    "mean =plt.plot(rolmean_SPX, color='red', label='Rolling Mean')\n",
    "std = plt.plot(rolstd_SPX, color='black', label='Rolling Std')\n",
    "plt.legend(loc='best')\n",
    "plt.title('Rolling Mean and Std. for S&P500(USD)')\n",
    "plt.show()\n",
    "\n",
    "# print Dickey-Fuller test results\n",
    "print('Results of Dickey-Fuller Test:')\n",
    "\n",
    "dfoutput = pd.Series(dftest_SPX[0:4], index=['Test Statistic', 'p-value','#Lags used', 'Number of Observations Used'])\n",
    "for key,value in dftest_SPX[4].items():\n",
    "    dfoutput['Critical Value (%s)'%key] = value\n",
    "print(dfoutput)\n"
   ]
  },
  {
   "cell_type": "code",
   "execution_count": 34,
   "metadata": {},
   "outputs": [
    {
     "name": "stdout",
     "output_type": "stream",
     "text": [
      "\n",
      "ADF Value : -0.9843339833652204\n",
      "P Value : 0.7589351518036225\n",
      "\n"
     ]
    },
    {
     "data": {
      "image/png": "[encoded data removed]",
      "text/plain": [
       "<Figure size 1296x432 with 1 Axes>"
      ]
     },
     "metadata": {
      "needs_background": "light"
     },
     "output_type": "display_data"
    }
   ],
   "source": [
    "# Alright, that p-value isn't significant yet. Let's try the log now.\n",
    "plt.figure(figsize=(18,6))\n",
    "plt.plot(SPX.apply(np.log))\n",
    "\n",
    "adf_test_log = adfuller(np.log(SPX))\n",
    "print(f\"\"\"\n",
    "ADF Value : {adf_test_log[0]}\n",
    "P Value : {adf_test_log[1]}\n",
    "\"\"\")"
   ]
  },
  {
   "cell_type": "code",
   "execution_count": 35,
   "metadata": {},
   "outputs": [
    {
     "name": "stdout",
     "output_type": "stream",
     "text": [
      "\n",
      "ADF Value : -9.843684399684733\n",
      "P Value : 4.6804493553688114e-17\n",
      "\n"
     ]
    },
    {
     "data": {
      "image/png": "[encoded data removed]",
      "text/plain": [
       "<Figure size 1296x432 with 1 Axes>"
      ]
     },
     "metadata": {
      "needs_background": "light"
     },
     "output_type": "display_data"
    }
   ],
   "source": [
    "# Still not stationary, so lets try using differencing. We'll start with diff(); which is defaulted to periods=1:\n",
    "plt.figure(figsize=(18,6))\n",
    "plt.plot(SPX.diff().fillna(0))\n",
    "\n",
    "adf_test = adfuller((SPX).diff().fillna(0))\n",
    "print(f\"\"\"\n",
    "ADF Value : {adf_test[0]}\n",
    "P Value : {adf_test[1]}\n",
    "\"\"\")"
   ]
  },
  {
   "cell_type": "code",
   "execution_count": 36,
   "metadata": {},
   "outputs": [
    {
     "data": {
      "text/html": [
       "<div>\n",
       "<style scoped>\n",
       "    .dataframe tbody tr th:only-of-type {\n",
       "        vertical-align: middle;\n",
       "    }\n",
       "\n",
       "    .dataframe tbody tr th {\n",
       "        vertical-align: top;\n",
       "    }\n",
       "\n",
       "    .dataframe thead th {\n",
       "        text-align: right;\n",
       "    }\n",
       "</style>\n",
       "<table border=\"1\" class=\"dataframe\">\n",
       "  <thead>\n",
       "    <tr style=\"text-align: right;\">\n",
       "      <th></th>\n",
       "      <th>SPX(USD)</th>\n",
       "    </tr>\n",
       "    <tr>\n",
       "      <th>Date</th>\n",
       "      <th></th>\n",
       "    </tr>\n",
       "  </thead>\n",
       "  <tbody>\n",
       "    <tr>\n",
       "      <th>2015-01-02</th>\n",
       "      <td>0.00</td>\n",
       "    </tr>\n",
       "    <tr>\n",
       "      <th>2015-01-05</th>\n",
       "      <td>-37.62</td>\n",
       "    </tr>\n",
       "    <tr>\n",
       "      <th>2015-01-06</th>\n",
       "      <td>-17.97</td>\n",
       "    </tr>\n",
       "    <tr>\n",
       "      <th>2015-01-07</th>\n",
       "      <td>23.29</td>\n",
       "    </tr>\n",
       "    <tr>\n",
       "      <th>2015-01-08</th>\n",
       "      <td>36.24</td>\n",
       "    </tr>\n",
       "  </tbody>\n",
       "</table>\n",
       "</div>"
      ],
      "text/plain": [
       "            SPX(USD)\n",
       "Date                \n",
       "2015-01-02      0.00\n",
       "2015-01-05    -37.62\n",
       "2015-01-06    -17.97\n",
       "2015-01-07     23.29\n",
       "2015-01-08     36.24"
      ]
     },
     "execution_count": 36,
     "metadata": {},
     "output_type": "execute_result"
    }
   ],
   "source": [
    "# Sweet, that's far less than the needed p-value of 0.05! Since differencing transforms the data, so let's be sure\n",
    "# we can preserve the original data we worked so hard to clean!\n",
    "SPX_stationary = SPX.diff().fillna(0)\n",
    "SPX_stationary.head()"
   ]
  },
  {
   "cell_type": "code",
   "execution_count": 37,
   "metadata": {},
   "outputs": [
    {
     "data": {
      "image/png": "[encoded data removed]",
      "text/plain": [
       "<Figure size 720x432 with 2 Axes>"
      ]
     },
     "metadata": {
      "needs_background": "light"
     },
     "output_type": "display_data"
    }
   ],
   "source": [
    "# Calculate ACF and PACF\n",
    "fig = plt.figure(figsize=(10,6))\n",
    "ax1 = fig.add_subplot(211)\n",
    "fig = plot_acf(SPX_stationary, lags=12, ax=ax1)\n",
    "ax2 = fig.add_subplot(212)\n",
    "fig = plot_pacf(SPX_stationary, lags=12, ax=ax2)\n",
    "plt.xlabel('Time lag')\n",
    "plt.show()"
   ]
  },
  {
   "cell_type": "code",
   "execution_count": 38,
   "metadata": {},
   "outputs": [],
   "source": [
    "# Looks like ACF and PACF point to p=3 and q=3! Now lets train-test-split!"
   ]
  },
  {
   "cell_type": "code",
   "execution_count": 39,
   "metadata": {},
   "outputs": [
    {
     "name": "stdout",
     "output_type": "stream",
     "text": [
      "\n",
      "ADF Value : -0.8374426963544628\n",
      "P Value : 0.8078754449215946\n",
      "\n",
      "\n",
      "ADF Value : 1.1188771334857688\n",
      "P Value : 0.9953745544389053\n",
      "\n"
     ]
    }
   ],
   "source": [
    "# 01/07/2021 STOP! THIS IS A SEPARATE ATTEMPT AT ARIMAX FROM:\n",
    "# https://barnesanalytics.com/analyzing-multivariate-time-series-using-arimax-in-python-with-statsmodels\n",
    "# ADF Test\n",
    "adf_test_SPX = adfuller(SPX)\n",
    "print(f\"\"\"\n",
    "ADF Value : {adf_test_SPX[0]}\n",
    "P Value : {adf_test_SPX[1]}\n",
    "\"\"\")\n",
    "adf_test_GLD = adfuller(GLD)\n",
    "print(f\"\"\"\n",
    "ADF Value : {adf_test_GLD[0]}\n",
    "P Value : {adf_test_GLD[1]}\n",
    "\"\"\")"
   ]
  },
  {
   "cell_type": "markdown",
   "metadata": {},
   "source": [
    "- ARIMAX is in stats models\n",
    "- X is usually the exogenous variable\n",
    "- 3 parameters; AR, I, MAX\n",
    "- Use the features to predict X\n"
   ]
  },
  {
   "cell_type": "code",
   "execution_count": 40,
   "metadata": {},
   "outputs": [
    {
     "name": "stdout",
     "output_type": "stream",
     "text": [
      "                            OLS Regression Results                            \n",
      "==============================================================================\n",
      "Dep. Variable:               GLD(USD)   R-squared:                       0.510\n",
      "Model:                            OLS   Adj. R-squared:                  0.510\n",
      "Method:                 Least Squares   F-statistic:                     1496.\n",
      "Date:                Fri, 08 Jan 2021   Prob (F-statistic):          6.41e-225\n",
      "Time:                        01:13:34   Log-Likelihood:                -8950.1\n",
      "No. Observations:                1440   AIC:                         1.790e+04\n",
      "Df Residuals:                    1438   BIC:                         1.791e+04\n",
      "Df Model:                           1                                         \n",
      "Covariance Type:            nonrobust                                         \n",
      "==============================================================================\n",
      "                 coef    std err          t      P>|t|      [0.025      0.975]\n",
      "------------------------------------------------------------------------------\n",
      "SPX(USD)       0.3097      0.008     38.677      0.000       0.294       0.325\n",
      "const        535.9727     20.411     26.259      0.000     495.935     576.011\n",
      "==============================================================================\n",
      "Omnibus:                      219.247   Durbin-Watson:                   0.015\n",
      "Prob(Omnibus):                  0.000   Jarque-Bera (JB):              372.713\n",
      "Skew:                           0.980   Prob(JB):                     1.17e-81\n",
      "Kurtosis:                       4.539   Cond. No.                     1.63e+04\n",
      "==============================================================================\n",
      "\n",
      "Warnings:\n",
      "[1] Standard Errors assume that the covariance matrix of the errors is correctly specified.\n",
      "[2] The condition number is large, 1.63e+04. This might indicate that there are\n",
      "strong multicollinearity or other numerical problems.\n"
     ]
    }
   ],
   "source": [
    "maindf['const'] = 1\n",
    "model1= sm.OLS(endog=maindf['GLD(USD)'], exog=maindf[['SPX(USD)','const']].dropna())\n",
    "results1 = model1.fit()\n",
    "print(results1.summary())"
   ]
  },
  {
   "cell_type": "code",
   "execution_count": 41,
   "metadata": {},
   "outputs": [
    {
     "name": "stdout",
     "output_type": "stream",
     "text": [
      "                            OLS Regression Results                            \n",
      "==============================================================================\n",
      "Dep. Variable:                diffGLD   R-squared:                       0.004\n",
      "Model:                            OLS   Adj. R-squared:                  0.003\n",
      "Method:                 Least Squares   F-statistic:                     5.085\n",
      "Date:                Fri, 08 Jan 2021   Prob (F-statistic):             0.0243\n",
      "Time:                        01:13:34   Log-Likelihood:                -5609.0\n",
      "No. Observations:                1439   AIC:                         1.122e+04\n",
      "Df Residuals:                    1437   BIC:                         1.123e+04\n",
      "Df Model:                           1                                         \n",
      "Covariance Type:            nonrobust                                         \n",
      "==============================================================================\n",
      "                 coef    std err          t      P>|t|      [0.025      0.975]\n",
      "------------------------------------------------------------------------------\n",
      "diffSPX        0.0234      0.010      2.255      0.024       0.003       0.044\n",
      "const          0.4984      0.315      1.583      0.114      -0.119       1.116\n",
      "==============================================================================\n",
      "Omnibus:                      261.934   Durbin-Watson:                   1.871\n",
      "Prob(Omnibus):                  0.000   Jarque-Bera (JB):             3875.884\n",
      "Skew:                           0.376   Prob(JB):                         0.00\n",
      "Kurtosis:                      11.005   Cond. No.                         30.3\n",
      "==============================================================================\n",
      "\n",
      "Warnings:\n",
      "[1] Standard Errors assume that the covariance matrix of the errors is correctly specified.\n"
     ]
    }
   ],
   "source": [
    "maindf['diffGLD'] = maindf['GLD(USD)'].diff()\n",
    "maindf['diffSPX'] = maindf['SPX(USD)'].diff()\n",
    "model2 = sm.OLS(endog=maindf['diffGLD'].dropna(), exog=maindf[['diffSPX','const']].dropna())\n",
    "results2 = model2.fit()\n",
    "print(results2.summary())"
   ]
  },
  {
   "cell_type": "code",
   "execution_count": 70,
   "metadata": {},
   "outputs": [
    {
     "name": "stdout",
     "output_type": "stream",
     "text": [
      "\n",
      "Granger Causality\n",
      "number of lags (no zero) 1\n",
      "ssr based F test:         F=0.8764  , p=0.3493  , df_denom=1429, df_num=1\n",
      "ssr based chi2 test:   chi2=0.8782  , p=0.3487  , df=1\n",
      "likelihood ratio test: chi2=0.8780  , p=0.3488  , df=1\n",
      "parameter F test:         F=0.8764  , p=0.3493  , df_denom=1429, df_num=1\n",
      "{1: ({'ssr_ftest': (0.8764100094760746, 0.34934501599359624, 1429.0, 1), 'ssr_chi2test': (0.8782499185232602, 0.3486814609912724, 1), 'lrtest': (0.8779807119244651, 0.34875534316685397, 1), 'params_ftest': (0.876410009475933, 0.3493450159936399, 1429.0, 1.0)}, [<statsmodels.regression.linear_model.RegressionResultsWrapper object at 0x0000013505141748>, <statsmodels.regression.linear_model.RegressionResultsWrapper object at 0x0000013505141CC8>, array([[0., 1., 0.]])])}\n"
     ]
    }
   ],
   "source": [
    "granger_results =sm.tsa.stattools.grangercausalitytests(maindf[['GLD(USD)', 'SPX(USD)']].dropna(),1)\n",
    "print(granger_results)"
   ]
  },
  {
   "cell_type": "code",
   "execution_count": 71,
   "metadata": {
    "scrolled": true
   },
   "outputs": [
    {
     "name": "stdout",
     "output_type": "stream",
     "text": [
      "\n",
      "Granger Causality\n",
      "number of lags (no zero) 1\n",
      "ssr based F test:         F=5.8546  , p=0.0157  , df_denom=1429, df_num=1\n",
      "ssr based chi2 test:   chi2=5.8669  , p=0.0154  , df=1\n",
      "likelihood ratio test: chi2=5.8549  , p=0.0155  , df=1\n",
      "parameter F test:         F=5.8546  , p=0.0157  , df_denom=1429, df_num=1\n",
      "{1: ({'ssr_ftest': (5.854611825140471, 0.015660413789786658, 1429.0, 1), 'ssr_chi2test': (5.866902822674006, 0.01542817230669683, 1), 'lrtest': (5.854917200224008, 0.015533588813858993, 1), 'params_ftest': (5.854611825141902, 0.015660413789772443, 1429.0, 1.0)}, [<statsmodels.regression.linear_model.RegressionResultsWrapper object at 0x0000013505114E08>, <statsmodels.regression.linear_model.RegressionResultsWrapper object at 0x0000013505114E88>, array([[0., 1., 0.]])])}\n"
     ]
    }
   ],
   "source": [
    "print(sm.tsa.stattools.grangercausalitytests(maindf[['SPX(USD)','GLD(USD)']].dropna(),1))"
   ]
  },
  {
   "cell_type": "code",
   "execution_count": 44,
   "metadata": {},
   "outputs": [],
   "source": [
    "def RMSEfromResid(X):\n",
    "    summ = 0\n",
    "    for i in X:\n",
    "        summ+=i**2\n",
    "    return((summ/len(X))**0.5)"
   ]
  },
  {
   "cell_type": "code",
   "execution_count": 47,
   "metadata": {},
   "outputs": [
    {
     "ename": "TypeError",
     "evalue": "'pandas._libs.properties.CachedProperty' object is not callable",
     "output_type": "error",
     "traceback": [
      "\u001b[1;31m---------------------------------------------------------------------------\u001b[0m",
      "\u001b[1;31mTypeError\u001b[0m                                 Traceback (most recent call last)",
      "\u001b[1;32m<ipython-input-47-733ac37bb572>\u001b[0m in \u001b[0;36m<module>\u001b[1;34m\u001b[0m\n\u001b[0;32m     36\u001b[0m \u001b[0mARIMAX_Models\u001b[0m \u001b[1;33m=\u001b[0m \u001b[0mpd\u001b[0m\u001b[1;33m.\u001b[0m\u001b[0mDataFrame\u001b[0m\u001b[1;33m(\u001b[0m\u001b[0mdata\u001b[0m\u001b[1;33m,\u001b[0m\u001b[0mcolumns\u001b[0m\u001b[1;33m=\u001b[0m\u001b[1;33m[\u001b[0m\u001b[1;34m'ARIMAX'\u001b[0m\u001b[1;33m,\u001b[0m \u001b[1;34m'AIC'\u001b[0m\u001b[1;33m,\u001b[0m \u001b[1;34m'BIC'\u001b[0m\u001b[1;33m,\u001b[0m \u001b[1;34m'Maximum Log-Likelihood'\u001b[0m\u001b[1;33m,\u001b[0m \u001b[1;34m'RMSE'\u001b[0m\u001b[1;33m]\u001b[0m\u001b[1;33m,\u001b[0m\u001b[0mdtype\u001b[0m\u001b[1;33m=\u001b[0m\u001b[0mfloat\u001b[0m\u001b[1;33m)\u001b[0m\u001b[1;33m\u001b[0m\u001b[1;33m\u001b[0m\u001b[0m\n\u001b[0;32m     37\u001b[0m \u001b[1;33m\u001b[0m\u001b[0m\n\u001b[1;32m---> 38\u001b[1;33m \u001b[0mevaluate_arimax_model\u001b[0m\u001b[1;33m(\u001b[0m\u001b[0mtrain\u001b[0m\u001b[1;33m,\u001b[0m \u001b[0mex_train\u001b[0m\u001b[1;33m,\u001b[0m \u001b[0morder\u001b[0m\u001b[1;33m)\u001b[0m\u001b[1;33m\u001b[0m\u001b[1;33m\u001b[0m\u001b[0m\n\u001b[0m",
      "\u001b[1;32m<ipython-input-47-733ac37bb572>\u001b[0m in \u001b[0;36mevaluate_arimax_model\u001b[1;34m(y, X, model_order)\u001b[0m\n\u001b[0;32m     13\u001b[0m \u001b[1;32mdef\u001b[0m \u001b[0mevaluate_arimax_model\u001b[0m\u001b[1;33m(\u001b[0m\u001b[0my\u001b[0m\u001b[1;33m,\u001b[0m \u001b[0mX\u001b[0m\u001b[1;33m,\u001b[0m \u001b[0mmodel_order\u001b[0m\u001b[1;33m)\u001b[0m\u001b[1;33m:\u001b[0m\u001b[1;33m\u001b[0m\u001b[1;33m\u001b[0m\u001b[0m\n\u001b[0;32m     14\u001b[0m     \u001b[0mmodel_arimax\u001b[0m \u001b[1;33m=\u001b[0m \u001b[0mARIMA\u001b[0m\u001b[1;33m(\u001b[0m\u001b[0mendog\u001b[0m \u001b[1;33m=\u001b[0m \u001b[0my\u001b[0m\u001b[1;33m,\u001b[0m \u001b[0mexog\u001b[0m\u001b[1;33m=\u001b[0m\u001b[0mX\u001b[0m\u001b[1;33m,\u001b[0m \u001b[0morder\u001b[0m\u001b[1;33m=\u001b[0m\u001b[0mmodel_order\u001b[0m\u001b[1;33m)\u001b[0m\u001b[1;33m.\u001b[0m\u001b[0mfit\u001b[0m\u001b[1;33m(\u001b[0m\u001b[1;33m)\u001b[0m\u001b[1;33m\u001b[0m\u001b[1;33m\u001b[0m\u001b[0m\n\u001b[1;32m---> 15\u001b[1;33m     \u001b[0mAIC\u001b[0m \u001b[1;33m=\u001b[0m \u001b[0mARIMAResults\u001b[0m\u001b[1;33m.\u001b[0m\u001b[0maic\u001b[0m\u001b[1;33m(\u001b[0m\u001b[0mmodel_arimax\u001b[0m\u001b[1;33m)\u001b[0m\u001b[1;33m\u001b[0m\u001b[1;33m\u001b[0m\u001b[0m\n\u001b[0m\u001b[0;32m     16\u001b[0m     \u001b[0mBIC\u001b[0m \u001b[1;33m=\u001b[0m \u001b[0mARIMAResults\u001b[0m\u001b[1;33m.\u001b[0m\u001b[0mbic\u001b[0m\u001b[1;33m(\u001b[0m\u001b[0mmodel_arimax\u001b[0m\u001b[1;33m)\u001b[0m\u001b[1;33m\u001b[0m\u001b[1;33m\u001b[0m\u001b[0m\n\u001b[0;32m     17\u001b[0m     \u001b[0mLLF\u001b[0m \u001b[1;33m=\u001b[0m \u001b[0mmodel_arimax\u001b[0m\u001b[1;33m.\u001b[0m\u001b[0mllf\u001b[0m\u001b[1;33m\u001b[0m\u001b[1;33m\u001b[0m\u001b[0m\n",
      "\u001b[1;31mTypeError\u001b[0m: 'pandas._libs.properties.CachedProperty' object is not callable"
     ]
    }
   ],
   "source": [
    "# Train-Test-Split:\n",
    "date = maindf.index\n",
    "maindf['SPX_lag']=maindf['diffSPX'].shift()\n",
    "maindf.dropna(inplace=True)\n",
    "GLD_end = maindf['GLD(USD)']\n",
    "SPX_ex = maindf['SPX_lag']\n",
    "m = len(GLD_end)\n",
    "size = int(len(GLD_end)*0.8)\n",
    "train, test = GLD_end[0:size], GLD_end[size:m]\n",
    "ex_train, ex_test = SPX_ex[0:size], SPX_ex[size:m]\n",
    "date_test = date[size:]\n",
    "\n",
    "def evaluate_arimax_model(y, X, model_order):\n",
    "    model_arimax = ARIMA(endog = y, exog=X, order=model_order).fit()\n",
    "    AIC = ARIMAResults.aic(model_arimax)\n",
    "    BIC = ARIMAResults.bic(model_arimax)\n",
    "    LLF = model_arimax.llf\n",
    "    RMSE = RMSEfromResid(model_arimax.resid)\n",
    "    return([AIC, BIC, LLF, RMSE])\n",
    "\n",
    "warnings.filterwarnings(\"ignore\")\n",
    "p_values = [0,1,2,3]\n",
    "d_values = [1]\n",
    "q_values = [0,1,2]\n",
    "data = list()\n",
    "for p in p_values:\n",
    "    for d in d_values:\n",
    "        for q in q_values:\n",
    "            order = (p,d,q)\n",
    "            try:\n",
    "                [AIC, BIC, LLF, RMSE] = evaluate_arimax_model(train, ex_train, order)\n",
    "                data.append([order,AIC, BIC, LLF, RMSE])\n",
    "            except:\n",
    "                continue\n",
    "\n",
    "ARIMAX_Models = pd.DataFrame(data,columns=['ARIMAX', 'AIC', 'BIC', 'Maximum Log-Likelihood', 'RMSE'],dtype=float)\n",
    "\n",
    "evaluate_arimax_model(train, ex_train, order)"
   ]
  },
  {
   "cell_type": "code",
   "execution_count": 52,
   "metadata": {},
   "outputs": [
    {
     "name": "stdout",
     "output_type": "stream",
     "text": [
      "Test RMSE: 18.811\n"
     ]
    },
    {
     "ename": "ValueError",
     "evalue": "x and y must have same first dimension, but have shapes (289,) and (288,)",
     "output_type": "error",
     "traceback": [
      "\u001b[1;31m---------------------------------------------------------------------------\u001b[0m",
      "\u001b[1;31mValueError\u001b[0m                                Traceback (most recent call last)",
      "\u001b[1;32m<ipython-input-52-d0236c1b8a79>\u001b[0m in \u001b[0;36m<module>\u001b[1;34m\u001b[0m\n\u001b[0;32m     31\u001b[0m \u001b[1;31m# plot\u001b[0m\u001b[1;33m\u001b[0m\u001b[1;33m\u001b[0m\u001b[1;33m\u001b[0m\u001b[0m\n\u001b[0;32m     32\u001b[0m \u001b[0mplt\u001b[0m\u001b[1;33m.\u001b[0m\u001b[0mrcParams\u001b[0m\u001b[1;33m[\u001b[0m\u001b[1;34m'figure.figsize'\u001b[0m\u001b[1;33m]\u001b[0m \u001b[1;33m=\u001b[0m \u001b[1;33m(\u001b[0m\u001b[1;36m12\u001b[0m\u001b[1;33m,\u001b[0m\u001b[1;36m5\u001b[0m\u001b[1;33m)\u001b[0m\u001b[1;33m\u001b[0m\u001b[1;33m\u001b[0m\u001b[0m\n\u001b[1;32m---> 33\u001b[1;33m \u001b[0mplt\u001b[0m\u001b[1;33m.\u001b[0m\u001b[0mplot\u001b[0m\u001b[1;33m(\u001b[0m\u001b[0mdate_test\u001b[0m\u001b[1;33m,\u001b[0m \u001b[0mtest\u001b[0m\u001b[1;33m,\u001b[0m \u001b[0mcolor\u001b[0m\u001b[1;33m=\u001b[0m\u001b[1;34m'Blue'\u001b[0m\u001b[1;33m,\u001b[0m \u001b[0mlabel\u001b[0m\u001b[1;33m=\u001b[0m\u001b[1;34m'ACTUAL'\u001b[0m\u001b[1;33m,\u001b[0m \u001b[0mmarker\u001b[0m\u001b[1;33m=\u001b[0m\u001b[1;34m'x'\u001b[0m\u001b[1;33m)\u001b[0m\u001b[1;33m\u001b[0m\u001b[1;33m\u001b[0m\u001b[0m\n\u001b[0m\u001b[0;32m     34\u001b[0m \u001b[0mplt\u001b[0m\u001b[1;33m.\u001b[0m\u001b[0mplot\u001b[0m\u001b[1;33m(\u001b[0m\u001b[0mdate_test\u001b[0m\u001b[1;33m,\u001b[0m \u001b[0mpredictions\u001b[0m\u001b[1;33m,\u001b[0m \u001b[0mcolor\u001b[0m\u001b[1;33m=\u001b[0m\u001b[1;34m'green'\u001b[0m\u001b[1;33m,\u001b[0m \u001b[0mlabel\u001b[0m\u001b[1;33m=\u001b[0m\u001b[1;34m'PREDICTED'\u001b[0m\u001b[1;33m,\u001b[0m \u001b[0mmarker\u001b[0m\u001b[1;33m=\u001b[0m\u001b[1;34m'x'\u001b[0m\u001b[1;33m)\u001b[0m\u001b[1;33m\u001b[0m\u001b[1;33m\u001b[0m\u001b[0m\n\u001b[0;32m     35\u001b[0m \u001b[0mplt\u001b[0m\u001b[1;33m.\u001b[0m\u001b[0mlegend\u001b[0m\u001b[1;33m(\u001b[0m\u001b[0mloc\u001b[0m\u001b[1;33m=\u001b[0m\u001b[1;34m'upper right'\u001b[0m\u001b[1;33m)\u001b[0m\u001b[1;33m\u001b[0m\u001b[1;33m\u001b[0m\u001b[0m\n",
      "\u001b[1;32m~\\anaconda3\\lib\\site-packages\\matplotlib\\pyplot.py\u001b[0m in \u001b[0;36mplot\u001b[1;34m(scalex, scaley, data, *args, **kwargs)\u001b[0m\n\u001b[0;32m   2794\u001b[0m     return gca().plot(\n\u001b[0;32m   2795\u001b[0m         *args, scalex=scalex, scaley=scaley, **({\"data\": data} if data\n\u001b[1;32m-> 2796\u001b[1;33m         is not None else {}), **kwargs)\n\u001b[0m\u001b[0;32m   2797\u001b[0m \u001b[1;33m\u001b[0m\u001b[0m\n\u001b[0;32m   2798\u001b[0m \u001b[1;33m\u001b[0m\u001b[0m\n",
      "\u001b[1;32m~\\anaconda3\\lib\\site-packages\\matplotlib\\axes\\_axes.py\u001b[0m in \u001b[0;36mplot\u001b[1;34m(self, scalex, scaley, data, *args, **kwargs)\u001b[0m\n\u001b[0;32m   1663\u001b[0m         \"\"\"\n\u001b[0;32m   1664\u001b[0m         \u001b[0mkwargs\u001b[0m \u001b[1;33m=\u001b[0m \u001b[0mcbook\u001b[0m\u001b[1;33m.\u001b[0m\u001b[0mnormalize_kwargs\u001b[0m\u001b[1;33m(\u001b[0m\u001b[0mkwargs\u001b[0m\u001b[1;33m,\u001b[0m \u001b[0mmlines\u001b[0m\u001b[1;33m.\u001b[0m\u001b[0mLine2D\u001b[0m\u001b[1;33m.\u001b[0m\u001b[0m_alias_map\u001b[0m\u001b[1;33m)\u001b[0m\u001b[1;33m\u001b[0m\u001b[1;33m\u001b[0m\u001b[0m\n\u001b[1;32m-> 1665\u001b[1;33m         \u001b[0mlines\u001b[0m \u001b[1;33m=\u001b[0m \u001b[1;33m[\u001b[0m\u001b[1;33m*\u001b[0m\u001b[0mself\u001b[0m\u001b[1;33m.\u001b[0m\u001b[0m_get_lines\u001b[0m\u001b[1;33m(\u001b[0m\u001b[1;33m*\u001b[0m\u001b[0margs\u001b[0m\u001b[1;33m,\u001b[0m \u001b[0mdata\u001b[0m\u001b[1;33m=\u001b[0m\u001b[0mdata\u001b[0m\u001b[1;33m,\u001b[0m \u001b[1;33m**\u001b[0m\u001b[0mkwargs\u001b[0m\u001b[1;33m)\u001b[0m\u001b[1;33m]\u001b[0m\u001b[1;33m\u001b[0m\u001b[1;33m\u001b[0m\u001b[0m\n\u001b[0m\u001b[0;32m   1666\u001b[0m         \u001b[1;32mfor\u001b[0m \u001b[0mline\u001b[0m \u001b[1;32min\u001b[0m \u001b[0mlines\u001b[0m\u001b[1;33m:\u001b[0m\u001b[1;33m\u001b[0m\u001b[1;33m\u001b[0m\u001b[0m\n\u001b[0;32m   1667\u001b[0m             \u001b[0mself\u001b[0m\u001b[1;33m.\u001b[0m\u001b[0madd_line\u001b[0m\u001b[1;33m(\u001b[0m\u001b[0mline\u001b[0m\u001b[1;33m)\u001b[0m\u001b[1;33m\u001b[0m\u001b[1;33m\u001b[0m\u001b[0m\n",
      "\u001b[1;32m~\\anaconda3\\lib\\site-packages\\matplotlib\\axes\\_base.py\u001b[0m in \u001b[0;36m__call__\u001b[1;34m(self, *args, **kwargs)\u001b[0m\n\u001b[0;32m    223\u001b[0m                 \u001b[0mthis\u001b[0m \u001b[1;33m+=\u001b[0m \u001b[0margs\u001b[0m\u001b[1;33m[\u001b[0m\u001b[1;36m0\u001b[0m\u001b[1;33m]\u001b[0m\u001b[1;33m,\u001b[0m\u001b[1;33m\u001b[0m\u001b[1;33m\u001b[0m\u001b[0m\n\u001b[0;32m    224\u001b[0m                 \u001b[0margs\u001b[0m \u001b[1;33m=\u001b[0m \u001b[0margs\u001b[0m\u001b[1;33m[\u001b[0m\u001b[1;36m1\u001b[0m\u001b[1;33m:\u001b[0m\u001b[1;33m]\u001b[0m\u001b[1;33m\u001b[0m\u001b[1;33m\u001b[0m\u001b[0m\n\u001b[1;32m--> 225\u001b[1;33m             \u001b[1;32myield\u001b[0m \u001b[1;32mfrom\u001b[0m \u001b[0mself\u001b[0m\u001b[1;33m.\u001b[0m\u001b[0m_plot_args\u001b[0m\u001b[1;33m(\u001b[0m\u001b[0mthis\u001b[0m\u001b[1;33m,\u001b[0m \u001b[0mkwargs\u001b[0m\u001b[1;33m)\u001b[0m\u001b[1;33m\u001b[0m\u001b[1;33m\u001b[0m\u001b[0m\n\u001b[0m\u001b[0;32m    226\u001b[0m \u001b[1;33m\u001b[0m\u001b[0m\n\u001b[0;32m    227\u001b[0m     \u001b[1;32mdef\u001b[0m \u001b[0mget_next_color\u001b[0m\u001b[1;33m(\u001b[0m\u001b[0mself\u001b[0m\u001b[1;33m)\u001b[0m\u001b[1;33m:\u001b[0m\u001b[1;33m\u001b[0m\u001b[1;33m\u001b[0m\u001b[0m\n",
      "\u001b[1;32m~\\anaconda3\\lib\\site-packages\\matplotlib\\axes\\_base.py\u001b[0m in \u001b[0;36m_plot_args\u001b[1;34m(self, tup, kwargs)\u001b[0m\n\u001b[0;32m    389\u001b[0m             \u001b[0mx\u001b[0m\u001b[1;33m,\u001b[0m \u001b[0my\u001b[0m \u001b[1;33m=\u001b[0m \u001b[0mindex_of\u001b[0m\u001b[1;33m(\u001b[0m\u001b[0mtup\u001b[0m\u001b[1;33m[\u001b[0m\u001b[1;33m-\u001b[0m\u001b[1;36m1\u001b[0m\u001b[1;33m]\u001b[0m\u001b[1;33m)\u001b[0m\u001b[1;33m\u001b[0m\u001b[1;33m\u001b[0m\u001b[0m\n\u001b[0;32m    390\u001b[0m \u001b[1;33m\u001b[0m\u001b[0m\n\u001b[1;32m--> 391\u001b[1;33m         \u001b[0mx\u001b[0m\u001b[1;33m,\u001b[0m \u001b[0my\u001b[0m \u001b[1;33m=\u001b[0m \u001b[0mself\u001b[0m\u001b[1;33m.\u001b[0m\u001b[0m_xy_from_xy\u001b[0m\u001b[1;33m(\u001b[0m\u001b[0mx\u001b[0m\u001b[1;33m,\u001b[0m \u001b[0my\u001b[0m\u001b[1;33m)\u001b[0m\u001b[1;33m\u001b[0m\u001b[1;33m\u001b[0m\u001b[0m\n\u001b[0m\u001b[0;32m    392\u001b[0m \u001b[1;33m\u001b[0m\u001b[0m\n\u001b[0;32m    393\u001b[0m         \u001b[1;32mif\u001b[0m \u001b[0mself\u001b[0m\u001b[1;33m.\u001b[0m\u001b[0mcommand\u001b[0m \u001b[1;33m==\u001b[0m \u001b[1;34m'plot'\u001b[0m\u001b[1;33m:\u001b[0m\u001b[1;33m\u001b[0m\u001b[1;33m\u001b[0m\u001b[0m\n",
      "\u001b[1;32m~\\anaconda3\\lib\\site-packages\\matplotlib\\axes\\_base.py\u001b[0m in \u001b[0;36m_xy_from_xy\u001b[1;34m(self, x, y)\u001b[0m\n\u001b[0;32m    268\u001b[0m         \u001b[1;32mif\u001b[0m \u001b[0mx\u001b[0m\u001b[1;33m.\u001b[0m\u001b[0mshape\u001b[0m\u001b[1;33m[\u001b[0m\u001b[1;36m0\u001b[0m\u001b[1;33m]\u001b[0m \u001b[1;33m!=\u001b[0m \u001b[0my\u001b[0m\u001b[1;33m.\u001b[0m\u001b[0mshape\u001b[0m\u001b[1;33m[\u001b[0m\u001b[1;36m0\u001b[0m\u001b[1;33m]\u001b[0m\u001b[1;33m:\u001b[0m\u001b[1;33m\u001b[0m\u001b[1;33m\u001b[0m\u001b[0m\n\u001b[0;32m    269\u001b[0m             raise ValueError(\"x and y must have same first dimension, but \"\n\u001b[1;32m--> 270\u001b[1;33m                              \"have shapes {} and {}\".format(x.shape, y.shape))\n\u001b[0m\u001b[0;32m    271\u001b[0m         \u001b[1;32mif\u001b[0m \u001b[0mx\u001b[0m\u001b[1;33m.\u001b[0m\u001b[0mndim\u001b[0m \u001b[1;33m>\u001b[0m \u001b[1;36m2\u001b[0m \u001b[1;32mor\u001b[0m \u001b[0my\u001b[0m\u001b[1;33m.\u001b[0m\u001b[0mndim\u001b[0m \u001b[1;33m>\u001b[0m \u001b[1;36m2\u001b[0m\u001b[1;33m:\u001b[0m\u001b[1;33m\u001b[0m\u001b[1;33m\u001b[0m\u001b[0m\n\u001b[0;32m    272\u001b[0m             raise ValueError(\"x and y can be no greater than 2-D, but have \"\n",
      "\u001b[1;31mValueError\u001b[0m: x and y must have same first dimension, but have shapes (289,) and (288,)"
     ]
    },
    {
     "data": {
      "image/png": "[encoded data removed]",
      "text/plain": [
       "<Figure size 864x360 with 1 Axes>"
      ]
     },
     "metadata": {
      "needs_background": "light"
     },
     "output_type": "display_data"
    }
   ],
   "source": [
    "# For predicting from grid search cv\n",
    "date = maindf.index\n",
    "maindf['SPX_lag']=maindf['diffSPX'].shift()\n",
    "maindf.dropna(inplace=True)\n",
    "GLD_end = maindf['GLD(USD)']\n",
    "SPX_ex = maindf['SPX_lag']\n",
    "m = len(GLD_end)\n",
    "size = int(len(GLD_end)*0.8)\n",
    "train, test = GLD_end[0:size], GLD_end[size:m]\n",
    "ex_train, ex_test = SPX_ex[0:size], SPX_ex[size:m]\n",
    "date_test = date[size:]\n",
    "\n",
    "history = [x for x in train]\n",
    "his_u = ex_train\n",
    "predictions = list()\n",
    "data=list()\n",
    "test_index = list()\n",
    "for t in range(len(ex_test)):\n",
    "    model_arimax = ARIMA(endog = history,exog=his_u, order=(3, 1, 2)).fit(disp=0)\n",
    "    output = model_arimax.forecast(steps=1, exog=ex_test.iloc[[t]])\n",
    "    yhat = output[0]\n",
    "    predictions.append(yhat)\n",
    "    history.append(test[t])\n",
    "    test_index.append(t)\n",
    "    his_u = ex_train.append(ex_test.iloc[test_index])\n",
    "    data.append([date_test[t], test[t], yhat])\n",
    "    \n",
    "RMSE = (mean_squared_error(test, predictions))**0.5\n",
    "arima_results = pd.DataFrame(data,columns=['Period','Actual Price', 'Predicted Price'],dtype=float)\n",
    "print('Test RMSE: %.3f' % RMSE)\n",
    "# plot\n",
    "plt.rcParams['figure.figsize'] = (12,5)\n",
    "plt.plot(date_test, test, color='Blue', label='ACTUAL', marker='x')\n",
    "plt.plot(date_test, predictions, color='green', label='PREDICTED', marker='x')\n",
    "plt.legend(loc='upper right')\n",
    "plt.show()\n",
    "arimax_pred = predictions\n",
    "arimax_RMSE = RMSE"
   ]
  },
  {
   "cell_type": "code",
   "execution_count": 53,
   "metadata": {},
   "outputs": [
    {
     "name": "stdout",
     "output_type": "stream",
     "text": [
      "                             ARIMA Model Results                              \n",
      "==============================================================================\n",
      "Dep. Variable:             D.GLD(USD)   No. Observations:                 1434\n",
      "Model:                 ARIMA(2, 1, 0)   Log Likelihood               -5588.563\n",
      "Method:                       css-mle   S.D. of innovations             11.920\n",
      "Date:                Fri, 08 Jan 2021   AIC                          11189.126\n",
      "Time:                        01:29:40   BIC                          11220.735\n",
      "Sample:                             1   HQIC                         11200.928\n",
      "                                                                              \n",
      "====================================================================================\n",
      "                       coef    std err          z      P>|z|      [0.025      0.975]\n",
      "------------------------------------------------------------------------------------\n",
      "const               -2.5489      2.198     -1.160      0.246      -6.856       1.758\n",
      "SPX(USD)             0.0012      0.001      1.406      0.160      -0.000       0.003\n",
      "SPX_lag             -0.0002      0.010     -0.017      0.987      -0.020       0.020\n",
      "ar.L1.D.GLD(USD)     0.0606      0.026      2.291      0.022       0.009       0.113\n",
      "ar.L2.D.GLD(USD)     0.0221      0.027      0.826      0.409      -0.030       0.074\n",
      "                                    Roots                                    \n",
      "=============================================================================\n",
      "                  Real          Imaginary           Modulus         Frequency\n",
      "-----------------------------------------------------------------------------\n",
      "AR.1            5.4956           +0.0000j            5.4956            0.0000\n",
      "AR.2           -8.2422           +0.0000j            8.2422            0.5000\n",
      "-----------------------------------------------------------------------------\n"
     ]
    }
   ],
   "source": [
    "maindf['SPX_lag']=maindf['diffSPX'].shift()\n",
    "maindf.dropna(inplace=True)\n",
    "model3=sm.tsa.ARIMA(endog=maindf['GLD(USD)'], exog=maindf[['SPX(USD)','SPX_lag']], order=[2,1,0])\n",
    "results3=model3.fit()\n",
    "print(results3.summary())"
   ]
  },
  {
   "cell_type": "code",
   "execution_count": 55,
   "metadata": {},
   "outputs": [
    {
     "name": "stdout",
     "output_type": "stream",
     "text": [
      "                             ARIMA Model Results                              \n",
      "==============================================================================\n",
      "Dep. Variable:             D.SPX(USD)   No. Observations:                 1432\n",
      "Model:                 ARIMA(2, 1, 0)   Log Likelihood               -6875.778\n",
      "Method:                       css-mle   S.D. of innovations             29.446\n",
      "Date:                Fri, 08 Jan 2021   AIC                          13763.556\n",
      "Time:                        01:29:56   BIC                          13795.157\n",
      "Sample:                             1   HQIC                         13775.356\n",
      "                                                                              \n",
      "====================================================================================\n",
      "                       coef    std err          z      P>|z|      [0.025      0.975]\n",
      "------------------------------------------------------------------------------------\n",
      "const               -6.2149      5.474     -1.135      0.256     -16.943       4.513\n",
      "GLD(USD)             0.0054      0.004      1.320      0.187      -0.003       0.014\n",
      "GLD_lag              0.0135      0.064      0.211      0.833      -0.112       0.139\n",
      "ar.L1.D.SPX(USD)    -0.1952      0.026     -7.388      0.000      -0.247      -0.143\n",
      "ar.L2.D.SPX(USD)     0.0994      0.026      3.782      0.000       0.048       0.151\n",
      "                                    Roots                                    \n",
      "=============================================================================\n",
      "                  Real          Imaginary           Modulus         Frequency\n",
      "-----------------------------------------------------------------------------\n",
      "AR.1           -2.3381           +0.0000j            2.3381            0.5000\n",
      "AR.2            4.3018           +0.0000j            4.3018            0.0000\n",
      "-----------------------------------------------------------------------------\n"
     ]
    }
   ],
   "source": [
    "maindf['GLD_lag']=maindf['diffGLD'].shift()\n",
    "maindf.dropna(inplace=True)\n",
    "model3=sm.tsa.ARIMA(endog=maindf['SPX(USD)'], exog=maindf[['GLD(USD)','GLD_lag']], order=[2,1,0])\n",
    "results3=model3.fit()\n",
    "print(results3.summary())"
   ]
  },
  {
   "cell_type": "code",
   "execution_count": 56,
   "metadata": {},
   "outputs": [
    {
     "name": "stdout",
     "output_type": "stream",
     "text": [
      "                             ARIMA Model Results                              \n",
      "==============================================================================\n",
      "Dep. Variable:             D.GLD(USD)   No. Observations:                 1432\n",
      "Model:                 ARIMA(2, 1, 0)   Log Likelihood               -5580.323\n",
      "Method:                       css-mle   S.D. of innovations             11.917\n",
      "Date:                Fri, 08 Jan 2021   AIC                          11170.646\n",
      "Time:                        01:30:22   BIC                          11196.980\n",
      "Sample:                             1   HQIC                         11180.479\n",
      "                                                                              \n",
      "====================================================================================\n",
      "                       coef    std err          z      P>|z|      [0.025      0.975]\n",
      "------------------------------------------------------------------------------------\n",
      "const               -2.7344      2.199     -1.244      0.214      -7.044       1.575\n",
      "SPX(USD)             0.0013      0.001      1.482      0.138      -0.000       0.003\n",
      "ar.L1.D.GLD(USD)     0.0607      0.026      2.296      0.022       0.009       0.112\n",
      "ar.L2.D.GLD(USD)     0.0220      0.027      0.822      0.411      -0.030       0.074\n",
      "                                    Roots                                    \n",
      "=============================================================================\n",
      "                  Real          Imaginary           Modulus         Frequency\n",
      "-----------------------------------------------------------------------------\n",
      "AR.1            5.5063           +0.0000j            5.5063            0.0000\n",
      "AR.2           -8.2674           +0.0000j            8.2674            0.5000\n",
      "-----------------------------------------------------------------------------\n"
     ]
    }
   ],
   "source": [
    "\n",
    "model3=sm.tsa.ARIMA(endog=maindf['GLD(USD)'], exog=maindf['SPX(USD)'], order=[2,1,0])\n",
    "results3=model3.fit()\n",
    "print(results3.summary())"
   ]
  },
  {
   "cell_type": "code",
   "execution_count": 57,
   "metadata": {},
   "outputs": [
    {
     "name": "stdout",
     "output_type": "stream",
     "text": [
      "                             ARIMA Model Results                              \n",
      "==============================================================================\n",
      "Dep. Variable:             D.SPX(USD)   No. Observations:                 1432\n",
      "Model:                 ARIMA(2, 1, 0)   Log Likelihood               -6875.800\n",
      "Method:                       css-mle   S.D. of innovations             29.446\n",
      "Date:                Fri, 08 Jan 2021   AIC                          13761.599\n",
      "Time:                        01:30:24   BIC                          13787.933\n",
      "Sample:                             1   HQIC                         13771.432\n",
      "                                                                              \n",
      "====================================================================================\n",
      "                       coef    std err          z      P>|z|      [0.025      0.975]\n",
      "------------------------------------------------------------------------------------\n",
      "const               -6.4458      5.445     -1.184      0.236     -17.118       4.226\n",
      "GLD(USD)             0.0056      0.004      1.372      0.170      -0.002       0.014\n",
      "ar.L1.D.SPX(USD)    -0.1946      0.026     -7.405      0.000      -0.246      -0.143\n",
      "ar.L2.D.SPX(USD)     0.0995      0.026      3.785      0.000       0.048       0.151\n",
      "                                    Roots                                    \n",
      "=============================================================================\n",
      "                  Real          Imaginary           Modulus         Frequency\n",
      "-----------------------------------------------------------------------------\n",
      "AR.1           -2.3398           +0.0000j            2.3398            0.5000\n",
      "AR.2            4.2965           +0.0000j            4.2965            0.0000\n",
      "-----------------------------------------------------------------------------\n"
     ]
    }
   ],
   "source": [
    "\n",
    "model3=sm.tsa.ARIMA(endog=maindf['SPX(USD)'], exog=maindf['GLD(USD)'], order=[2,1,0])\n",
    "results3=model3.fit()\n",
    "print(results3.summary())"
   ]
  },
  {
   "cell_type": "code",
   "execution_count": null,
   "metadata": {},
   "outputs": [],
   "source": []
  }
 ],
 "metadata": {
  "kernelspec": {
   "display_name": "Python 3",
   "language": "python",
   "name": "python3"
  },
  "language_info": {
   "codemirror_mode": {
    "name": "ipython",
    "version": 3
   },
   "file_extension": ".py",
   "mimetype": "text/x-python",
   "name": "python",
   "nbconvert_exporter": "python",
   "pygments_lexer": "ipython3",
   "version": "3.7.6"
  }
 },
 "nbformat": 4,
 "nbformat_minor": 4
}
